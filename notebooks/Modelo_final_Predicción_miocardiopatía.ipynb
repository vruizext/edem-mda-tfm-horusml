{
  "nbformat": 4,
  "nbformat_minor": 0,
  "metadata": {
    "colab": {
      "provenance": [],
      "gpuType": "T4",
      "machine_shape": "hm"
    },
    "kernelspec": {
      "name": "python3",
      "display_name": "Python 3"
    },
    "language_info": {
      "name": "python"
    },
    "accelerator": "GPU"
  },
  "cells": [
    {
      "cell_type": "code",
      "source": [
        "!pip install av\n",
        "!pip install -qq --upgrade albumentations\n",
        "!pip install -qq gdown"
      ],
      "metadata": {
        "id": "HFWuI_mM2QMg",
        "colab": {
          "base_uri": "https://localhost:8080/"
        },
        "outputId": "5b5b4358-c204-4312-bdce-d9576c8f630e"
      },
      "execution_count": null,
      "outputs": [
        {
          "output_type": "stream",
          "name": "stdout",
          "text": [
            "Collecting av\n",
            "  Downloading av-10.0.0-cp310-cp310-manylinux_2_17_x86_64.manylinux2014_x86_64.whl (31.0 MB)\n",
            "\u001b[2K     \u001b[90m━━━━━━━━━━━━━━━━━━━━━━━━━━━━━━━━━━━━━━━━\u001b[0m \u001b[32m31.0/31.0 MB\u001b[0m \u001b[31m45.8 MB/s\u001b[0m eta \u001b[36m0:00:00\u001b[0m\n",
            "\u001b[?25hInstalling collected packages: av\n",
            "Successfully installed av-10.0.0\n"
          ]
        }
      ]
    },
    {
      "cell_type": "code",
      "source": [
        "# importar librerias necesarias\n",
        "import os\n",
        "import matplotlib.pyplot as plt\n",
        "import seaborn as sns\n",
        "import numpy as np\n",
        "import pandas as pd\n",
        "import cv2\n",
        "import av\n",
        "import albumentations as A\n",
        "import gc\n",
        "from fastai.vision.all import *\n",
        "from sklearn.metrics import roc_auc_score, accuracy_score, precision_score, recall_score, fbeta_score, roc_curve, auc\n",
        "from fastai.callback.core import Callback\n",
        "from sklearn.model_selection import train_test_split\n",
        "from sklearn.calibration import calibration_curve\n",
        "\n",
        "import warnings\n",
        "warnings.filterwarnings(\"ignore\")"
      ],
      "metadata": {
        "id": "b-Q6-uvisLaN"
      },
      "execution_count": null,
      "outputs": []
    },
    {
      "cell_type": "code",
      "source": [
        "# establecer semillas aleatorias para garantizar la reproducibilidad de los resultados\n",
        "def seed_everything (seed):\n",
        "    random.seed(seed)\n",
        "    os.environ['PYTHONHASHSEED'] = str(seed)\n",
        "    np.random.seed (seed)\n",
        "    torch.manual_seed (seed)\n",
        "    torch.cuda.manual_seed (seed)\n",
        "    torch.backends.cudnn.deterministic = True\n",
        "    torch.backends.cudnn.benchmark = True\n",
        "    set_seed(random_seed, reproducible=True)"
      ],
      "metadata": {
        "id": "0VuVpew4CtPX"
      },
      "execution_count": null,
      "outputs": []
    },
    {
      "cell_type": "markdown",
      "source": [
        "# Parámetros de pre-procesado"
      ],
      "metadata": {
        "id": "TD-dzryTQOxW"
      }
    },
    {
      "cell_type": "code",
      "source": [
        "# aplicar ajuste contraste True / False\n",
        "use_bcet = False\n",
        "\n",
        "# oversampling de clases minoritarias 0-30 (3) / 40-50 (4)\n",
        "# numero de videos total por franja que queremos obtener con 0 no hay oversampling\n",
        "oversampling_min = 0\n",
        "\n",
        "# definir frame inicial y numero maximo\n",
        "start_frame=0\n",
        "max_frames=120"
      ],
      "metadata": {
        "id": "OiR_VYhpQMY5"
      },
      "execution_count": null,
      "outputs": []
    },
    {
      "cell_type": "markdown",
      "source": [
        "# 1. Extraer frames"
      ],
      "metadata": {
        "id": "ixsml-SyOJbV"
      }
    },
    {
      "cell_type": "code",
      "source": [
        "# descargar los datos, id oculto por privacidad\n",
        "!gdown XXXXXXXXXXXXXXXXXXXXXXXXXXXX"
      ],
      "metadata": {
        "id": "t_BTviVNxQtz"
      },
      "execution_count": null,
      "outputs": []
    },
    {
      "cell_type": "code",
      "source": [
        "# descomprimir el zip\n",
        "!unzip -qq data.zip -d tfm-data"
      ],
      "metadata": {
        "id": "LIWiX4jFyul_",
        "colab": {
          "base_uri": "https://localhost:8080/"
        },
        "outputId": "0662792e-dd8f-4a0d-fa6f-1bf57e0d3966"
      },
      "execution_count": null,
      "outputs": [
        {
          "output_type": "stream",
          "name": "stdout",
          "text": [
            "warning:  stripped absolute path spec from /\n",
            "mapname:  conversion of  failed\n"
          ]
        }
      ]
    },
    {
      "cell_type": "code",
      "source": [
        "# vamos a trabajar en el directorio en el que están los datos\n",
        "%cd ./tfm-data"
      ],
      "metadata": {
        "id": "nMY_PPenMIym",
        "colab": {
          "base_uri": "https://localhost:8080/"
        },
        "outputId": "b3048e30-ed2b-450c-86e4-1f143d53dd08"
      },
      "execution_count": null,
      "outputs": [
        {
          "output_type": "stream",
          "name": "stdout",
          "text": [
            "/content/tfm-data\n"
          ]
        }
      ]
    },
    {
      "cell_type": "code",
      "source": [
        "# usamos Path para acceder más fácilmente\n",
        "data_path = Path('./videos')\n",
        "data_path.ls()"
      ],
      "metadata": {
        "id": "WRlyHM9n1B55",
        "colab": {
          "base_uri": "https://localhost:8080/"
        },
        "outputId": "be56f4c2-5adc-4108-bf47-3920593fa84a"
      },
      "execution_count": null,
      "outputs": [
        {
          "output_type": "execute_result",
          "data": {
            "text/plain": [
              "(#1480) [Path('videos/0X1CD114B3DED2907A.avi'),Path('videos/0X2CE2BBE899FB30A.avi'),Path('videos/0X3C68A75B6DE0D08C.avi'),Path('videos/0X1F7984F85C024A44.avi'),Path('videos/0X3C67FDA7B1C1ECFB.avi'),Path('videos/0X2AB73E07EA2A8D7F.avi'),Path('videos/0X2C073A809964F995.avi'),Path('videos/0X2F3CE7185C80B272.avi'),Path('videos/0X1EE30D34D1CBF56A.avi'),Path('videos/0X1AD3CDEC841DA50.avi')...]"
            ]
          },
          "metadata": {},
          "execution_count": 8
        }
      ]
    },
    {
      "cell_type": "code",
      "source": [
        "# con get_files obtenemos referencias a los ficheros de los videos\n",
        "video_paths = get_files(data_path, extensions='.avi')\n",
        "video_paths[0:4]"
      ],
      "metadata": {
        "id": "6DuENuLJ1y1U",
        "colab": {
          "base_uri": "https://localhost:8080/"
        },
        "outputId": "05ec8014-4b10-4247-b383-bc362fb38eb4"
      },
      "execution_count": null,
      "outputs": [
        {
          "output_type": "execute_result",
          "data": {
            "text/plain": [
              "(#4) [Path('videos/0X1CD114B3DED2907A.avi'),Path('videos/0X2CE2BBE899FB30A.avi'),Path('videos/0X3C68A75B6DE0D08C.avi'),Path('videos/0X1F7984F85C024A44.avi')]"
            ]
          },
          "metadata": {},
          "execution_count": 9
        }
      ]
    },
    {
      "cell_type": "code",
      "source": [
        "video_paths[0]"
      ],
      "metadata": {
        "id": "ANvNk-rYpECB",
        "colab": {
          "base_uri": "https://localhost:8080/"
        },
        "outputId": "cfe97398-71e4-45a7-b6ff-ca9155db97fd"
      },
      "execution_count": null,
      "outputs": [
        {
          "output_type": "execute_result",
          "data": {
            "text/plain": [
              "Path('videos/0X1CD114B3DED2907A.avi')"
            ]
          },
          "metadata": {},
          "execution_count": 10
        }
      ]
    },
    {
      "cell_type": "code",
      "source": [
        "# creamos un nuevo directorio para las frames\n",
        "path_frames = Path('/content/tfm-data')/'frames'\n",
        "if not path_frames.exists(): path_frames.mkdir()"
      ],
      "metadata": {
        "id": "4lk6gGhHOKl8"
      },
      "execution_count": null,
      "outputs": []
    },
    {
      "cell_type": "code",
      "source": [
        "path_frames"
      ],
      "metadata": {
        "id": "AHOqtDjeJZVW",
        "colab": {
          "base_uri": "https://localhost:8080/"
        },
        "outputId": "fd5230a7-2f8f-4c6b-b2a6-25df47420896"
      },
      "execution_count": null,
      "outputs": [
        {
          "output_type": "execute_result",
          "data": {
            "text/plain": [
              "Path('/content/tfm-data/frames')"
            ]
          },
          "metadata": {},
          "execution_count": 12
        }
      ]
    },
    {
      "cell_type": "code",
      "source": [
        "video_path = video_paths[0]\n",
        "video_path.stem"
      ],
      "metadata": {
        "id": "G-sNh1yGwWSm",
        "colab": {
          "base_uri": "https://localhost:8080/",
          "height": 36
        },
        "outputId": "f0f24d2e-28ca-431f-8e12-d5eb7726474a"
      },
      "execution_count": null,
      "outputs": [
        {
          "output_type": "execute_result",
          "data": {
            "text/plain": [
              "'0X1CD114B3DED2907A'"
            ],
            "application/vnd.google.colaboratory.intrinsic+json": {
              "type": "string"
            }
          },
          "metadata": {},
          "execution_count": 13
        }
      ]
    },
    {
      "cell_type": "code",
      "source": [
        "# Balanced Contrast Enhancement Technique (BCET). Esta función realiza la técnica de mejora de contraste equilibrado BCET en una imagen.\n",
        "def bcet(image, ex=110, low=0, high=255):\n",
        "    # Calcular el valor medio cuadrado de la imagen\n",
        "    s = np.mean(np.power(image, 2)) # mean squared\n",
        "    # Calcular el valor medio de la imagen\n",
        "    e = np.mean(image)\n",
        "    # Encontrar el valor mínimo y máximo de la imagen\n",
        "    l = np.min(image)\n",
        "    h = np.max(image)\n",
        "\n",
        "    # Valores de salida personalizables\n",
        "    L = low # valor mínimo de salida\n",
        "    H = high # valor máximo de salida\n",
        "    E = ex # valor medio de salida\n",
        "\n",
        "    # Calcular el parámetro b\n",
        "    b_nom = ((h**2)*(E-L))-(s*(H-L))+((l**2)*(H-E))\n",
        "    b_den = 2*((h*(E-L))-(e*(H-L))+(l*(H-E)))\n",
        "    b = b_nom/b_den\n",
        "\n",
        "    # Calcular el parámetro a\n",
        "    a1 = H-L\n",
        "    a2 = h-l\n",
        "    a3 = h+l-(2*b)\n",
        "    a = a1/(a2*a3)\n",
        "\n",
        "    # Calcular el parámetro c\n",
        "    c = L-(a*(l-b)**2)\n",
        "\n",
        "    # Aplicar la técnica BCET para mejorar el contraste\n",
        "    new_image = a*((image - b)**2) + c\n",
        "    return new_image"
      ],
      "metadata": {
        "id": "xTnzWdVsPJB4"
      },
      "execution_count": null,
      "outputs": []
    },
    {
      "cell_type": "code",
      "source": [
        "# función que extrae y salva frames de un video\n",
        "def avi2frames(video_path, path_frames=path_frames, start_frame=start_frame, max_frames=max_frames):\n",
        "    dest_path = path_frames/video_path.stem\n",
        "    # creamos el directorio para guardar las frames\n",
        "    dest_path.mkdir(parents=True, exist_ok=True)\n",
        "    # abrimos el video\n",
        "    video = av.open(str(video_path))\n",
        "    # extraemos las frames y convertimos a escala de grises y aplicamos bcet\n",
        "    frames = [frame.to_image().convert(\"L\") for frame in video.decode(0)]\n",
        "    # nos quedamos con max_frames, empezando en start_frame\n",
        "    if len(frames) < (start_frame + max_frames):\n",
        "      start_frame = max(0, len(frames) - max_frames)\n",
        "    for i, frame in enumerate(frames[start_frame:(start_frame + max_frames)]):\n",
        "        if use_bcet == True: # aplicamos ajuste de contraste\n",
        "          frame = bcet(np.array(frame), low=0, ex=50, high=255)\n",
        "        else:\n",
        "          frame = np.array(frame)\n",
        "        # guardamos cada frame, numerada, dentro del directorio del video\n",
        "        cv2.imwrite(str(dest_path/f'{i}.png'), frame)"
      ],
      "metadata": {
        "id": "wmHHpYgwv5P9"
      },
      "execution_count": null,
      "outputs": []
    },
    {
      "cell_type": "code",
      "source": [
        "# probamos que funciona correctamente\n",
        "avi2frames(video_paths[100], start_frame=start_frame, max_frames=max_frames)\n",
        "len(path_frames.ls()[0].ls())"
      ],
      "metadata": {
        "id": "sE-GckD1xiiX",
        "colab": {
          "base_uri": "https://localhost:8080/"
        },
        "outputId": "3a9fa8c9-8524-4fec-8dd4-9112551bfecf"
      },
      "execution_count": null,
      "outputs": [
        {
          "output_type": "execute_result",
          "data": {
            "text/plain": [
              "120"
            ]
          },
          "metadata": {},
          "execution_count": 16
        }
      ]
    },
    {
      "cell_type": "code",
      "source": [
        "# ejecutamos para todas las frames\n",
        "parallel(avi2frames, video_paths)"
      ],
      "metadata": {
        "id": "Q6nZ_o2Ixjw0",
        "colab": {
          "base_uri": "https://localhost:8080/"
        },
        "outputId": "2db76d6e-99db-4e2d-d852-c1d5038a0278"
      },
      "execution_count": null,
      "outputs": [
        {
          "output_type": "execute_result",
          "data": {
            "text/plain": [
              "(#1480) [None,None,None,None,None,None,None,None,None,None...]"
            ]
          },
          "metadata": {},
          "execution_count": 17
        }
      ]
    },
    {
      "cell_type": "code",
      "source": [
        "# comprobamos que se han creado frames para los 1480 videos\n",
        "len(path_frames.ls())"
      ],
      "metadata": {
        "id": "x7UIteQmxqbO",
        "colab": {
          "base_uri": "https://localhost:8080/"
        },
        "outputId": "9413e054-3ed0-4a44-ada2-75319b0f4ec4"
      },
      "execution_count": null,
      "outputs": [
        {
          "output_type": "execute_result",
          "data": {
            "text/plain": [
              "1480"
            ]
          },
          "metadata": {},
          "execution_count": 18
        }
      ]
    },
    {
      "cell_type": "code",
      "source": [
        "# comprobamos que se han extraido las frames que queriamos\n",
        "len(path_frames.ls()[0].ls())"
      ],
      "metadata": {
        "id": "O94ri6USMJyA",
        "colab": {
          "base_uri": "https://localhost:8080/"
        },
        "outputId": "205ebc3c-84a1-4193-ec58-0ed3ad180fd3"
      },
      "execution_count": null,
      "outputs": [
        {
          "output_type": "execute_result",
          "data": {
            "text/plain": [
              "120"
            ]
          },
          "metadata": {},
          "execution_count": 19
        }
      ]
    },
    {
      "cell_type": "code",
      "source": [
        "# definimos una función que devuelva las frames ordenadas\n",
        "@patch\n",
        "def ls_sorted(self:Path):\n",
        "    \"ls but sorts files by name numerically\"\n",
        "    return self.ls().sorted(key=lambda f: int(f.with_suffix('').name))"
      ],
      "metadata": {
        "id": "3Khgx3t90-st"
      },
      "execution_count": null,
      "outputs": []
    },
    {
      "cell_type": "code",
      "source": [
        "# comprobamos que las imágenes se ven correctamente\n",
        "show_images([Image.open(img) for img in path_frames.ls()[0].ls_sorted()[0:25:5]])"
      ],
      "metadata": {
        "id": "2hkELaqE1uIK",
        "colab": {
          "base_uri": "https://localhost:8080/",
          "height": 237
        },
        "outputId": "82cb30ce-f127-4df6-fcc4-b09f13a880c3"
      },
      "execution_count": null,
      "outputs": [
        {
          "output_type": "display_data",
          "data": {
            "text/plain": [
              "<Figure size 1500x300 with 5 Axes>"
            ],
            "image/png": "[encoded data removed]"
          },
          "metadata": {}
        }
      ]
    },
    {
      "cell_type": "markdown",
      "source": [
        "# 2. Cargar dataset y generar splits"
      ],
      "metadata": {
        "id": "vEx6fR-EOVv4"
      }
    },
    {
      "cell_type": "code",
      "source": [
        "# cargamos el dataset con el FEVI por cada video\n",
        "df = pd.read_csv('target.csv')\n",
        "df.head()"
      ],
      "metadata": {
        "id": "TNGO8Z_ryxHM",
        "colab": {
          "base_uri": "https://localhost:8080/",
          "height": 206
        },
        "outputId": "686acc23-3669-4e76-b61b-b779d2cf22ae"
      },
      "execution_count": null,
      "outputs": [
        {
          "output_type": "execute_result",
          "data": {
            "text/plain": [
              "             FileName       FEVI\n",
              "0  0X1A030EFDD45062FA  44.485700\n",
              "1   0X1A05829AEDF6C65  64.078050\n",
              "2  0X1A05DFFFCAFB253B  65.143601\n",
              "3  0X1A09BE7969DA1508  69.566347\n",
              "4  0X1A0A263B22CCD966  65.454529"
            ],
            "text/html": [
              "\n",
              "  <div id=\"df-e80ec686-7c9e-40b9-a167-617a0abcf22c\" class=\"colab-df-container\">\n",
              "    <div>\n",
              "<style scoped>\n",
              "    .dataframe tbody tr th:only-of-type {\n",
              "        vertical-align: middle;\n",
              "    }\n",
              "\n",
              "    .dataframe tbody tr th {\n",
              "        vertical-align: top;\n",
              "    }\n",
              "\n",
              "    .dataframe thead th {\n",
              "        text-align: right;\n",
              "    }\n",
              "</style>\n",
              "<table border=\"1\" class=\"dataframe\">\n",
              "  <thead>\n",
              "    <tr style=\"text-align: right;\">\n",
              "      <th></th>\n",
              "      <th>FileName</th>\n",
              "      <th>FEVI</th>\n",
              "    </tr>\n",
              "  </thead>\n",
              "  <tbody>\n",
              "    <tr>\n",
              "      <th>0</th>\n",
              "      <td>0X1A030EFDD45062FA</td>\n",
              "      <td>44.485700</td>\n",
              "    </tr>\n",
              "    <tr>\n",
              "      <th>1</th>\n",
              "      <td>0X1A05829AEDF6C65</td>\n",
              "      <td>64.078050</td>\n",
              "    </tr>\n",
              "    <tr>\n",
              "      <th>2</th>\n",
              "      <td>0X1A05DFFFCAFB253B</td>\n",
              "      <td>65.143601</td>\n",
              "    </tr>\n",
              "    <tr>\n",
              "      <th>3</th>\n",
              "      <td>0X1A09BE7969DA1508</td>\n",
              "      <td>69.566347</td>\n",
              "    </tr>\n",
              "    <tr>\n",
              "      <th>4</th>\n",
              "      <td>0X1A0A263B22CCD966</td>\n",
              "      <td>65.454529</td>\n",
              "    </tr>\n",
              "  </tbody>\n",
              "</table>\n",
              "</div>\n",
              "    <div class=\"colab-df-buttons\">\n",
              "\n",
              "  <div class=\"colab-df-container\">\n",
              "    <button class=\"colab-df-convert\" onclick=\"convertToInteractive('df-e80ec686-7c9e-40b9-a167-617a0abcf22c')\"\n",
              "            title=\"Convert this dataframe to an interactive table.\"\n",
              "            style=\"display:none;\">\n",
              "\n",
              "  <svg xmlns=\"http://www.w3.org/2000/svg\" height=\"24px\" viewBox=\"0 -960 960 960\">\n",
              "    <path d=\"M120-120v-720h720v720H120Zm60-500h600v-160H180v160Zm220 220h160v-160H400v160Zm0 220h160v-160H400v160ZM180-400h160v-160H180v160Zm440 0h160v-160H620v160ZM180-180h160v-160H180v160Zm440 0h160v-160H620v160Z\"/>\n",
              "  </svg>\n",
              "    </button>\n",
              "\n",
              "  <style>\n",
              "    .colab-df-container {\n",
              "      display:flex;\n",
              "      gap: 12px;\n",
              "    }\n",
              "\n",
              "    .colab-df-convert {\n",
              "      background-color: #E8F0FE;\n",
              "      border: none;\n",
              "      border-radius: 50%;\n",
              "      cursor: pointer;\n",
              "      display: none;\n",
              "      fill: #1967D2;\n",
              "      height: 32px;\n",
              "      padding: 0 0 0 0;\n",
              "      width: 32px;\n",
              "    }\n",
              "\n",
              "    .colab-df-convert:hover {\n",
              "      background-color: #E2EBFA;\n",
              "      box-shadow: 0px 1px 2px rgba(60, 64, 67, 0.3), 0px 1px 3px 1px rgba(60, 64, 67, 0.15);\n",
              "      fill: #174EA6;\n",
              "    }\n",
              "\n",
              "    .colab-df-buttons div {\n",
              "      margin-bottom: 4px;\n",
              "    }\n",
              "\n",
              "    [theme=dark] .colab-df-convert {\n",
              "      background-color: #3B4455;\n",
              "      fill: #D2E3FC;\n",
              "    }\n",
              "\n",
              "    [theme=dark] .colab-df-convert:hover {\n",
              "      background-color: #434B5C;\n",
              "      box-shadow: 0px 1px 3px 1px rgba(0, 0, 0, 0.15);\n",
              "      filter: drop-shadow(0px 1px 2px rgba(0, 0, 0, 0.3));\n",
              "      fill: #FFFFFF;\n",
              "    }\n",
              "  </style>\n",
              "\n",
              "    <script>\n",
              "      const buttonEl =\n",
              "        document.querySelector('#df-e80ec686-7c9e-40b9-a167-617a0abcf22c button.colab-df-convert');\n",
              "      buttonEl.style.display =\n",
              "        google.colab.kernel.accessAllowed ? 'block' : 'none';\n",
              "\n",
              "      async function convertToInteractive(key) {\n",
              "        const element = document.querySelector('#df-e80ec686-7c9e-40b9-a167-617a0abcf22c');\n",
              "        const dataTable =\n",
              "          await google.colab.kernel.invokeFunction('convertToInteractive',\n",
              "                                                    [key], {});\n",
              "        if (!dataTable) return;\n",
              "\n",
              "        const docLinkHtml = 'Like what you see? Visit the ' +\n",
              "          '<a target=\"_blank\" href=https://colab.research.google.com/notebooks/data_table.ipynb>data table notebook</a>'\n",
              "          + ' to learn more about interactive tables.';\n",
              "        element.innerHTML = '';\n",
              "        dataTable['output_type'] = 'display_data';\n",
              "        await google.colab.output.renderOutput(dataTable, element);\n",
              "        const docLink = document.createElement('div');\n",
              "        docLink.innerHTML = docLinkHtml;\n",
              "        element.appendChild(docLink);\n",
              "      }\n",
              "    </script>\n",
              "  </div>\n",
              "\n",
              "\n",
              "<div id=\"df-49027971-27b3-443c-bb3f-222361cb0dc5\">\n",
              "  <button class=\"colab-df-quickchart\" onclick=\"quickchart('df-49027971-27b3-443c-bb3f-222361cb0dc5')\"\n",
              "            title=\"Suggest charts.\"\n",
              "            style=\"display:none;\">\n",
              "\n",
              "<svg xmlns=\"http://www.w3.org/2000/svg\" height=\"24px\"viewBox=\"0 0 24 24\"\n",
              "     width=\"24px\">\n",
              "    <g>\n",
              "        <path d=\"M19 3H5c-1.1 0-2 .9-2 2v14c0 1.1.9 2 2 2h14c1.1 0 2-.9 2-2V5c0-1.1-.9-2-2-2zM9 17H7v-7h2v7zm4 0h-2V7h2v10zm4 0h-2v-4h2v4z\"/>\n",
              "    </g>\n",
              "</svg>\n",
              "  </button>\n",
              "\n",
              "<style>\n",
              "  .colab-df-quickchart {\n",
              "      --bg-color: #E8F0FE;\n",
              "      --fill-color: #1967D2;\n",
              "      --hover-bg-color: #E2EBFA;\n",
              "      --hover-fill-color: #174EA6;\n",
              "      --disabled-fill-color: #AAA;\n",
              "      --disabled-bg-color: #DDD;\n",
              "  }\n",
              "\n",
              "  [theme=dark] .colab-df-quickchart {\n",
              "      --bg-color: #3B4455;\n",
              "      --fill-color: #D2E3FC;\n",
              "      --hover-bg-color: #434B5C;\n",
              "      --hover-fill-color: #FFFFFF;\n",
              "      --disabled-bg-color: #3B4455;\n",
              "      --disabled-fill-color: #666;\n",
              "  }\n",
              "\n",
              "  .colab-df-quickchart {\n",
              "    background-color: var(--bg-color);\n",
              "    border: none;\n",
              "    border-radius: 50%;\n",
              "    cursor: pointer;\n",
              "    display: none;\n",
              "    fill: var(--fill-color);\n",
              "    height: 32px;\n",
              "    padding: 0;\n",
              "    width: 32px;\n",
              "  }\n",
              "\n",
              "  .colab-df-quickchart:hover {\n",
              "    background-color: var(--hover-bg-color);\n",
              "    box-shadow: 0 1px 2px rgba(60, 64, 67, 0.3), 0 1px 3px 1px rgba(60, 64, 67, 0.15);\n",
              "    fill: var(--button-hover-fill-color);\n",
              "  }\n",
              "\n",
              "  .colab-df-quickchart-complete:disabled,\n",
              "  .colab-df-quickchart-complete:disabled:hover {\n",
              "    background-color: var(--disabled-bg-color);\n",
              "    fill: var(--disabled-fill-color);\n",
              "    box-shadow: none;\n",
              "  }\n",
              "\n",
              "  .colab-df-spinner {\n",
              "    border: 2px solid var(--fill-color);\n",
              "    border-color: transparent;\n",
              "    border-bottom-color: var(--fill-color);\n",
              "    animation:\n",
              "      spin 1s steps(1) infinite;\n",
              "  }\n",
              "\n",
              "  @keyframes spin {\n",
              "    0% {\n",
              "      border-color: transparent;\n",
              "      border-bottom-color: var(--fill-color);\n",
              "      border-left-color: var(--fill-color);\n",
              "    }\n",
              "    20% {\n",
              "      border-color: transparent;\n",
              "      border-left-color: var(--fill-color);\n",
              "      border-top-color: var(--fill-color);\n",
              "    }\n",
              "    30% {\n",
              "      border-color: transparent;\n",
              "      border-left-color: var(--fill-color);\n",
              "      border-top-color: var(--fill-color);\n",
              "      border-right-color: var(--fill-color);\n",
              "    }\n",
              "    40% {\n",
              "      border-color: transparent;\n",
              "      border-right-color: var(--fill-color);\n",
              "      border-top-color: var(--fill-color);\n",
              "    }\n",
              "    60% {\n",
              "      border-color: transparent;\n",
              "      border-right-color: var(--fill-color);\n",
              "    }\n",
              "    80% {\n",
              "      border-color: transparent;\n",
              "      border-right-color: var(--fill-color);\n",
              "      border-bottom-color: var(--fill-color);\n",
              "    }\n",
              "    90% {\n",
              "      border-color: transparent;\n",
              "      border-bottom-color: var(--fill-color);\n",
              "    }\n",
              "  }\n",
              "</style>\n",
              "\n",
              "  <script>\n",
              "    async function quickchart(key) {\n",
              "      const quickchartButtonEl =\n",
              "        document.querySelector('#' + key + ' button');\n",
              "      quickchartButtonEl.disabled = true;  // To prevent multiple clicks.\n",
              "      quickchartButtonEl.classList.add('colab-df-spinner');\n",
              "      try {\n",
              "        const charts = await google.colab.kernel.invokeFunction(\n",
              "            'suggestCharts', [key], {});\n",
              "      } catch (error) {\n",
              "        console.error('Error during call to suggestCharts:', error);\n",
              "      }\n",
              "      quickchartButtonEl.classList.remove('colab-df-spinner');\n",
              "      quickchartButtonEl.classList.add('colab-df-quickchart-complete');\n",
              "    }\n",
              "    (() => {\n",
              "      let quickchartButtonEl =\n",
              "        document.querySelector('#df-49027971-27b3-443c-bb3f-222361cb0dc5 button');\n",
              "      quickchartButtonEl.style.display =\n",
              "        google.colab.kernel.accessAllowed ? 'block' : 'none';\n",
              "    })();\n",
              "  </script>\n",
              "</div>\n",
              "    </div>\n",
              "  </div>\n"
            ]
          },
          "metadata": {},
          "execution_count": 22
        }
      ]
    },
    {
      "cell_type": "code",
      "source": [
        "# muestra información resumida del DataFrame 'df'\n",
        "df.info()"
      ],
      "metadata": {
        "id": "m19KiLSZCNtd",
        "colab": {
          "base_uri": "https://localhost:8080/"
        },
        "outputId": "a6410a31-fbfe-4cb0-fe35-dc84118e916e"
      },
      "execution_count": null,
      "outputs": [
        {
          "output_type": "stream",
          "name": "stdout",
          "text": [
            "<class 'pandas.core.frame.DataFrame'>\n",
            "RangeIndex: 1480 entries, 0 to 1479\n",
            "Data columns (total 2 columns):\n",
            " #   Column    Non-Null Count  Dtype  \n",
            "---  ------    --------------  -----  \n",
            " 0   FileName  1480 non-null   object \n",
            " 1   FEVI      1480 non-null   float64\n",
            "dtypes: float64(1), object(1)\n",
            "memory usage: 23.2+ KB\n"
          ]
        }
      ]
    },
    {
      "cell_type": "code",
      "source": [
        "# creamos una nueva columna llamada 'target' en el DataFrame 'df' al dividir la columna 'FEVI' por 100\n",
        "df['target'] = df['FEVI'] / 100\n",
        "df.head()"
      ],
      "metadata": {
        "id": "HrK4EpU1_rX9",
        "colab": {
          "base_uri": "https://localhost:8080/",
          "height": 206
        },
        "outputId": "6a904c61-9952-4af7-87e2-a9de09a6f57d"
      },
      "execution_count": null,
      "outputs": [
        {
          "output_type": "execute_result",
          "data": {
            "text/plain": [
              "             FileName       FEVI    target\n",
              "0  0X1A030EFDD45062FA  44.485700  0.444857\n",
              "1   0X1A05829AEDF6C65  64.078050  0.640781\n",
              "2  0X1A05DFFFCAFB253B  65.143601  0.651436\n",
              "3  0X1A09BE7969DA1508  69.566347  0.695663\n",
              "4  0X1A0A263B22CCD966  65.454529  0.654545"
            ],
            "text/html": [
              "\n",
              "  <div id=\"df-de5da254-8b4b-4f76-892a-c2f39b1d9ba8\" class=\"colab-df-container\">\n",
              "    <div>\n",
              "<style scoped>\n",
              "    .dataframe tbody tr th:only-of-type {\n",
              "        vertical-align: middle;\n",
              "    }\n",
              "\n",
              "    .dataframe tbody tr th {\n",
              "        vertical-align: top;\n",
              "    }\n",
              "\n",
              "    .dataframe thead th {\n",
              "        text-align: right;\n",
              "    }\n",
              "</style>\n",
              "<table border=\"1\" class=\"dataframe\">\n",
              "  <thead>\n",
              "    <tr style=\"text-align: right;\">\n",
              "      <th></th>\n",
              "      <th>FileName</th>\n",
              "      <th>FEVI</th>\n",
              "      <th>target</th>\n",
              "    </tr>\n",
              "  </thead>\n",
              "  <tbody>\n",
              "    <tr>\n",
              "      <th>0</th>\n",
              "      <td>0X1A030EFDD45062FA</td>\n",
              "      <td>44.485700</td>\n",
              "      <td>0.444857</td>\n",
              "    </tr>\n",
              "    <tr>\n",
              "      <th>1</th>\n",
              "      <td>0X1A05829AEDF6C65</td>\n",
              "      <td>64.078050</td>\n",
              "      <td>0.640781</td>\n",
              "    </tr>\n",
              "    <tr>\n",
              "      <th>2</th>\n",
              "      <td>0X1A05DFFFCAFB253B</td>\n",
              "      <td>65.143601</td>\n",
              "      <td>0.651436</td>\n",
              "    </tr>\n",
              "    <tr>\n",
              "      <th>3</th>\n",
              "      <td>0X1A09BE7969DA1508</td>\n",
              "      <td>69.566347</td>\n",
              "      <td>0.695663</td>\n",
              "    </tr>\n",
              "    <tr>\n",
              "      <th>4</th>\n",
              "      <td>0X1A0A263B22CCD966</td>\n",
              "      <td>65.454529</td>\n",
              "      <td>0.654545</td>\n",
              "    </tr>\n",
              "  </tbody>\n",
              "</table>\n",
              "</div>\n",
              "    <div class=\"colab-df-buttons\">\n",
              "\n",
              "  <div class=\"colab-df-container\">\n",
              "    <button class=\"colab-df-convert\" onclick=\"convertToInteractive('df-de5da254-8b4b-4f76-892a-c2f39b1d9ba8')\"\n",
              "            title=\"Convert this dataframe to an interactive table.\"\n",
              "            style=\"display:none;\">\n",
              "\n",
              "  <svg xmlns=\"http://www.w3.org/2000/svg\" height=\"24px\" viewBox=\"0 -960 960 960\">\n",
              "    <path d=\"M120-120v-720h720v720H120Zm60-500h600v-160H180v160Zm220 220h160v-160H400v160Zm0 220h160v-160H400v160ZM180-400h160v-160H180v160Zm440 0h160v-160H620v160ZM180-180h160v-160H180v160Zm440 0h160v-160H620v160Z\"/>\n",
              "  </svg>\n",
              "    </button>\n",
              "\n",
              "  <style>\n",
              "    .colab-df-container {\n",
              "      display:flex;\n",
              "      gap: 12px;\n",
              "    }\n",
              "\n",
              "    .colab-df-convert {\n",
              "      background-color: #E8F0FE;\n",
              "      border: none;\n",
              "      border-radius: 50%;\n",
              "      cursor: pointer;\n",
              "      display: none;\n",
              "      fill: #1967D2;\n",
              "      height: 32px;\n",
              "      padding: 0 0 0 0;\n",
              "      width: 32px;\n",
              "    }\n",
              "\n",
              "    .colab-df-convert:hover {\n",
              "      background-color: #E2EBFA;\n",
              "      box-shadow: 0px 1px 2px rgba(60, 64, 67, 0.3), 0px 1px 3px 1px rgba(60, 64, 67, 0.15);\n",
              "      fill: #174EA6;\n",
              "    }\n",
              "\n",
              "    .colab-df-buttons div {\n",
              "      margin-bottom: 4px;\n",
              "    }\n",
              "\n",
              "    [theme=dark] .colab-df-convert {\n",
              "      background-color: #3B4455;\n",
              "      fill: #D2E3FC;\n",
              "    }\n",
              "\n",
              "    [theme=dark] .colab-df-convert:hover {\n",
              "      background-color: #434B5C;\n",
              "      box-shadow: 0px 1px 3px 1px rgba(0, 0, 0, 0.15);\n",
              "      filter: drop-shadow(0px 1px 2px rgba(0, 0, 0, 0.3));\n",
              "      fill: #FFFFFF;\n",
              "    }\n",
              "  </style>\n",
              "\n",
              "    <script>\n",
              "      const buttonEl =\n",
              "        document.querySelector('#df-de5da254-8b4b-4f76-892a-c2f39b1d9ba8 button.colab-df-convert');\n",
              "      buttonEl.style.display =\n",
              "        google.colab.kernel.accessAllowed ? 'block' : 'none';\n",
              "\n",
              "      async function convertToInteractive(key) {\n",
              "        const element = document.querySelector('#df-de5da254-8b4b-4f76-892a-c2f39b1d9ba8');\n",
              "        const dataTable =\n",
              "          await google.colab.kernel.invokeFunction('convertToInteractive',\n",
              "                                                    [key], {});\n",
              "        if (!dataTable) return;\n",
              "\n",
              "        const docLinkHtml = 'Like what you see? Visit the ' +\n",
              "          '<a target=\"_blank\" href=https://colab.research.google.com/notebooks/data_table.ipynb>data table notebook</a>'\n",
              "          + ' to learn more about interactive tables.';\n",
              "        element.innerHTML = '';\n",
              "        dataTable['output_type'] = 'display_data';\n",
              "        await google.colab.output.renderOutput(dataTable, element);\n",
              "        const docLink = document.createElement('div');\n",
              "        docLink.innerHTML = docLinkHtml;\n",
              "        element.appendChild(docLink);\n",
              "      }\n",
              "    </script>\n",
              "  </div>\n",
              "\n",
              "\n",
              "<div id=\"df-0f1da635-a3d4-43d0-b1a4-a541ea8c0c2b\">\n",
              "  <button class=\"colab-df-quickchart\" onclick=\"quickchart('df-0f1da635-a3d4-43d0-b1a4-a541ea8c0c2b')\"\n",
              "            title=\"Suggest charts.\"\n",
              "            style=\"display:none;\">\n",
              "\n",
              "<svg xmlns=\"http://www.w3.org/2000/svg\" height=\"24px\"viewBox=\"0 0 24 24\"\n",
              "     width=\"24px\">\n",
              "    <g>\n",
              "        <path d=\"M19 3H5c-1.1 0-2 .9-2 2v14c0 1.1.9 2 2 2h14c1.1 0 2-.9 2-2V5c0-1.1-.9-2-2-2zM9 17H7v-7h2v7zm4 0h-2V7h2v10zm4 0h-2v-4h2v4z\"/>\n",
              "    </g>\n",
              "</svg>\n",
              "  </button>\n",
              "\n",
              "<style>\n",
              "  .colab-df-quickchart {\n",
              "      --bg-color: #E8F0FE;\n",
              "      --fill-color: #1967D2;\n",
              "      --hover-bg-color: #E2EBFA;\n",
              "      --hover-fill-color: #174EA6;\n",
              "      --disabled-fill-color: #AAA;\n",
              "      --disabled-bg-color: #DDD;\n",
              "  }\n",
              "\n",
              "  [theme=dark] .colab-df-quickchart {\n",
              "      --bg-color: #3B4455;\n",
              "      --fill-color: #D2E3FC;\n",
              "      --hover-bg-color: #434B5C;\n",
              "      --hover-fill-color: #FFFFFF;\n",
              "      --disabled-bg-color: #3B4455;\n",
              "      --disabled-fill-color: #666;\n",
              "  }\n",
              "\n",
              "  .colab-df-quickchart {\n",
              "    background-color: var(--bg-color);\n",
              "    border: none;\n",
              "    border-radius: 50%;\n",
              "    cursor: pointer;\n",
              "    display: none;\n",
              "    fill: var(--fill-color);\n",
              "    height: 32px;\n",
              "    padding: 0;\n",
              "    width: 32px;\n",
              "  }\n",
              "\n",
              "  .colab-df-quickchart:hover {\n",
              "    background-color: var(--hover-bg-color);\n",
              "    box-shadow: 0 1px 2px rgba(60, 64, 67, 0.3), 0 1px 3px 1px rgba(60, 64, 67, 0.15);\n",
              "    fill: var(--button-hover-fill-color);\n",
              "  }\n",
              "\n",
              "  .colab-df-quickchart-complete:disabled,\n",
              "  .colab-df-quickchart-complete:disabled:hover {\n",
              "    background-color: var(--disabled-bg-color);\n",
              "    fill: var(--disabled-fill-color);\n",
              "    box-shadow: none;\n",
              "  }\n",
              "\n",
              "  .colab-df-spinner {\n",
              "    border: 2px solid var(--fill-color);\n",
              "    border-color: transparent;\n",
              "    border-bottom-color: var(--fill-color);\n",
              "    animation:\n",
              "      spin 1s steps(1) infinite;\n",
              "  }\n",
              "\n",
              "  @keyframes spin {\n",
              "    0% {\n",
              "      border-color: transparent;\n",
              "      border-bottom-color: var(--fill-color);\n",
              "      border-left-color: var(--fill-color);\n",
              "    }\n",
              "    20% {\n",
              "      border-color: transparent;\n",
              "      border-left-color: var(--fill-color);\n",
              "      border-top-color: var(--fill-color);\n",
              "    }\n",
              "    30% {\n",
              "      border-color: transparent;\n",
              "      border-left-color: var(--fill-color);\n",
              "      border-top-color: var(--fill-color);\n",
              "      border-right-color: var(--fill-color);\n",
              "    }\n",
              "    40% {\n",
              "      border-color: transparent;\n",
              "      border-right-color: var(--fill-color);\n",
              "      border-top-color: var(--fill-color);\n",
              "    }\n",
              "    60% {\n",
              "      border-color: transparent;\n",
              "      border-right-color: var(--fill-color);\n",
              "    }\n",
              "    80% {\n",
              "      border-color: transparent;\n",
              "      border-right-color: var(--fill-color);\n",
              "      border-bottom-color: var(--fill-color);\n",
              "    }\n",
              "    90% {\n",
              "      border-color: transparent;\n",
              "      border-bottom-color: var(--fill-color);\n",
              "    }\n",
              "  }\n",
              "</style>\n",
              "\n",
              "  <script>\n",
              "    async function quickchart(key) {\n",
              "      const quickchartButtonEl =\n",
              "        document.querySelector('#' + key + ' button');\n",
              "      quickchartButtonEl.disabled = true;  // To prevent multiple clicks.\n",
              "      quickchartButtonEl.classList.add('colab-df-spinner');\n",
              "      try {\n",
              "        const charts = await google.colab.kernel.invokeFunction(\n",
              "            'suggestCharts', [key], {});\n",
              "      } catch (error) {\n",
              "        console.error('Error during call to suggestCharts:', error);\n",
              "      }\n",
              "      quickchartButtonEl.classList.remove('colab-df-spinner');\n",
              "      quickchartButtonEl.classList.add('colab-df-quickchart-complete');\n",
              "    }\n",
              "    (() => {\n",
              "      let quickchartButtonEl =\n",
              "        document.querySelector('#df-0f1da635-a3d4-43d0-b1a4-a541ea8c0c2b button');\n",
              "      quickchartButtonEl.style.display =\n",
              "        google.colab.kernel.accessAllowed ? 'block' : 'none';\n",
              "    })();\n",
              "  </script>\n",
              "</div>\n",
              "    </div>\n",
              "  </div>\n"
            ]
          },
          "metadata": {},
          "execution_count": 24
        }
      ]
    },
    {
      "cell_type": "code",
      "source": [
        "# asignamos target 1 a pacientes con FEVI < 50 y 0 al resto\n",
        "df['target'] = np.where(df['FEVI'] < 50, 1, 0)\n",
        "df['target'].value_counts()"
      ],
      "metadata": {
        "id": "xT5968k4pQa5",
        "colab": {
          "base_uri": "https://localhost:8080/"
        },
        "outputId": "15fb76d1-7647-4bd6-9870-578e83514f38"
      },
      "execution_count": null,
      "outputs": [
        {
          "output_type": "execute_result",
          "data": {
            "text/plain": [
              "0    1151\n",
              "1     329\n",
              "Name: target, dtype: int64"
            ]
          },
          "metadata": {},
          "execution_count": 25
        }
      ]
    },
    {
      "cell_type": "code",
      "source": [
        "# creamos una nueva columna llamada 'FEVI10' en el DataFrame 'df' al dividir la columna 'FEVI' por 10\n",
        "df['FEVI10'] = df['FEVI'] // 10\n",
        "df['FEVI10'].value_counts()"
      ],
      "metadata": {
        "id": "w5-FTkNegPAS",
        "colab": {
          "base_uri": "https://localhost:8080/"
        },
        "outputId": "68128924-19f4-488a-90d9-079156ec7432"
      },
      "execution_count": null,
      "outputs": [
        {
          "output_type": "execute_result",
          "data": {
            "text/plain": [
              "6.0    632\n",
              "5.0    466\n",
              "4.0    134\n",
              "3.0     93\n",
              "2.0     82\n",
              "7.0     49\n",
              "1.0     17\n",
              "8.0      4\n",
              "0.0      3\n",
              "Name: FEVI10, dtype: int64"
            ]
          },
          "metadata": {},
          "execution_count": 26
        }
      ]
    },
    {
      "cell_type": "code",
      "source": [
        "# reasignamos las franjas 0/1/2/3 en una unica franja numero 3\n",
        "df.loc[df['FEVI10'] == 0, 'FEVI10'] = 3\n",
        "df.loc[df['FEVI10'] == 2, 'FEVI10'] = 3\n",
        "df.loc[df['FEVI10'] == 1, 'FEVI10'] = 3\n",
        "\n",
        "# reasignamos 6/7/8 en una unica franja numero 6\n",
        "df.loc[df['FEVI10'] == 8, 'FEVI10'] = 6\n",
        "df.loc[df['FEVI10'] == 7, 'FEVI10'] = 6\n",
        "\n",
        "df['FEVI10'].value_counts()"
      ],
      "metadata": {
        "id": "OZqTX7PH3DbW",
        "colab": {
          "base_uri": "https://localhost:8080/"
        },
        "outputId": "eb042cf3-f4a9-4b27-8e63-8fea7d3a57a5"
      },
      "execution_count": null,
      "outputs": [
        {
          "output_type": "execute_result",
          "data": {
            "text/plain": [
              "6.0    685\n",
              "5.0    466\n",
              "3.0    195\n",
              "4.0    134\n",
              "Name: FEVI10, dtype: int64"
            ]
          },
          "metadata": {},
          "execution_count": 27
        }
      ]
    },
    {
      "cell_type": "code",
      "source": [
        "split_counts = df['FEVI10'].value_counts() // 10\n",
        "split_counts"
      ],
      "metadata": {
        "id": "nt6H3qrTC0ra",
        "colab": {
          "base_uri": "https://localhost:8080/"
        },
        "outputId": "77852696-30bd-45de-84d1-a6a2446640da"
      },
      "execution_count": null,
      "outputs": [
        {
          "output_type": "execute_result",
          "data": {
            "text/plain": [
              "6.0    68\n",
              "5.0    46\n",
              "3.0    19\n",
              "4.0    13\n",
              "Name: FEVI10, dtype: int64"
            ]
          },
          "metadata": {},
          "execution_count": 28
        }
      ]
    },
    {
      "cell_type": "code",
      "source": [
        "list(split_counts.items())"
      ],
      "metadata": {
        "id": "KLWfzZ_xDGFz",
        "colab": {
          "base_uri": "https://localhost:8080/"
        },
        "outputId": "48990436-a72b-4f3f-8d70-a881ac39ddd1"
      },
      "execution_count": null,
      "outputs": [
        {
          "output_type": "execute_result",
          "data": {
            "text/plain": [
              "[(6.0, 68), (5.0, 46), (3.0, 19), (4.0, 13)]"
            ]
          },
          "metadata": {},
          "execution_count": 29
        }
      ]
    },
    {
      "cell_type": "code",
      "source": [
        "sum(split_counts)"
      ],
      "metadata": {
        "id": "yynV77lxZUFH",
        "colab": {
          "base_uri": "https://localhost:8080/"
        },
        "outputId": "5aab89d0-70cd-4d10-d338-066ce6f24154"
      },
      "execution_count": null,
      "outputs": [
        {
          "output_type": "execute_result",
          "data": {
            "text/plain": [
              "146"
            ]
          },
          "metadata": {},
          "execution_count": 30
        }
      ]
    },
    {
      "cell_type": "code",
      "source": [
        "# establecemos la semilla aleatoria en 12 para garantizar la reproducibilidad\n",
        "random_seed=12\n",
        "seed_everything(random_seed)"
      ],
      "metadata": {
        "id": "K5B6pIjB3ydA"
      },
      "execution_count": null,
      "outputs": []
    },
    {
      "cell_type": "code",
      "source": [
        "# creamos el split de test\n",
        "test_idx = np.array([])\n",
        "for k, count in list(split_counts.items()):\n",
        "  test_idx = np.concatenate([test_idx, df[df['FEVI10'] == k].sample(count, random_state=random_seed).index], axis=0)\n",
        "\n",
        "test_df = df.iloc[test_idx].sample(frac=1, random_state=random_seed).reset_index(drop=True)\n",
        "test_df['FEVI10'].value_counts()"
      ],
      "metadata": {
        "id": "0npTxV5JDRIX",
        "colab": {
          "base_uri": "https://localhost:8080/"
        },
        "outputId": "374fc888-6f2c-4aed-c018-405b7a01471f"
      },
      "execution_count": null,
      "outputs": [
        {
          "output_type": "execute_result",
          "data": {
            "text/plain": [
              "6.0    68\n",
              "5.0    46\n",
              "3.0    19\n",
              "4.0    13\n",
              "Name: FEVI10, dtype: int64"
            ]
          },
          "metadata": {},
          "execution_count": 32
        }
      ]
    },
    {
      "cell_type": "code",
      "source": [
        "# generamos train, sacando las filas que hemos dejado para test\n",
        "train_df = df[~df.index.isin(test_idx)].sample(frac=1, random_state=random_seed).reset_index(drop=True)\n",
        "train_df.shape"
      ],
      "metadata": {
        "id": "ypRk_pwpKO9H",
        "colab": {
          "base_uri": "https://localhost:8080/"
        },
        "outputId": "c1236c34-7cb2-4834-d1e1-1e97a5df9e8b"
      },
      "execution_count": null,
      "outputs": [
        {
          "output_type": "execute_result",
          "data": {
            "text/plain": [
              "(1334, 4)"
            ]
          },
          "metadata": {},
          "execution_count": 33
        }
      ]
    },
    {
      "cell_type": "code",
      "source": [
        "# creamos el split de valid\n",
        "valid_idx = np.array([])\n",
        "for k, count in list(split_counts.items()):\n",
        "  valid_idx = np.concatenate([valid_idx, train_df[train_df['FEVI10'] == k].sample(count, random_state=random_seed).index], axis=0)\n",
        "\n",
        "splits = IndexSplitter(valid_idx)"
      ],
      "metadata": {
        "id": "m6MayHcqEGfU"
      },
      "execution_count": null,
      "outputs": []
    },
    {
      "cell_type": "code",
      "source": [
        "# calculamos el recuento de valores del split de validacion\n",
        "train_df.iloc[valid_idx]['FEVI10'].value_counts()"
      ],
      "metadata": {
        "id": "UFl8mL-uRyKB",
        "colab": {
          "base_uri": "https://localhost:8080/"
        },
        "outputId": "b624de9f-6928-4756-85b6-8366f0dfa84c"
      },
      "execution_count": null,
      "outputs": [
        {
          "output_type": "execute_result",
          "data": {
            "text/plain": [
              "6.0    68\n",
              "5.0    46\n",
              "3.0    19\n",
              "4.0    13\n",
              "Name: FEVI10, dtype: int64"
            ]
          },
          "metadata": {},
          "execution_count": 35
        }
      ]
    },
    {
      "cell_type": "code",
      "source": [
        "# calculamos el recuento de valores del split de train\n",
        "train_df[~train_df.index.isin(valid_idx)]['FEVI10'].value_counts()"
      ],
      "metadata": {
        "id": "1UCatyGp8RTT",
        "colab": {
          "base_uri": "https://localhost:8080/"
        },
        "outputId": "a2276e51-8b2f-4ec9-89e2-4e097dca786b"
      },
      "execution_count": null,
      "outputs": [
        {
          "output_type": "execute_result",
          "data": {
            "text/plain": [
              "6.0    549\n",
              "5.0    374\n",
              "3.0    157\n",
              "4.0    108\n",
              "Name: FEVI10, dtype: int64"
            ]
          },
          "metadata": {},
          "execution_count": 36
        }
      ]
    },
    {
      "cell_type": "code",
      "source": [
        "# comprobamos el numero total de valores tanto de train,como validacion y test\n",
        "len(test_idx) + len(valid_idx) + len(train_df[~train_df.index.isin(valid_idx)])"
      ],
      "metadata": {
        "id": "YOS2TlO_aDnP",
        "colab": {
          "base_uri": "https://localhost:8080/"
        },
        "outputId": "393233b2-f470-4c53-83d0-9f6b10c8ce27"
      },
      "execution_count": null,
      "outputs": [
        {
          "output_type": "execute_result",
          "data": {
            "text/plain": [
              "1480"
            ]
          },
          "metadata": {},
          "execution_count": 37
        }
      ]
    },
    {
      "cell_type": "markdown",
      "source": [
        "# 3. Oversampling"
      ],
      "metadata": {
        "id": "US7NxpJJOpEj"
      }
    },
    {
      "cell_type": "code",
      "source": [
        "# vamos a hacer oversampling, generando nuevos videos\n",
        "# solo a partir de datos de train, por eso excluimos valid\n",
        "if oversampling_min > 0:\n",
        "  tr_df = train_df[~train_df.index.isin(valid_idx)]\n",
        "  counts = tr_df['FEVI10'].value_counts()\n",
        "  print(counts)"
      ],
      "metadata": {
        "id": "QzMZ8sVeBcgY"
      },
      "execution_count": null,
      "outputs": []
    },
    {
      "cell_type": "code",
      "source": [
        "if oversampling_min > 0:\n",
        "\n",
        "  # Definimos las transformaciones que vamos a aplicar al replicar las frames\n",
        "  transform = A.Compose([\n",
        "      A.RandomBrightnessContrast(brightness_limit=(-0.03,0.06), contrast_limit=(-0.03,0.06), p=1),\n",
        "      A.OneOf([\n",
        "        A.MedianBlur(blur_limit=(3,3), p=0.5),\n",
        "        A.GaussNoise(p=0.5),\n",
        "      ], p=0.25),\n",
        "      A.ShiftScaleRotate(shift_limit=0, scale_limit=0, rotate_limit=3, border_mode=cv2.BORDER_CONSTANT, p=1),\n",
        "  ])\n",
        "\n",
        "  new_df = pd.DataFrame()\n",
        "  tot_img = 0\n",
        "  seed_everything(random_seed)\n",
        "\n",
        "  # número de imágenes que queremos por cada franja de FEVI10\n",
        "  num_img = oversampling_min\n",
        "\n",
        "  for k, img_count in counts.items():\n",
        "      if img_count >= num_img:\n",
        "          continue\n",
        "      tmp_df = tr_df[tr_df['FEVI10'] == k].reset_index(drop=True)\n",
        "      # cuantos nuevos videos vamos a generar para cada subclase\n",
        "      num_new = num_img - img_count\n",
        "      idx = 0\n",
        "\n",
        "      print(f\"Generating {num_new} videos for class {k}\")\n",
        "\n",
        "      while num_new > 0:\n",
        "        row = tmp_df.iloc[idx]\n",
        "        video_id = row['FileName']\n",
        "        new_video_id = f\"{video_id}_{new_df.shape[0]}\"\n",
        "        # creamos directorio para el nuevo video\n",
        "        video_path = path_frames/new_video_id\n",
        "        if not video_path.exists(): video_path.mkdir()\n",
        "\n",
        "        print(f\"Generating new video {new_video_id} / idx {idx} / class {k}\")\n",
        "        data = None\n",
        "        for img_path in (path_frames/video_id).ls_sorted():\n",
        "          new_img = cv2.imread(str(img_path), cv2.IMREAD_GRAYSCALE)\n",
        "          # aplicamos una transformacion\n",
        "          data = transform(image=new_img)\n",
        "          new_img = data['image']\n",
        "          new_img_path = (video_path/img_path.stem).with_suffix('.png')\n",
        "\n",
        "          if not cv2.imwrite(str(new_img_path), new_img):\n",
        "              print(f\"error writing file {new_img_path}\")\n",
        "              break\n",
        "\n",
        "        new_df = new_df.append({'FileName': new_video_id, 'target': row['target'], 'FEVI10': k }, ignore_index=True)\n",
        "        # indice del siguiente video\n",
        "        idx = (idx + 1) % img_count\n",
        "        # actualizamos numero de videos restantes\n",
        "        num_new -= 1\n",
        "\n",
        "  # ahora tenemos que juntar el DF con los nuevos videos con el que teniamos ya con train + valid\n",
        "  valid_filenames = train_df.iloc[valid_idx]['FileName'].values\n",
        "\n",
        "  # primero guardar referencias de valid\n",
        "  new_valid_idx = train_df[train_df['FileName'].isin(valid_filenames)].index\n",
        "  train_df.iloc[new_valid_idx]['FEVI10'].value_counts()\n",
        "\n",
        "  # ahora concatenamos el nuevo df con train\n",
        "  train_df = pd.concat([train_df, new_df], axis=0).sample(frac=1, random_state=random_seed).reset_index(drop=True)\n",
        "\n",
        "  # y ahora volvemos a recuperar los idx de valid\n",
        "  train_df[train_df['FileName'].isin(valid_filenames)]['FEVI10'].value_counts()\n",
        "\n",
        "  new_valid_idx = train_df[train_df['FileName'].isin(valid_filenames)].index\n",
        "  train_df.iloc[new_valid_idx]['FEVI10'].value_counts()\n",
        "  splits = IndexSplitter(new_valid_idx)\n",
        "\n",
        "  print(train_df[~train_df.index.isin(new_valid_idx)]['FEVI10'].value_counts())"
      ],
      "metadata": {
        "id": "MdD0YJHpBoKK"
      },
      "execution_count": null,
      "outputs": []
    },
    {
      "cell_type": "markdown",
      "source": [
        "# 4. Definir modelo"
      ],
      "metadata": {
        "id": "OBUgribJO3lA"
      }
    },
    {
      "cell_type": "code",
      "source": [
        "# esta clase nos permite manejar un conjunto de imágenes como una tupla\n",
        "class ImageTuple(fastuple):\n",
        "    \"A tuple of PILImages\"\n",
        "    def show(self, ctx=None, **kwargs):\n",
        "        n = len(self)\n",
        "        img0, img1, img2= self[0], self[n//2], self[n-1]\n",
        "        if not isinstance(img1, Tensor):\n",
        "            t0, t1,t2 = tensor(img0), tensor(img1),tensor(img2)\n",
        "            t0, t1,t2 = t0.permute(2,0,1), t1.permute(2,0,1),t2.permute(2,0,1)\n",
        "        else: t0, t1,t2 = img0, img1,img2\n",
        "        return show_image(torch.cat([t0,t1,t2], dim=2), ctx=ctx, **kwargs)\n",
        "\n",
        "# esta clase obtiene las frames de un video y las devuelve en forma de tupla\n",
        "class ImageTupleTfm(Transform):\n",
        "    def __init__(self, start_frame=0, seq_len=20):\n",
        "        store_attr()\n",
        "\n",
        "    def encodes(self, path: Path):\n",
        "        frames = path.ls_sorted()\n",
        "        n_frames = len(frames)\n",
        "\n",
        "        # nos quedamos con max_frames, empezando en start_frame\n",
        "        if n_frames < (self.start_frame + self.seq_len):\n",
        "          self.start_frame = max(0, n_frames - self.seq_len)\n",
        "\n",
        "        # si no tenemos suficientes frames, replicamos\n",
        "        if n_frames < self.seq_len:\n",
        "          new_frames = self.seq_len - n_frames\n",
        "          for n in range(0, new_frames):\n",
        "            frames.append(frames[n % n_frames])\n",
        "\n",
        "        s = slice(self.start_frame, self.start_frame + self.seq_len)\n",
        "        return ImageTuple(tuple(PILImage.create(f) for f in frames[s]))"
      ],
      "metadata": {
        "id": "IzskQ1GA2DC0"
      },
      "execution_count": null,
      "outputs": []
    },
    {
      "cell_type": "code",
      "source": [
        "# Esta función le dice al dataset donde buscar las X (frames de los videos)\n",
        "def get_x(row): return path_frames/row['FileName']\n",
        "# Y esta le dice donde buscar la Y, el target de cada X\n",
        "def get_y(row): return row['target']"
      ],
      "metadata": {
        "id": "iextjJ_lXydy"
      },
      "execution_count": null,
      "outputs": []
    },
    {
      "cell_type": "code",
      "source": [
        "video_frames_path = path_frames.ls()[10]\n",
        "len(video_frames_path.ls_sorted())"
      ],
      "metadata": {
        "id": "yRM8ZJ3iHbvH",
        "colab": {
          "base_uri": "https://localhost:8080/"
        },
        "outputId": "74aa2155-82a7-4536-e4e9-434ba8ad207c"
      },
      "execution_count": null,
      "outputs": [
        {
          "output_type": "execute_result",
          "data": {
            "text/plain": [
              "120"
            ]
          },
          "metadata": {},
          "execution_count": 42
        }
      ]
    },
    {
      "cell_type": "code",
      "source": [
        "# comprobamos que funciona, deberia darnos 120 frames\n",
        "tpl = ImageTupleTfm(seq_len=120)\n",
        "len(tpl(video_frames_path))"
      ],
      "metadata": {
        "id": "lc1iDglQHgd-",
        "colab": {
          "base_uri": "https://localhost:8080/"
        },
        "outputId": "53d61717-30d2-4089-e507-1303c9e907a0"
      },
      "execution_count": null,
      "outputs": [
        {
          "output_type": "execute_result",
          "data": {
            "text/plain": [
              "120"
            ]
          },
          "metadata": {},
          "execution_count": 43
        }
      ]
    },
    {
      "cell_type": "markdown",
      "source": [
        "# Training loop"
      ],
      "metadata": {
        "id": "BzvRDafhPvjb"
      }
    },
    {
      "cell_type": "code",
      "source": [
        "# definimos el grid de parametros\n",
        "\n",
        "start_frame=[0]\n",
        "#start_frame = np.arange(0, 40, 10)\n",
        "\n",
        "seq_len=[40]\n",
        "#start_frame = np.arange(10, 90, 10)\n",
        "\n",
        "batch_augmentation = False # False / True\n",
        "\n",
        "#dropout = np.arange(0, 1, 0.10)\n",
        "dropout = [0.40]\n",
        "\n",
        "# arquitectura de modelo que vamos a usar\n",
        "model_arch = resnet18\n",
        "\n",
        "# vamos a entrenar solo 20 sin unfreeze\n",
        "epochs_freeze = 20\n",
        "\n",
        "# batch size\n",
        "bs = 8"
      ],
      "metadata": {
        "id": "NjWCboSnQlrA"
      },
      "execution_count": null,
      "outputs": []
    },
    {
      "cell_type": "code",
      "source": [
        "# definimos transformaciones para batch augmentation\n",
        "batch_transforms = []\n",
        "\n",
        "if batch_augmentation == True:\n",
        "  batch_transforms = [\n",
        "      Brightness(max_lighting=0.05, p=0.75),\n",
        "      Contrast(max_lighting=0.05, p=0.75),\n",
        "      Rotate(max_deg=3, p=0.5)\n",
        "  ]"
      ],
      "metadata": {
        "id": "IUy9A0-NzIJH"
      },
      "execution_count": null,
      "outputs": []
    },
    {
      "cell_type": "code",
      "source": [
        "# creamos un nuevo DataFrame vacío llamado 'results'\n",
        "results = pd.DataFrame()"
      ],
      "metadata": {
        "id": "DO42XqyfqVlj"
      },
      "execution_count": null,
      "outputs": []
    },
    {
      "cell_type": "code",
      "source": [
        "for sf in start_frame:\n",
        "  for sq in seq_len:\n",
        "    for do in dropout:\n",
        "      print(\"\\n\\n=========================\")\n",
        "      print(f\"start_frame: {sf}; seq_len: {sq}; dropout: {do}; model: {model_arch};\")\n",
        "      seed_everything(random_seed)\n",
        "\n",
        "      # creamos dataloader a partir del dataset\n",
        "      # definimos dataset a partir del dataframe\n",
        "      ds = Datasets(train_df,\n",
        "                  tfms=[[get_x, ImageTupleTfm(seq_len=sq, start_frame=sf)],\n",
        "                        [get_y, Categorize]],\n",
        "                  splits=splits(train_df))\n",
        "\n",
        "      # defininimos una clase llamada 'ClassificationModel' que se utiliza para crear un modelo de clasificación personalizado\n",
        "      class ClassificationModel(Module):\n",
        "          def __init__(self, model):\n",
        "            # capa encoder que aplica 'create_body(model)' a cada paso de tiempo (TimeDistributed)\n",
        "            self.encoder = TimeDistributed(create_body(model))\n",
        "            # capa de dropout con el valor 'do'.\n",
        "            self.dropout = nn.Dropout(do)\n",
        "            # capa head que aplica 'create_head' al número de características de la capa fc de 'model' con 2 clases\n",
        "            self.head = TimeDistributed(create_head(model.fc.in_features, 2))\n",
        "\n",
        "          def forward(self, x):\n",
        "            # apilamos los tensores en 'x' a lo largo de la dimensión 1\n",
        "            x = torch.stack(x, dim=1)\n",
        "            # aplicamos dropout a la salida del encoder\n",
        "            x = self.dropout(self.encoder(x))\n",
        "            return self.head(x).mean(dim=1)\n",
        "\n",
        "      # definimos la función 'simple_splitter' que separa los parámetros de encoder y head del modelo\n",
        "      def simple_splitter(model): return [params(model.encoder), params(model.head)]\n",
        "\n",
        "      # creamos un conjunto de dataloaders (dls) a partir del dataset (ds)\n",
        "      dls = ds.dataloaders(bs=bs, after_item=[Resize(112), ToTensor],\n",
        "                     after_batch=[IntToFloatTensor, *batch_transforms, Normalize.from_stats(*imagenet_stats)])\n",
        "\n",
        "      # creamos un modelo utilizando la clase 'ClassificationModel' con arquitectura preentrenada\n",
        "      model = ClassificationModel(model_arch(pretrained=True)).cuda()\n",
        "\n",
        "      # creamos un objeto 'learn' que utiliza el modelo y dataloaders y configura métricas y el splitter\n",
        "      learn = Learner(dls, model,\n",
        "                metrics=[accuracy, Recall(), Precision(), RocAucBinary(), FBeta(beta=2, average='binary')],\n",
        "                splitter=simple_splitter).to_fp16()\n",
        "\n",
        "      # realiza una búsqueda de la tasa de aprendizaje (LR) utilizando el método lr_find\n",
        "      lrs = learn.lr_find(suggest_funcs=(minimum, steep, valley, slide))\n",
        "      lr = lrs.valley\n",
        "      plt.show()\n",
        "\n",
        "      print(f\"LR: {lr}\")\n",
        "\n",
        "      # definimos una lista de callbacks (cbs) que contiene un callback para guardar el mejor modelo basado en 'fbeta_score'\n",
        "      cbs = [\n",
        "            SaveModelCallback(monitor='fbeta_score', fname=\"best-fbeta\", every_epoch=False, reset_on_fit=False)\n",
        "      ]\n",
        "\n",
        "      # entrenamos el modelo durante 'epochs_freeze' épocas utilizando el método 'fit_one_cycle' con los callbacks definidos\n",
        "      learn.fit_one_cycle(epochs_freeze, lr, cbs=cbs)\n",
        "      learn.recorder.plot_loss()\n",
        "      plt.show()\n",
        "\n",
        "      # cargamos el modelo con el mejor rendimiento en términos de 'fbeta_score'\n",
        "      learn.load(\"best-fbeta\")\n",
        "\n",
        "      # calculamos la matriz de confusión\n",
        "      interp = ClassificationInterpretation.from_learner(learn)\n",
        "      interp.plot_confusion_matrix(figsize=(8, 8), dpi=60)\n",
        "      plt.show()\n",
        "\n",
        "      # obtenemos las predicciones (preds) y los objetivos reales (targets) utilizando el método 'get_preds'\n",
        "      preds, targets = learn.get_preds()\n",
        "      # calculamos las clases predichas tomando el índice del valor máximo en las predicciones (preds)\n",
        "      predicted_classes = preds.argmax(dim=1)\n",
        "\n",
        "      # calculamos las métricas en el conjunto de validación\n",
        "      targets = targets.cpu()\n",
        "      valid_acc = accuracy_score(targets, predicted_classes)\n",
        "      valid_f2 = fbeta_score(targets, predicted_classes, beta=2, average='binary')\n",
        "      valid_auc = roc_auc_score(targets, preds.cpu()[:, 1])\n",
        "      valid_recall = recall_score(targets, predicted_classes)\n",
        "      valid_precision = precision_score(targets, predicted_classes)\n",
        "      valid_df = train_df.iloc[valid_idx].copy()\n",
        "      valid_df['predicted'] = predicted_classes\n",
        "\n",
        "      # preparamos el conjunto de test\n",
        "      test_df = df.iloc[test_idx].copy().reset_index(drop=True)\n",
        "      test_data = dls.test_dl(test_df)\n",
        "      preds, _ = learn.tta(dl=test_data)\n",
        "      predicted_classes = np.argmax(preds, axis=1)\n",
        "      targets = test_df['target']\n",
        "\n",
        "      # calculamos las métricas en el conjunto de test\n",
        "      test_acc = accuracy_score(targets, predicted_classes)\n",
        "      test_f2 = fbeta_score(targets, predicted_classes, beta=2, average='binary')\n",
        "      test_auc = roc_auc_score(targets, preds.cpu()[:, 1])\n",
        "      test_recall = recall_score(targets, predicted_classes)\n",
        "      test_precision = precision_score(targets, predicted_classes)\n",
        "      test_df['predicted'] = predicted_classes\n",
        "\n",
        "      # creamos un DataFrame temporal (tmp_df) con el resumen de resultados\n",
        "      tmp_df = pd.DataFrame([{\n",
        "        \"model_arch\": model_arch.__name__, \"bcet\": use_bcet, \"batch_aug\": batch_augmentation, \"dropout\": do, \"oversmp\": oversampling_min,\n",
        "        \"epochs\": epochs_freeze, \"lr\": lr, \"batch_size\": bs, \"start_frame\": sf, \"seq_len\": sq,\n",
        "        \"valid_acc\": valid_acc, \"valid_auc\": valid_auc, \"valid_f2\": valid_f2, \"valid_precision\": valid_precision, \"valid_recall\": valid_recall,\n",
        "        \"test_acc\": test_acc, \"test_auc\": test_auc, \"test_f2\": test_f2, \"test_precision\": test_precision, \"test_recall\": test_recall\n",
        "      }])\n",
        "\n",
        "      results = pd.concat([results, tmp_df], axis=0)\n",
        "\n",
        "      print(tmp_df)\n",
        "      print(\"\\nValid - % errores por banda de FEVI\")\n",
        "      print(valid_df[valid_df['target'] != valid_df['predicted']]['FEVI10'].value_counts() / valid_df['FEVI10'].value_counts())\n",
        "\n",
        "      print(\"\\nTest - % errores por banda de FEVI\")\n",
        "      print(test_df[test_df['target'] != test_df['predicted']]['FEVI10'].value_counts() / test_df['FEVI10'].value_counts())\n",
        "\n",
        "      gc.collect()\n",
        "      torch.cuda.empty_cache()"
      ],
      "metadata": {
        "id": "9Q8Wj865DAPm",
        "colab": {
          "base_uri": "https://localhost:8080/",
          "height": 1000
        },
        "outputId": "12d306d2-64c4-4e10-9c6f-dc7f6f17aefe"
      },
      "execution_count": null,
      "outputs": [
        {
          "output_type": "stream",
          "name": "stdout",
          "text": [
            "\n",
            "\n",
            "=========================\n",
            "start_frame: 0; seq_len: 40; dropout: 0.4; model: <function resnet18 at 0x7e13dd799360>;\n"
          ]
        },
        {
          "output_type": "stream",
          "name": "stderr",
          "text": [
            "Downloading: \"https://download.pytorch.org/models/resnet18-f37072fd.pth\" to /root/.cache/torch/hub/checkpoints/resnet18-f37072fd.pth\n",
            "100%|██████████| 44.7M/44.7M [00:00<00:00, 159MB/s]\n"
          ]
        },
        {
          "output_type": "display_data",
          "data": {
            "text/plain": [
              "<IPython.core.display.HTML object>"
            ],
            "text/html": [
              "\n",
              "<style>\n",
              "    /* Turns off some styling */\n",
              "    progress {\n",
              "        /* gets rid of default border in Firefox and Opera. */\n",
              "        border: none;\n",
              "        /* Needs to be in here for Safari polyfill so background images work as expected. */\n",
              "        background-size: auto;\n",
              "    }\n",
              "    progress:not([value]), progress:not([value])::-webkit-progress-bar {\n",
              "        background: repeating-linear-gradient(45deg, #7e7e7e, #7e7e7e 10px, #5c5c5c 10px, #5c5c5c 20px);\n",
              "    }\n",
              "    .progress-bar-interrupted, .progress-bar-interrupted::-webkit-progress-bar {\n",
              "        background: #F44336;\n",
              "    }\n",
              "</style>\n"
            ]
          },
          "metadata": {}
        },
        {
          "output_type": "display_data",
          "data": {
            "text/plain": [
              "<IPython.core.display.HTML object>"
            ],
            "text/html": []
          },
          "metadata": {}
        },
        {
          "output_type": "display_data",
          "data": {
            "text/plain": [
              "<Figure size 640x480 with 1 Axes>"
            ],
            "image/png": "[encoded data removed]"
          },
          "metadata": {}
        },
        {
          "output_type": "stream",
          "name": "stdout",
          "text": [
            "LR: 0.0002754228771664202\n"
          ]
        },
        {
          "output_type": "display_data",
          "data": {
            "text/plain": [
              "<IPython.core.display.HTML object>"
            ],
            "text/html": [
              "\n",
              "<style>\n",
              "    /* Turns off some styling */\n",
              "    progress {\n",
              "        /* gets rid of default border in Firefox and Opera. */\n",
              "        border: none;\n",
              "        /* Needs to be in here for Safari polyfill so background images work as expected. */\n",
              "        background-size: auto;\n",
              "    }\n",
              "    progress:not([value]), progress:not([value])::-webkit-progress-bar {\n",
              "        background: repeating-linear-gradient(45deg, #7e7e7e, #7e7e7e 10px, #5c5c5c 10px, #5c5c5c 20px);\n",
              "    }\n",
              "    .progress-bar-interrupted, .progress-bar-interrupted::-webkit-progress-bar {\n",
              "        background: #F44336;\n",
              "    }\n",
              "</style>\n"
            ]
          },
          "metadata": {}
        },
        {
          "output_type": "display_data",
          "data": {
            "text/plain": [
              "<IPython.core.display.HTML object>"
            ],
            "text/html": [
              "<table border=\"1\" class=\"dataframe\">\n",
              "  <thead>\n",
              "    <tr style=\"text-align: left;\">\n",
              "      <th>epoch</th>\n",
              "      <th>train_loss</th>\n",
              "      <th>valid_loss</th>\n",
              "      <th>accuracy</th>\n",
              "      <th>recall_score</th>\n",
              "      <th>precision_score</th>\n",
              "      <th>roc_auc_score</th>\n",
              "      <th>fbeta_score</th>\n",
              "      <th>time</th>\n",
              "    </tr>\n",
              "  </thead>\n",
              "  <tbody>\n",
              "    <tr>\n",
              "      <td>0</td>\n",
              "      <td>0.658061</td>\n",
              "      <td>0.702935</td>\n",
              "      <td>0.527397</td>\n",
              "      <td>0.812500</td>\n",
              "      <td>0.292135</td>\n",
              "      <td>0.729441</td>\n",
              "      <td>0.599078</td>\n",
              "      <td>01:09</td>\n",
              "    </tr>\n",
              "    <tr>\n",
              "      <td>1</td>\n",
              "      <td>0.614840</td>\n",
              "      <td>0.710031</td>\n",
              "      <td>0.609589</td>\n",
              "      <td>0.687500</td>\n",
              "      <td>0.318841</td>\n",
              "      <td>0.723958</td>\n",
              "      <td>0.558376</td>\n",
              "      <td>01:11</td>\n",
              "    </tr>\n",
              "    <tr>\n",
              "      <td>2</td>\n",
              "      <td>0.582205</td>\n",
              "      <td>0.518626</td>\n",
              "      <td>0.760274</td>\n",
              "      <td>0.656250</td>\n",
              "      <td>0.466667</td>\n",
              "      <td>0.776727</td>\n",
              "      <td>0.606936</td>\n",
              "      <td>01:10</td>\n",
              "    </tr>\n",
              "    <tr>\n",
              "      <td>3</td>\n",
              "      <td>0.496805</td>\n",
              "      <td>0.420304</td>\n",
              "      <td>0.856164</td>\n",
              "      <td>0.593750</td>\n",
              "      <td>0.703704</td>\n",
              "      <td>0.809759</td>\n",
              "      <td>0.612903</td>\n",
              "      <td>01:09</td>\n",
              "    </tr>\n",
              "    <tr>\n",
              "      <td>4</td>\n",
              "      <td>0.423884</td>\n",
              "      <td>0.395492</td>\n",
              "      <td>0.828767</td>\n",
              "      <td>0.656250</td>\n",
              "      <td>0.600000</td>\n",
              "      <td>0.858553</td>\n",
              "      <td>0.644172</td>\n",
              "      <td>01:09</td>\n",
              "    </tr>\n",
              "    <tr>\n",
              "      <td>5</td>\n",
              "      <td>0.345733</td>\n",
              "      <td>0.353990</td>\n",
              "      <td>0.869863</td>\n",
              "      <td>0.718750</td>\n",
              "      <td>0.696970</td>\n",
              "      <td>0.858416</td>\n",
              "      <td>0.714286</td>\n",
              "      <td>01:09</td>\n",
              "    </tr>\n",
              "    <tr>\n",
              "      <td>6</td>\n",
              "      <td>0.270701</td>\n",
              "      <td>0.422338</td>\n",
              "      <td>0.773973</td>\n",
              "      <td>0.781250</td>\n",
              "      <td>0.490196</td>\n",
              "      <td>0.890214</td>\n",
              "      <td>0.698324</td>\n",
              "      <td>01:08</td>\n",
              "    </tr>\n",
              "    <tr>\n",
              "      <td>7</td>\n",
              "      <td>0.229863</td>\n",
              "      <td>0.403636</td>\n",
              "      <td>0.821918</td>\n",
              "      <td>0.718750</td>\n",
              "      <td>0.575000</td>\n",
              "      <td>0.858553</td>\n",
              "      <td>0.684524</td>\n",
              "      <td>01:07</td>\n",
              "    </tr>\n",
              "    <tr>\n",
              "      <td>8</td>\n",
              "      <td>0.184292</td>\n",
              "      <td>0.390516</td>\n",
              "      <td>0.869863</td>\n",
              "      <td>0.687500</td>\n",
              "      <td>0.709677</td>\n",
              "      <td>0.881579</td>\n",
              "      <td>0.691824</td>\n",
              "      <td>01:07</td>\n",
              "    </tr>\n",
              "    <tr>\n",
              "      <td>9</td>\n",
              "      <td>0.147553</td>\n",
              "      <td>0.511845</td>\n",
              "      <td>0.815068</td>\n",
              "      <td>0.843750</td>\n",
              "      <td>0.551020</td>\n",
              "      <td>0.885143</td>\n",
              "      <td>0.762712</td>\n",
              "      <td>01:08</td>\n",
              "    </tr>\n",
              "    <tr>\n",
              "      <td>10</td>\n",
              "      <td>0.139903</td>\n",
              "      <td>0.412549</td>\n",
              "      <td>0.883562</td>\n",
              "      <td>0.625000</td>\n",
              "      <td>0.800000</td>\n",
              "      <td>0.867599</td>\n",
              "      <td>0.653595</td>\n",
              "      <td>01:07</td>\n",
              "    </tr>\n",
              "    <tr>\n",
              "      <td>11</td>\n",
              "      <td>0.103044</td>\n",
              "      <td>0.413988</td>\n",
              "      <td>0.856164</td>\n",
              "      <td>0.531250</td>\n",
              "      <td>0.739130</td>\n",
              "      <td>0.856634</td>\n",
              "      <td>0.562914</td>\n",
              "      <td>01:08</td>\n",
              "    </tr>\n",
              "    <tr>\n",
              "      <td>12</td>\n",
              "      <td>0.086011</td>\n",
              "      <td>0.346993</td>\n",
              "      <td>0.869863</td>\n",
              "      <td>0.812500</td>\n",
              "      <td>0.666667</td>\n",
              "      <td>0.911870</td>\n",
              "      <td>0.778443</td>\n",
              "      <td>01:07</td>\n",
              "    </tr>\n",
              "    <tr>\n",
              "      <td>13</td>\n",
              "      <td>0.058904</td>\n",
              "      <td>0.493524</td>\n",
              "      <td>0.821918</td>\n",
              "      <td>0.937500</td>\n",
              "      <td>0.555556</td>\n",
              "      <td>0.912281</td>\n",
              "      <td>0.824176</td>\n",
              "      <td>01:07</td>\n",
              "    </tr>\n",
              "    <tr>\n",
              "      <td>14</td>\n",
              "      <td>0.030176</td>\n",
              "      <td>0.425964</td>\n",
              "      <td>0.869863</td>\n",
              "      <td>0.593750</td>\n",
              "      <td>0.760000</td>\n",
              "      <td>0.897752</td>\n",
              "      <td>0.620915</td>\n",
              "      <td>01:07</td>\n",
              "    </tr>\n",
              "    <tr>\n",
              "      <td>15</td>\n",
              "      <td>0.017147</td>\n",
              "      <td>0.378366</td>\n",
              "      <td>0.890411</td>\n",
              "      <td>0.687500</td>\n",
              "      <td>0.785714</td>\n",
              "      <td>0.895833</td>\n",
              "      <td>0.705128</td>\n",
              "      <td>01:08</td>\n",
              "    </tr>\n",
              "    <tr>\n",
              "      <td>16</td>\n",
              "      <td>0.007949</td>\n",
              "      <td>0.427405</td>\n",
              "      <td>0.876712</td>\n",
              "      <td>0.625000</td>\n",
              "      <td>0.769231</td>\n",
              "      <td>0.897478</td>\n",
              "      <td>0.649351</td>\n",
              "      <td>01:11</td>\n",
              "    </tr>\n",
              "    <tr>\n",
              "      <td>17</td>\n",
              "      <td>0.006551</td>\n",
              "      <td>0.460747</td>\n",
              "      <td>0.876712</td>\n",
              "      <td>0.625000</td>\n",
              "      <td>0.769231</td>\n",
              "      <td>0.893640</td>\n",
              "      <td>0.649351</td>\n",
              "      <td>01:08</td>\n",
              "    </tr>\n",
              "    <tr>\n",
              "      <td>18</td>\n",
              "      <td>0.005584</td>\n",
              "      <td>0.440105</td>\n",
              "      <td>0.869863</td>\n",
              "      <td>0.625000</td>\n",
              "      <td>0.740741</td>\n",
              "      <td>0.896382</td>\n",
              "      <td>0.645161</td>\n",
              "      <td>01:08</td>\n",
              "    </tr>\n",
              "    <tr>\n",
              "      <td>19</td>\n",
              "      <td>0.006139</td>\n",
              "      <td>0.437666</td>\n",
              "      <td>0.869863</td>\n",
              "      <td>0.625000</td>\n",
              "      <td>0.740741</td>\n",
              "      <td>0.899397</td>\n",
              "      <td>0.645161</td>\n",
              "      <td>01:09</td>\n",
              "    </tr>\n",
              "  </tbody>\n",
              "</table>"
            ]
          },
          "metadata": {}
        },
        {
          "output_type": "stream",
          "name": "stdout",
          "text": [
            "Better model found at epoch 0 with fbeta_score value: 0.599078341013825.\n",
            "Better model found at epoch 2 with fbeta_score value: 0.6069364161849711.\n",
            "Better model found at epoch 3 with fbeta_score value: 0.6129032258064515.\n",
            "Better model found at epoch 4 with fbeta_score value: 0.6441717791411044.\n",
            "Better model found at epoch 5 with fbeta_score value: 0.7142857142857143.\n",
            "Better model found at epoch 9 with fbeta_score value: 0.7627118644067797.\n",
            "Better model found at epoch 12 with fbeta_score value: 0.778443113772455.\n",
            "Better model found at epoch 13 with fbeta_score value: 0.8241758241758241.\n"
          ]
        },
        {
          "output_type": "display_data",
          "data": {
            "text/plain": [
              "<Figure size 640x480 with 1 Axes>"
            ],
            "image/png": "[encoded data removed]"
          },
          "metadata": {}
        },
        {
          "output_type": "display_data",
          "data": {
            "text/plain": [
              "<IPython.core.display.HTML object>"
            ],
            "text/html": [
              "\n",
              "<style>\n",
              "    /* Turns off some styling */\n",
              "    progress {\n",
              "        /* gets rid of default border in Firefox and Opera. */\n",
              "        border: none;\n",
              "        /* Needs to be in here for Safari polyfill so background images work as expected. */\n",
              "        background-size: auto;\n",
              "    }\n",
              "    progress:not([value]), progress:not([value])::-webkit-progress-bar {\n",
              "        background: repeating-linear-gradient(45deg, #7e7e7e, #7e7e7e 10px, #5c5c5c 10px, #5c5c5c 20px);\n",
              "    }\n",
              "    .progress-bar-interrupted, .progress-bar-interrupted::-webkit-progress-bar {\n",
              "        background: #F44336;\n",
              "    }\n",
              "</style>\n"
            ]
          },
          "metadata": {}
        },
        {
          "output_type": "display_data",
          "data": {
            "text/plain": [
              "<IPython.core.display.HTML object>"
            ],
            "text/html": []
          },
          "metadata": {}
        },
        {
          "output_type": "display_data",
          "data": {
            "text/plain": [
              "<IPython.core.display.HTML object>"
            ],
            "text/html": [
              "\n",
              "<style>\n",
              "    /* Turns off some styling */\n",
              "    progress {\n",
              "        /* gets rid of default border in Firefox and Opera. */\n",
              "        border: none;\n",
              "        /* Needs to be in here for Safari polyfill so background images work as expected. */\n",
              "        background-size: auto;\n",
              "    }\n",
              "    progress:not([value]), progress:not([value])::-webkit-progress-bar {\n",
              "        background: repeating-linear-gradient(45deg, #7e7e7e, #7e7e7e 10px, #5c5c5c 10px, #5c5c5c 20px);\n",
              "    }\n",
              "    .progress-bar-interrupted, .progress-bar-interrupted::-webkit-progress-bar {\n",
              "        background: #F44336;\n",
              "    }\n",
              "</style>\n"
            ]
          },
          "metadata": {}
        },
        {
          "output_type": "display_data",
          "data": {
            "text/plain": [
              "<IPython.core.display.HTML object>"
            ],
            "text/html": []
          },
          "metadata": {}
        },
        {
          "output_type": "display_data",
          "data": {
            "text/plain": [
              "<Figure size 480x480 with 1 Axes>"
            ],
            "image/png": "[encoded data removed]"
          },
          "metadata": {}
        },
        {
          "output_type": "display_data",
          "data": {
            "text/plain": [
              "<IPython.core.display.HTML object>"
            ],
            "text/html": [
              "\n",
              "<style>\n",
              "    /* Turns off some styling */\n",
              "    progress {\n",
              "        /* gets rid of default border in Firefox and Opera. */\n",
              "        border: none;\n",
              "        /* Needs to be in here for Safari polyfill so background images work as expected. */\n",
              "        background-size: auto;\n",
              "    }\n",
              "    progress:not([value]), progress:not([value])::-webkit-progress-bar {\n",
              "        background: repeating-linear-gradient(45deg, #7e7e7e, #7e7e7e 10px, #5c5c5c 10px, #5c5c5c 20px);\n",
              "    }\n",
              "    .progress-bar-interrupted, .progress-bar-interrupted::-webkit-progress-bar {\n",
              "        background: #F44336;\n",
              "    }\n",
              "</style>\n"
            ]
          },
          "metadata": {}
        },
        {
          "output_type": "display_data",
          "data": {
            "text/plain": [
              "<IPython.core.display.HTML object>"
            ],
            "text/html": []
          },
          "metadata": {}
        },
        {
          "output_type": "display_data",
          "data": {
            "text/plain": [
              "<IPython.core.display.HTML object>"
            ],
            "text/html": [
              "\n",
              "<style>\n",
              "    /* Turns off some styling */\n",
              "    progress {\n",
              "        /* gets rid of default border in Firefox and Opera. */\n",
              "        border: none;\n",
              "        /* Needs to be in here for Safari polyfill so background images work as expected. */\n",
              "        background-size: auto;\n",
              "    }\n",
              "    progress:not([value]), progress:not([value])::-webkit-progress-bar {\n",
              "        background: repeating-linear-gradient(45deg, #7e7e7e, #7e7e7e 10px, #5c5c5c 10px, #5c5c5c 20px);\n",
              "    }\n",
              "    .progress-bar-interrupted, .progress-bar-interrupted::-webkit-progress-bar {\n",
              "        background: #F44336;\n",
              "    }\n",
              "</style>\n"
            ]
          },
          "metadata": {}
        },
        {
          "output_type": "display_data",
          "data": {
            "text/plain": [
              "<IPython.core.display.HTML object>"
            ],
            "text/html": [
              "\n",
              "    <div>\n",
              "      <progress value='0' class='' max='20' style='width:300px; height:20px; vertical-align: middle;'></progress>\n",
              "      \n",
              "    </div>\n",
              "    \n"
            ]
          },
          "metadata": {}
        },
        {
          "output_type": "display_data",
          "data": {
            "text/plain": [
              "<IPython.core.display.HTML object>"
            ],
            "text/html": [
              "\n",
              "<style>\n",
              "    /* Turns off some styling */\n",
              "    progress {\n",
              "        /* gets rid of default border in Firefox and Opera. */\n",
              "        border: none;\n",
              "        /* Needs to be in here for Safari polyfill so background images work as expected. */\n",
              "        background-size: auto;\n",
              "    }\n",
              "    progress:not([value]), progress:not([value])::-webkit-progress-bar {\n",
              "        background: repeating-linear-gradient(45deg, #7e7e7e, #7e7e7e 10px, #5c5c5c 10px, #5c5c5c 20px);\n",
              "    }\n",
              "    .progress-bar-interrupted, .progress-bar-interrupted::-webkit-progress-bar {\n",
              "        background: #F44336;\n",
              "    }\n",
              "</style>\n"
            ]
          },
          "metadata": {}
        },
        {
          "output_type": "display_data",
          "data": {
            "text/plain": [
              "<IPython.core.display.HTML object>"
            ],
            "text/html": []
          },
          "metadata": {}
        },
        {
          "output_type": "stream",
          "name": "stdout",
          "text": [
            "  model_arch   bcet  batch_aug  dropout  oversmp  epochs        lr  \\\n",
            "0   resnet18  False      False      0.4        0      20  0.000275   \n",
            "\n",
            "   batch_size  start_frame  seq_len  valid_acc  valid_auc  valid_f2  \\\n",
            "0           8            0       40   0.821918   0.912281  0.824176   \n",
            "\n",
            "   valid_precision  valid_recall  test_acc  test_auc   test_f2  \\\n",
            "0         0.555556        0.9375  0.821918  0.910636  0.767045   \n",
            "\n",
            "   test_precision  test_recall  \n",
            "0          0.5625      0.84375  \n",
            "\n",
            "Valid - % errores por banda de FEVI\n",
            "3.0         NaN\n",
            "4.0    0.153846\n",
            "5.0    0.347826\n",
            "6.0    0.117647\n",
            "Name: FEVI10, dtype: float64\n",
            "\n",
            "Test - % errores por banda de FEVI\n",
            "3.0    0.052632\n",
            "4.0    0.307692\n",
            "5.0    0.260870\n",
            "6.0    0.132353\n",
            "Name: FEVI10, dtype: float64\n"
          ]
        }
      ]
    },
    {
      "cell_type": "markdown",
      "source": [
        "# Resultados"
      ],
      "metadata": {
        "id": "9J_9cJD8eFtF"
      }
    },
    {
      "cell_type": "code",
      "source": [
        "# ordenamos resultados para ver que parametros nos da mejores resultados\n",
        "results.sort_values('test_f2', ascending=True).head(30)"
      ],
      "metadata": {
        "id": "x4lBiXdlCu4I",
        "colab": {
          "base_uri": "https://localhost:8080/",
          "height": 81
        },
        "outputId": "550a61c9-0763-4d3c-b5bd-c0edc98cd180"
      },
      "execution_count": null,
      "outputs": [
        {
          "output_type": "execute_result",
          "data": {
            "text/plain": [
              "  model_arch   bcet  batch_aug  dropout  oversmp  epochs        lr  \\\n",
              "0   resnet18  False      False      0.4        0      20  0.000275   \n",
              "\n",
              "   batch_size  start_frame  seq_len  valid_acc  valid_auc  valid_f2  \\\n",
              "0           8            0       40   0.821918   0.912281  0.824176   \n",
              "\n",
              "   valid_precision  valid_recall  test_acc  test_auc   test_f2  \\\n",
              "0         0.555556        0.9375  0.821918  0.910636  0.767045   \n",
              "\n",
              "   test_precision  test_recall  \n",
              "0          0.5625      0.84375  "
            ],
            "text/html": [
              "\n",
              "  <div id=\"df-ec6dbbce-7355-4e01-a9b1-3cd4ccb1e4c2\" class=\"colab-df-container\">\n",
              "    <div>\n",
              "<style scoped>\n",
              "    .dataframe tbody tr th:only-of-type {\n",
              "        vertical-align: middle;\n",
              "    }\n",
              "\n",
              "    .dataframe tbody tr th {\n",
              "        vertical-align: top;\n",
              "    }\n",
              "\n",
              "    .dataframe thead th {\n",
              "        text-align: right;\n",
              "    }\n",
              "</style>\n",
              "<table border=\"1\" class=\"dataframe\">\n",
              "  <thead>\n",
              "    <tr style=\"text-align: right;\">\n",
              "      <th></th>\n",
              "      <th>model_arch</th>\n",
              "      <th>bcet</th>\n",
              "      <th>batch_aug</th>\n",
              "      <th>dropout</th>\n",
              "      <th>oversmp</th>\n",
              "      <th>epochs</th>\n",
              "      <th>lr</th>\n",
              "      <th>batch_size</th>\n",
              "      <th>start_frame</th>\n",
              "      <th>seq_len</th>\n",
              "      <th>valid_acc</th>\n",
              "      <th>valid_auc</th>\n",
              "      <th>valid_f2</th>\n",
              "      <th>valid_precision</th>\n",
              "      <th>valid_recall</th>\n",
              "      <th>test_acc</th>\n",
              "      <th>test_auc</th>\n",
              "      <th>test_f2</th>\n",
              "      <th>test_precision</th>\n",
              "      <th>test_recall</th>\n",
              "    </tr>\n",
              "  </thead>\n",
              "  <tbody>\n",
              "    <tr>\n",
              "      <th>0</th>\n",
              "      <td>resnet18</td>\n",
              "      <td>False</td>\n",
              "      <td>False</td>\n",
              "      <td>0.4</td>\n",
              "      <td>0</td>\n",
              "      <td>20</td>\n",
              "      <td>0.000275</td>\n",
              "      <td>8</td>\n",
              "      <td>0</td>\n",
              "      <td>40</td>\n",
              "      <td>0.821918</td>\n",
              "      <td>0.912281</td>\n",
              "      <td>0.824176</td>\n",
              "      <td>0.555556</td>\n",
              "      <td>0.9375</td>\n",
              "      <td>0.821918</td>\n",
              "      <td>0.910636</td>\n",
              "      <td>0.767045</td>\n",
              "      <td>0.5625</td>\n",
              "      <td>0.84375</td>\n",
              "    </tr>\n",
              "  </tbody>\n",
              "</table>\n",
              "</div>\n",
              "    <div class=\"colab-df-buttons\">\n",
              "\n",
              "  <div class=\"colab-df-container\">\n",
              "    <button class=\"colab-df-convert\" onclick=\"convertToInteractive('df-ec6dbbce-7355-4e01-a9b1-3cd4ccb1e4c2')\"\n",
              "            title=\"Convert this dataframe to an interactive table.\"\n",
              "            style=\"display:none;\">\n",
              "\n",
              "  <svg xmlns=\"http://www.w3.org/2000/svg\" height=\"24px\" viewBox=\"0 -960 960 960\">\n",
              "    <path d=\"M120-120v-720h720v720H120Zm60-500h600v-160H180v160Zm220 220h160v-160H400v160Zm0 220h160v-160H400v160ZM180-400h160v-160H180v160Zm440 0h160v-160H620v160ZM180-180h160v-160H180v160Zm440 0h160v-160H620v160Z\"/>\n",
              "  </svg>\n",
              "    </button>\n",
              "\n",
              "  <style>\n",
              "    .colab-df-container {\n",
              "      display:flex;\n",
              "      gap: 12px;\n",
              "    }\n",
              "\n",
              "    .colab-df-convert {\n",
              "      background-color: #E8F0FE;\n",
              "      border: none;\n",
              "      border-radius: 50%;\n",
              "      cursor: pointer;\n",
              "      display: none;\n",
              "      fill: #1967D2;\n",
              "      height: 32px;\n",
              "      padding: 0 0 0 0;\n",
              "      width: 32px;\n",
              "    }\n",
              "\n",
              "    .colab-df-convert:hover {\n",
              "      background-color: #E2EBFA;\n",
              "      box-shadow: 0px 1px 2px rgba(60, 64, 67, 0.3), 0px 1px 3px 1px rgba(60, 64, 67, 0.15);\n",
              "      fill: #174EA6;\n",
              "    }\n",
              "\n",
              "    .colab-df-buttons div {\n",
              "      margin-bottom: 4px;\n",
              "    }\n",
              "\n",
              "    [theme=dark] .colab-df-convert {\n",
              "      background-color: #3B4455;\n",
              "      fill: #D2E3FC;\n",
              "    }\n",
              "\n",
              "    [theme=dark] .colab-df-convert:hover {\n",
              "      background-color: #434B5C;\n",
              "      box-shadow: 0px 1px 3px 1px rgba(0, 0, 0, 0.15);\n",
              "      filter: drop-shadow(0px 1px 2px rgba(0, 0, 0, 0.3));\n",
              "      fill: #FFFFFF;\n",
              "    }\n",
              "  </style>\n",
              "\n",
              "    <script>\n",
              "      const buttonEl =\n",
              "        document.querySelector('#df-ec6dbbce-7355-4e01-a9b1-3cd4ccb1e4c2 button.colab-df-convert');\n",
              "      buttonEl.style.display =\n",
              "        google.colab.kernel.accessAllowed ? 'block' : 'none';\n",
              "\n",
              "      async function convertToInteractive(key) {\n",
              "        const element = document.querySelector('#df-ec6dbbce-7355-4e01-a9b1-3cd4ccb1e4c2');\n",
              "        const dataTable =\n",
              "          await google.colab.kernel.invokeFunction('convertToInteractive',\n",
              "                                                    [key], {});\n",
              "        if (!dataTable) return;\n",
              "\n",
              "        const docLinkHtml = 'Like what you see? Visit the ' +\n",
              "          '<a target=\"_blank\" href=https://colab.research.google.com/notebooks/data_table.ipynb>data table notebook</a>'\n",
              "          + ' to learn more about interactive tables.';\n",
              "        element.innerHTML = '';\n",
              "        dataTable['output_type'] = 'display_data';\n",
              "        await google.colab.output.renderOutput(dataTable, element);\n",
              "        const docLink = document.createElement('div');\n",
              "        docLink.innerHTML = docLinkHtml;\n",
              "        element.appendChild(docLink);\n",
              "      }\n",
              "    </script>\n",
              "  </div>\n",
              "\n",
              "    </div>\n",
              "  </div>\n"
            ]
          },
          "metadata": {},
          "execution_count": 48
        }
      ]
    },
    {
      "cell_type": "code",
      "source": [
        "# guardamos en un archivo csv los resultados\n",
        "results.to_csv(\"classification_grid-search_best2_v2.csv\")"
      ],
      "metadata": {
        "id": "XQy8VNBuCx7L"
      },
      "execution_count": null,
      "outputs": []
    },
    {
      "cell_type": "code",
      "source": [
        "results.to_excel(\"classification_gs_best2.xlsx\")"
      ],
      "metadata": {
        "id": "X_yXdcPkAgyT"
      },
      "execution_count": null,
      "outputs": []
    },
    {
      "cell_type": "code",
      "source": [
        "# definimos el grid de valores del umbral de decision desde 0 a 0.95 en multiplos de 0.05\n",
        "thresh_values = np.arange(0, 1, 0.05)"
      ],
      "metadata": {
        "id": "6vEh7DidkZPu"
      },
      "execution_count": null,
      "outputs": []
    },
    {
      "cell_type": "code",
      "source": [
        "# aplicamos la busqueda en rejilla segun los valores definidos para el umbral de decision\n",
        "for thresh in thresh_values:\n",
        "\n",
        "    preds, targets = learn.get_preds()\n",
        "    predicted_classes = (preds[:, 1] >= thresh).int()\n",
        "\n",
        "    targets = targets.cpu()\n",
        "    valid_acc = accuracy_score(targets, predicted_classes)\n",
        "    valid_f2 = fbeta_score(targets, predicted_classes, beta=2, average='binary')\n",
        "    valid_auc = roc_auc_score(targets, preds.cpu()[:, 1])\n",
        "    valid_recall = recall_score(targets, predicted_classes)\n",
        "    valid_precision = precision_score(targets, predicted_classes)\n",
        "    valid_df = train_df.iloc[valid_idx].copy()\n",
        "    valid_df['predicted'] = predicted_classes\n",
        "\n",
        "    test_df = df.iloc[test_idx].copy().reset_index(drop=True)\n",
        "    test_data = dls.test_dl(test_df)\n",
        "    preds, _ = learn.tta(dl=test_data)\n",
        "    predicted_classes = np.argmax((preds >= thresh).numpy().astype(np.int), axis=1)\n",
        "    targets = test_df['target']\n",
        "    test_acc = accuracy_score(targets, predicted_classes)\n",
        "    test_f2 = fbeta_score(targets, predicted_classes, beta=2, average='binary')\n",
        "    test_auc = roc_auc_score(targets, preds.cpu()[:, 1])\n",
        "    test_recall = recall_score(targets, predicted_classes)\n",
        "    test_precision = precision_score(targets, predicted_classes)\n",
        "    test_df['predicted'] = predicted_classes\n",
        "\n",
        "    tmp_df = pd.DataFrame([{\n",
        "      \"model_arch\": model_arch.__name__, \"threshold\": thresh, \"bcet\": use_bcet, \"batch_aug\": batch_augmentation, \"dropout\": do, \"oversmp\": oversampling_min,\n",
        "      \"epochs\": epochs_freeze, \"lr\": lr, \"batch_size\": bs, \"start_frame\": sf, \"seq_len\": sq,\n",
        "      \"valid_acc\": valid_acc, \"valid_auc\": valid_auc, \"valid_f2\": valid_f2, \"valid_precision\": valid_precision, \"valid_recall\": valid_recall,\n",
        "      \"test_acc\": test_acc, \"test_auc\": test_auc, \"test_f2\": test_f2, \"test_precision\": test_precision, \"test_recall\": test_recall\n",
        "    }])\n",
        "\n",
        "    results = pd.concat([results, tmp_df], axis=0)\n",
        "\n",
        "    print(tmp_df)\n",
        "    print(\"\\nValid - % errores por banda de FEVI\")\n",
        "    print(valid_df[valid_df['target'] != valid_df['predicted']]['FEVI10'].value_counts() / valid_df['FEVI10'].value_counts())\n",
        "\n",
        "    print(\"\\nTest - % errores por banda de FEVI\")\n",
        "    print(test_df[test_df['target'] != test_df['predicted']]['FEVI10'].value_counts() / test_df['FEVI10'].value_counts())\n",
        "\n",
        "    gc.collect()\n",
        "    torch.cuda.empty_cache()"
      ],
      "metadata": {
        "id": "QurkyfPvkAYt",
        "colab": {
          "base_uri": "https://localhost:8080/",
          "height": 1000
        },
        "outputId": "31070476-403e-4601-db47-87f76e1636f6"
      },
      "execution_count": null,
      "outputs": [
        {
          "output_type": "display_data",
          "data": {
            "text/plain": [
              "<IPython.core.display.HTML object>"
            ],
            "text/html": [
              "\n",
              "<style>\n",
              "    /* Turns off some styling */\n",
              "    progress {\n",
              "        /* gets rid of default border in Firefox and Opera. */\n",
              "        border: none;\n",
              "        /* Needs to be in here for Safari polyfill so background images work as expected. */\n",
              "        background-size: auto;\n",
              "    }\n",
              "    progress:not([value]), progress:not([value])::-webkit-progress-bar {\n",
              "        background: repeating-linear-gradient(45deg, #7e7e7e, #7e7e7e 10px, #5c5c5c 10px, #5c5c5c 20px);\n",
              "    }\n",
              "    .progress-bar-interrupted, .progress-bar-interrupted::-webkit-progress-bar {\n",
              "        background: #F44336;\n",
              "    }\n",
              "</style>\n"
            ]
          },
          "metadata": {}
        },
        {
          "output_type": "display_data",
          "data": {
            "text/plain": [
              "<IPython.core.display.HTML object>"
            ],
            "text/html": []
          },
          "metadata": {}
        },
        {
          "output_type": "display_data",
          "data": {
            "text/plain": [
              "<IPython.core.display.HTML object>"
            ],
            "text/html": [
              "\n",
              "<style>\n",
              "    /* Turns off some styling */\n",
              "    progress {\n",
              "        /* gets rid of default border in Firefox and Opera. */\n",
              "        border: none;\n",
              "        /* Needs to be in here for Safari polyfill so background images work as expected. */\n",
              "        background-size: auto;\n",
              "    }\n",
              "    progress:not([value]), progress:not([value])::-webkit-progress-bar {\n",
              "        background: repeating-linear-gradient(45deg, #7e7e7e, #7e7e7e 10px, #5c5c5c 10px, #5c5c5c 20px);\n",
              "    }\n",
              "    .progress-bar-interrupted, .progress-bar-interrupted::-webkit-progress-bar {\n",
              "        background: #F44336;\n",
              "    }\n",
              "</style>\n"
            ]
          },
          "metadata": {}
        },
        {
          "output_type": "display_data",
          "data": {
            "text/plain": [
              "<IPython.core.display.HTML object>"
            ],
            "text/html": [
              "\n",
              "    <div>\n",
              "      <progress value='0' class='' max='20' style='width:300px; height:20px; vertical-align: middle;'></progress>\n",
              "      \n",
              "    </div>\n",
              "    \n"
            ]
          },
          "metadata": {}
        },
        {
          "output_type": "display_data",
          "data": {
            "text/plain": [
              "<IPython.core.display.HTML object>"
            ],
            "text/html": [
              "\n",
              "<style>\n",
              "    /* Turns off some styling */\n",
              "    progress {\n",
              "        /* gets rid of default border in Firefox and Opera. */\n",
              "        border: none;\n",
              "        /* Needs to be in here for Safari polyfill so background images work as expected. */\n",
              "        background-size: auto;\n",
              "    }\n",
              "    progress:not([value]), progress:not([value])::-webkit-progress-bar {\n",
              "        background: repeating-linear-gradient(45deg, #7e7e7e, #7e7e7e 10px, #5c5c5c 10px, #5c5c5c 20px);\n",
              "    }\n",
              "    .progress-bar-interrupted, .progress-bar-interrupted::-webkit-progress-bar {\n",
              "        background: #F44336;\n",
              "    }\n",
              "</style>\n"
            ]
          },
          "metadata": {}
        },
        {
          "output_type": "display_data",
          "data": {
            "text/plain": [
              "<IPython.core.display.HTML object>"
            ],
            "text/html": []
          },
          "metadata": {}
        },
        {
          "output_type": "stream",
          "name": "stdout",
          "text": [
            "  model_arch  threshold   bcet  batch_aug  dropout  oversmp  epochs        lr  \\\n",
            "0   resnet18        0.0  False      False      0.4        0      20  0.000275   \n",
            "\n",
            "   batch_size  start_frame  ...  valid_acc  valid_auc  valid_f2  \\\n",
            "0           8            0  ...   0.219178   0.912281  0.583942   \n",
            "\n",
            "   valid_precision  valid_recall  test_acc  test_auc  test_f2  test_precision  \\\n",
            "0         0.219178           1.0  0.780822  0.910636      0.0             0.0   \n",
            "\n",
            "   test_recall  \n",
            "0          0.0  \n",
            "\n",
            "[1 rows x 21 columns]\n",
            "\n",
            "Valid - % errores por banda de FEVI\n",
            "3.0    NaN\n",
            "4.0    NaN\n",
            "5.0    1.0\n",
            "6.0    1.0\n",
            "Name: FEVI10, dtype: float64\n",
            "\n",
            "Test - % errores por banda de FEVI\n",
            "3.0    1.0\n",
            "4.0    1.0\n",
            "5.0    NaN\n",
            "6.0    NaN\n",
            "Name: FEVI10, dtype: float64\n"
          ]
        },
        {
          "output_type": "display_data",
          "data": {
            "text/plain": [
              "<IPython.core.display.HTML object>"
            ],
            "text/html": [
              "\n",
              "<style>\n",
              "    /* Turns off some styling */\n",
              "    progress {\n",
              "        /* gets rid of default border in Firefox and Opera. */\n",
              "        border: none;\n",
              "        /* Needs to be in here for Safari polyfill so background images work as expected. */\n",
              "        background-size: auto;\n",
              "    }\n",
              "    progress:not([value]), progress:not([value])::-webkit-progress-bar {\n",
              "        background: repeating-linear-gradient(45deg, #7e7e7e, #7e7e7e 10px, #5c5c5c 10px, #5c5c5c 20px);\n",
              "    }\n",
              "    .progress-bar-interrupted, .progress-bar-interrupted::-webkit-progress-bar {\n",
              "        background: #F44336;\n",
              "    }\n",
              "</style>\n"
            ]
          },
          "metadata": {}
        },
        {
          "output_type": "display_data",
          "data": {
            "text/plain": [
              "<IPython.core.display.HTML object>"
            ],
            "text/html": []
          },
          "metadata": {}
        },
        {
          "output_type": "display_data",
          "data": {
            "text/plain": [
              "<IPython.core.display.HTML object>"
            ],
            "text/html": [
              "\n",
              "<style>\n",
              "    /* Turns off some styling */\n",
              "    progress {\n",
              "        /* gets rid of default border in Firefox and Opera. */\n",
              "        border: none;\n",
              "        /* Needs to be in here for Safari polyfill so background images work as expected. */\n",
              "        background-size: auto;\n",
              "    }\n",
              "    progress:not([value]), progress:not([value])::-webkit-progress-bar {\n",
              "        background: repeating-linear-gradient(45deg, #7e7e7e, #7e7e7e 10px, #5c5c5c 10px, #5c5c5c 20px);\n",
              "    }\n",
              "    .progress-bar-interrupted, .progress-bar-interrupted::-webkit-progress-bar {\n",
              "        background: #F44336;\n",
              "    }\n",
              "</style>\n"
            ]
          },
          "metadata": {}
        },
        {
          "output_type": "display_data",
          "data": {
            "text/plain": [
              "<IPython.core.display.HTML object>"
            ],
            "text/html": [
              "\n",
              "    <div>\n",
              "      <progress value='0' class='' max='20' style='width:300px; height:20px; vertical-align: middle;'></progress>\n",
              "      \n",
              "    </div>\n",
              "    \n"
            ]
          },
          "metadata": {}
        },
        {
          "output_type": "display_data",
          "data": {
            "text/plain": [
              "<IPython.core.display.HTML object>"
            ],
            "text/html": [
              "\n",
              "<style>\n",
              "    /* Turns off some styling */\n",
              "    progress {\n",
              "        /* gets rid of default border in Firefox and Opera. */\n",
              "        border: none;\n",
              "        /* Needs to be in here for Safari polyfill so background images work as expected. */\n",
              "        background-size: auto;\n",
              "    }\n",
              "    progress:not([value]), progress:not([value])::-webkit-progress-bar {\n",
              "        background: repeating-linear-gradient(45deg, #7e7e7e, #7e7e7e 10px, #5c5c5c 10px, #5c5c5c 20px);\n",
              "    }\n",
              "    .progress-bar-interrupted, .progress-bar-interrupted::-webkit-progress-bar {\n",
              "        background: #F44336;\n",
              "    }\n",
              "</style>\n"
            ]
          },
          "metadata": {}
        },
        {
          "output_type": "display_data",
          "data": {
            "text/plain": [
              "<IPython.core.display.HTML object>"
            ],
            "text/html": []
          },
          "metadata": {}
        },
        {
          "output_type": "stream",
          "name": "stdout",
          "text": [
            "  model_arch  threshold   bcet  batch_aug  dropout  oversmp  epochs        lr  \\\n",
            "0   resnet18       0.05  False      False      0.4        0      20  0.000275   \n",
            "\n",
            "   batch_size  start_frame  ...  valid_acc  valid_auc  valid_f2  \\\n",
            "0           8            0  ...   0.623288   0.912281    0.7109   \n",
            "\n",
            "   valid_precision  valid_recall  test_acc  test_auc   test_f2  \\\n",
            "0         0.361446        0.9375  0.883562  0.910636  0.629139   \n",
            "\n",
            "   test_precision  test_recall  \n",
            "0        0.826087      0.59375  \n",
            "\n",
            "[1 rows x 21 columns]\n",
            "\n",
            "Valid - % errores por banda de FEVI\n",
            "3.0         NaN\n",
            "4.0    0.153846\n",
            "5.0    0.565217\n",
            "6.0    0.397059\n",
            "Name: FEVI10, dtype: float64\n",
            "\n",
            "Test - % errores por banda de FEVI\n",
            "3.0    0.157895\n",
            "4.0    0.769231\n",
            "5.0    0.086957\n",
            "6.0         NaN\n",
            "Name: FEVI10, dtype: float64\n"
          ]
        },
        {
          "output_type": "display_data",
          "data": {
            "text/plain": [
              "<IPython.core.display.HTML object>"
            ],
            "text/html": [
              "\n",
              "<style>\n",
              "    /* Turns off some styling */\n",
              "    progress {\n",
              "        /* gets rid of default border in Firefox and Opera. */\n",
              "        border: none;\n",
              "        /* Needs to be in here for Safari polyfill so background images work as expected. */\n",
              "        background-size: auto;\n",
              "    }\n",
              "    progress:not([value]), progress:not([value])::-webkit-progress-bar {\n",
              "        background: repeating-linear-gradient(45deg, #7e7e7e, #7e7e7e 10px, #5c5c5c 10px, #5c5c5c 20px);\n",
              "    }\n",
              "    .progress-bar-interrupted, .progress-bar-interrupted::-webkit-progress-bar {\n",
              "        background: #F44336;\n",
              "    }\n",
              "</style>\n"
            ]
          },
          "metadata": {}
        },
        {
          "output_type": "display_data",
          "data": {
            "text/plain": [
              "<IPython.core.display.HTML object>"
            ],
            "text/html": []
          },
          "metadata": {}
        },
        {
          "output_type": "display_data",
          "data": {
            "text/plain": [
              "<IPython.core.display.HTML object>"
            ],
            "text/html": [
              "\n",
              "<style>\n",
              "    /* Turns off some styling */\n",
              "    progress {\n",
              "        /* gets rid of default border in Firefox and Opera. */\n",
              "        border: none;\n",
              "        /* Needs to be in here for Safari polyfill so background images work as expected. */\n",
              "        background-size: auto;\n",
              "    }\n",
              "    progress:not([value]), progress:not([value])::-webkit-progress-bar {\n",
              "        background: repeating-linear-gradient(45deg, #7e7e7e, #7e7e7e 10px, #5c5c5c 10px, #5c5c5c 20px);\n",
              "    }\n",
              "    .progress-bar-interrupted, .progress-bar-interrupted::-webkit-progress-bar {\n",
              "        background: #F44336;\n",
              "    }\n",
              "</style>\n"
            ]
          },
          "metadata": {}
        },
        {
          "output_type": "display_data",
          "data": {
            "text/plain": [
              "<IPython.core.display.HTML object>"
            ],
            "text/html": [
              "\n",
              "    <div>\n",
              "      <progress value='0' class='' max='20' style='width:300px; height:20px; vertical-align: middle;'></progress>\n",
              "      \n",
              "    </div>\n",
              "    \n"
            ]
          },
          "metadata": {}
        },
        {
          "output_type": "display_data",
          "data": {
            "text/plain": [
              "<IPython.core.display.HTML object>"
            ],
            "text/html": [
              "\n",
              "<style>\n",
              "    /* Turns off some styling */\n",
              "    progress {\n",
              "        /* gets rid of default border in Firefox and Opera. */\n",
              "        border: none;\n",
              "        /* Needs to be in here for Safari polyfill so background images work as expected. */\n",
              "        background-size: auto;\n",
              "    }\n",
              "    progress:not([value]), progress:not([value])::-webkit-progress-bar {\n",
              "        background: repeating-linear-gradient(45deg, #7e7e7e, #7e7e7e 10px, #5c5c5c 10px, #5c5c5c 20px);\n",
              "    }\n",
              "    .progress-bar-interrupted, .progress-bar-interrupted::-webkit-progress-bar {\n",
              "        background: #F44336;\n",
              "    }\n",
              "</style>\n"
            ]
          },
          "metadata": {}
        },
        {
          "output_type": "display_data",
          "data": {
            "text/plain": [
              "<IPython.core.display.HTML object>"
            ],
            "text/html": []
          },
          "metadata": {}
        },
        {
          "output_type": "stream",
          "name": "stdout",
          "text": [
            "  model_arch  threshold   bcet  batch_aug  dropout  oversmp  epochs        lr  \\\n",
            "0   resnet18        0.1  False      False      0.4        0      20  0.000275   \n",
            "\n",
            "   batch_size  start_frame  ...  valid_acc  valid_auc  valid_f2  \\\n",
            "0           8            0  ...   0.691781   0.912281  0.746269   \n",
            "\n",
            "   valid_precision  valid_recall  test_acc  test_auc   test_f2  \\\n",
            "0         0.410959        0.9375   0.89726  0.910636  0.709677   \n",
            "\n",
            "   test_precision  test_recall  \n",
            "0        0.814815       0.6875  \n",
            "\n",
            "[1 rows x 21 columns]\n",
            "\n",
            "Valid - % errores por banda de FEVI\n",
            "3.0         NaN\n",
            "4.0    0.153846\n",
            "5.0    0.478261\n",
            "6.0    0.308824\n",
            "Name: FEVI10, dtype: float64\n",
            "\n",
            "Test - % errores por banda de FEVI\n",
            "3.0    0.157895\n",
            "4.0    0.538462\n",
            "5.0    0.086957\n",
            "6.0    0.014706\n",
            "Name: FEVI10, dtype: float64\n"
          ]
        },
        {
          "output_type": "display_data",
          "data": {
            "text/plain": [
              "<IPython.core.display.HTML object>"
            ],
            "text/html": [
              "\n",
              "<style>\n",
              "    /* Turns off some styling */\n",
              "    progress {\n",
              "        /* gets rid of default border in Firefox and Opera. */\n",
              "        border: none;\n",
              "        /* Needs to be in here for Safari polyfill so background images work as expected. */\n",
              "        background-size: auto;\n",
              "    }\n",
              "    progress:not([value]), progress:not([value])::-webkit-progress-bar {\n",
              "        background: repeating-linear-gradient(45deg, #7e7e7e, #7e7e7e 10px, #5c5c5c 10px, #5c5c5c 20px);\n",
              "    }\n",
              "    .progress-bar-interrupted, .progress-bar-interrupted::-webkit-progress-bar {\n",
              "        background: #F44336;\n",
              "    }\n",
              "</style>\n"
            ]
          },
          "metadata": {}
        },
        {
          "output_type": "display_data",
          "data": {
            "text/plain": [
              "<IPython.core.display.HTML object>"
            ],
            "text/html": []
          },
          "metadata": {}
        },
        {
          "output_type": "display_data",
          "data": {
            "text/plain": [
              "<IPython.core.display.HTML object>"
            ],
            "text/html": [
              "\n",
              "<style>\n",
              "    /* Turns off some styling */\n",
              "    progress {\n",
              "        /* gets rid of default border in Firefox and Opera. */\n",
              "        border: none;\n",
              "        /* Needs to be in here for Safari polyfill so background images work as expected. */\n",
              "        background-size: auto;\n",
              "    }\n",
              "    progress:not([value]), progress:not([value])::-webkit-progress-bar {\n",
              "        background: repeating-linear-gradient(45deg, #7e7e7e, #7e7e7e 10px, #5c5c5c 10px, #5c5c5c 20px);\n",
              "    }\n",
              "    .progress-bar-interrupted, .progress-bar-interrupted::-webkit-progress-bar {\n",
              "        background: #F44336;\n",
              "    }\n",
              "</style>\n"
            ]
          },
          "metadata": {}
        },
        {
          "output_type": "display_data",
          "data": {
            "text/plain": [
              "<IPython.core.display.HTML object>"
            ],
            "text/html": [
              "\n",
              "    <div>\n",
              "      <progress value='0' class='' max='20' style='width:300px; height:20px; vertical-align: middle;'></progress>\n",
              "      \n",
              "    </div>\n",
              "    \n"
            ]
          },
          "metadata": {}
        },
        {
          "output_type": "display_data",
          "data": {
            "text/plain": [
              "<IPython.core.display.HTML object>"
            ],
            "text/html": [
              "\n",
              "<style>\n",
              "    /* Turns off some styling */\n",
              "    progress {\n",
              "        /* gets rid of default border in Firefox and Opera. */\n",
              "        border: none;\n",
              "        /* Needs to be in here for Safari polyfill so background images work as expected. */\n",
              "        background-size: auto;\n",
              "    }\n",
              "    progress:not([value]), progress:not([value])::-webkit-progress-bar {\n",
              "        background: repeating-linear-gradient(45deg, #7e7e7e, #7e7e7e 10px, #5c5c5c 10px, #5c5c5c 20px);\n",
              "    }\n",
              "    .progress-bar-interrupted, .progress-bar-interrupted::-webkit-progress-bar {\n",
              "        background: #F44336;\n",
              "    }\n",
              "</style>\n"
            ]
          },
          "metadata": {}
        },
        {
          "output_type": "display_data",
          "data": {
            "text/plain": [
              "<IPython.core.display.HTML object>"
            ],
            "text/html": []
          },
          "metadata": {}
        },
        {
          "output_type": "stream",
          "name": "stdout",
          "text": [
            "  model_arch  threshold   bcet  batch_aug  dropout  oversmp  epochs        lr  \\\n",
            "0   resnet18       0.15  False      False      0.4        0      20  0.000275   \n",
            "\n",
            "   batch_size  start_frame  ...  valid_acc  valid_auc  valid_f2  \\\n",
            "0           8            0  ...   0.712329   0.912281  0.757576   \n",
            "\n",
            "   valid_precision  valid_recall  test_acc  test_auc  test_f2  test_precision  \\\n",
            "0         0.428571        0.9375  0.890411  0.910636     0.75            0.75   \n",
            "\n",
            "   test_recall  \n",
            "0         0.75  \n",
            "\n",
            "[1 rows x 21 columns]\n",
            "\n",
            "Valid - % errores por banda de FEVI\n",
            "3.0         NaN\n",
            "4.0    0.153846\n",
            "5.0    0.456522\n",
            "6.0    0.279412\n",
            "Name: FEVI10, dtype: float64\n",
            "\n",
            "Test - % errores por banda de FEVI\n",
            "3.0    0.105263\n",
            "4.0    0.461538\n",
            "5.0    0.152174\n",
            "6.0    0.014706\n",
            "Name: FEVI10, dtype: float64\n"
          ]
        },
        {
          "output_type": "display_data",
          "data": {
            "text/plain": [
              "<IPython.core.display.HTML object>"
            ],
            "text/html": [
              "\n",
              "<style>\n",
              "    /* Turns off some styling */\n",
              "    progress {\n",
              "        /* gets rid of default border in Firefox and Opera. */\n",
              "        border: none;\n",
              "        /* Needs to be in here for Safari polyfill so background images work as expected. */\n",
              "        background-size: auto;\n",
              "    }\n",
              "    progress:not([value]), progress:not([value])::-webkit-progress-bar {\n",
              "        background: repeating-linear-gradient(45deg, #7e7e7e, #7e7e7e 10px, #5c5c5c 10px, #5c5c5c 20px);\n",
              "    }\n",
              "    .progress-bar-interrupted, .progress-bar-interrupted::-webkit-progress-bar {\n",
              "        background: #F44336;\n",
              "    }\n",
              "</style>\n"
            ]
          },
          "metadata": {}
        },
        {
          "output_type": "display_data",
          "data": {
            "text/plain": [
              "<IPython.core.display.HTML object>"
            ],
            "text/html": []
          },
          "metadata": {}
        },
        {
          "output_type": "display_data",
          "data": {
            "text/plain": [
              "<IPython.core.display.HTML object>"
            ],
            "text/html": [
              "\n",
              "<style>\n",
              "    /* Turns off some styling */\n",
              "    progress {\n",
              "        /* gets rid of default border in Firefox and Opera. */\n",
              "        border: none;\n",
              "        /* Needs to be in here for Safari polyfill so background images work as expected. */\n",
              "        background-size: auto;\n",
              "    }\n",
              "    progress:not([value]), progress:not([value])::-webkit-progress-bar {\n",
              "        background: repeating-linear-gradient(45deg, #7e7e7e, #7e7e7e 10px, #5c5c5c 10px, #5c5c5c 20px);\n",
              "    }\n",
              "    .progress-bar-interrupted, .progress-bar-interrupted::-webkit-progress-bar {\n",
              "        background: #F44336;\n",
              "    }\n",
              "</style>\n"
            ]
          },
          "metadata": {}
        },
        {
          "output_type": "display_data",
          "data": {
            "text/plain": [
              "<IPython.core.display.HTML object>"
            ],
            "text/html": [
              "\n",
              "    <div>\n",
              "      <progress value='0' class='' max='20' style='width:300px; height:20px; vertical-align: middle;'></progress>\n",
              "      \n",
              "    </div>\n",
              "    \n"
            ]
          },
          "metadata": {}
        },
        {
          "output_type": "display_data",
          "data": {
            "text/plain": [
              "<IPython.core.display.HTML object>"
            ],
            "text/html": [
              "\n",
              "<style>\n",
              "    /* Turns off some styling */\n",
              "    progress {\n",
              "        /* gets rid of default border in Firefox and Opera. */\n",
              "        border: none;\n",
              "        /* Needs to be in here for Safari polyfill so background images work as expected. */\n",
              "        background-size: auto;\n",
              "    }\n",
              "    progress:not([value]), progress:not([value])::-webkit-progress-bar {\n",
              "        background: repeating-linear-gradient(45deg, #7e7e7e, #7e7e7e 10px, #5c5c5c 10px, #5c5c5c 20px);\n",
              "    }\n",
              "    .progress-bar-interrupted, .progress-bar-interrupted::-webkit-progress-bar {\n",
              "        background: #F44336;\n",
              "    }\n",
              "</style>\n"
            ]
          },
          "metadata": {}
        },
        {
          "output_type": "display_data",
          "data": {
            "text/plain": [
              "<IPython.core.display.HTML object>"
            ],
            "text/html": []
          },
          "metadata": {}
        },
        {
          "output_type": "stream",
          "name": "stdout",
          "text": [
            "  model_arch  threshold   bcet  batch_aug  dropout  oversmp  epochs        lr  \\\n",
            "0   resnet18        0.2  False      False      0.4        0      20  0.000275   \n",
            "\n",
            "   batch_size  start_frame  ...  valid_acc  valid_auc  valid_f2  \\\n",
            "0           8            0  ...   0.732877   0.912281  0.769231   \n",
            "\n",
            "   valid_precision  valid_recall  test_acc  test_auc   test_f2  \\\n",
            "0         0.447761        0.9375  0.869863  0.910636  0.736196   \n",
            "\n",
            "   test_precision  test_recall  \n",
            "0        0.685714         0.75  \n",
            "\n",
            "[1 rows x 21 columns]\n",
            "\n",
            "Valid - % errores por banda de FEVI\n",
            "3.0         NaN\n",
            "4.0    0.153846\n",
            "5.0    0.456522\n",
            "6.0    0.235294\n",
            "Name: FEVI10, dtype: float64\n",
            "\n",
            "Test - % errores por banda de FEVI\n",
            "3.0    0.105263\n",
            "4.0    0.461538\n",
            "5.0    0.173913\n",
            "6.0    0.044118\n",
            "Name: FEVI10, dtype: float64\n"
          ]
        },
        {
          "output_type": "display_data",
          "data": {
            "text/plain": [
              "<IPython.core.display.HTML object>"
            ],
            "text/html": [
              "\n",
              "<style>\n",
              "    /* Turns off some styling */\n",
              "    progress {\n",
              "        /* gets rid of default border in Firefox and Opera. */\n",
              "        border: none;\n",
              "        /* Needs to be in here for Safari polyfill so background images work as expected. */\n",
              "        background-size: auto;\n",
              "    }\n",
              "    progress:not([value]), progress:not([value])::-webkit-progress-bar {\n",
              "        background: repeating-linear-gradient(45deg, #7e7e7e, #7e7e7e 10px, #5c5c5c 10px, #5c5c5c 20px);\n",
              "    }\n",
              "    .progress-bar-interrupted, .progress-bar-interrupted::-webkit-progress-bar {\n",
              "        background: #F44336;\n",
              "    }\n",
              "</style>\n"
            ]
          },
          "metadata": {}
        },
        {
          "output_type": "display_data",
          "data": {
            "text/plain": [
              "<IPython.core.display.HTML object>"
            ],
            "text/html": []
          },
          "metadata": {}
        },
        {
          "output_type": "display_data",
          "data": {
            "text/plain": [
              "<IPython.core.display.HTML object>"
            ],
            "text/html": [
              "\n",
              "<style>\n",
              "    /* Turns off some styling */\n",
              "    progress {\n",
              "        /* gets rid of default border in Firefox and Opera. */\n",
              "        border: none;\n",
              "        /* Needs to be in here for Safari polyfill so background images work as expected. */\n",
              "        background-size: auto;\n",
              "    }\n",
              "    progress:not([value]), progress:not([value])::-webkit-progress-bar {\n",
              "        background: repeating-linear-gradient(45deg, #7e7e7e, #7e7e7e 10px, #5c5c5c 10px, #5c5c5c 20px);\n",
              "    }\n",
              "    .progress-bar-interrupted, .progress-bar-interrupted::-webkit-progress-bar {\n",
              "        background: #F44336;\n",
              "    }\n",
              "</style>\n"
            ]
          },
          "metadata": {}
        },
        {
          "output_type": "display_data",
          "data": {
            "text/plain": [
              "<IPython.core.display.HTML object>"
            ],
            "text/html": [
              "\n",
              "    <div>\n",
              "      <progress value='0' class='' max='20' style='width:300px; height:20px; vertical-align: middle;'></progress>\n",
              "      \n",
              "    </div>\n",
              "    \n"
            ]
          },
          "metadata": {}
        },
        {
          "output_type": "display_data",
          "data": {
            "text/plain": [
              "<IPython.core.display.HTML object>"
            ],
            "text/html": [
              "\n",
              "<style>\n",
              "    /* Turns off some styling */\n",
              "    progress {\n",
              "        /* gets rid of default border in Firefox and Opera. */\n",
              "        border: none;\n",
              "        /* Needs to be in here for Safari polyfill so background images work as expected. */\n",
              "        background-size: auto;\n",
              "    }\n",
              "    progress:not([value]), progress:not([value])::-webkit-progress-bar {\n",
              "        background: repeating-linear-gradient(45deg, #7e7e7e, #7e7e7e 10px, #5c5c5c 10px, #5c5c5c 20px);\n",
              "    }\n",
              "    .progress-bar-interrupted, .progress-bar-interrupted::-webkit-progress-bar {\n",
              "        background: #F44336;\n",
              "    }\n",
              "</style>\n"
            ]
          },
          "metadata": {}
        },
        {
          "output_type": "display_data",
          "data": {
            "text/plain": [
              "<IPython.core.display.HTML object>"
            ],
            "text/html": []
          },
          "metadata": {}
        },
        {
          "output_type": "stream",
          "name": "stdout",
          "text": [
            "  model_arch  threshold   bcet  batch_aug  dropout  oversmp  epochs        lr  \\\n",
            "0   resnet18       0.25  False      False      0.4        0      20  0.000275   \n",
            "\n",
            "   batch_size  start_frame  ...  valid_acc  valid_auc  valid_f2  \\\n",
            "0           8            0  ...   0.760274   0.912281   0.78534   \n",
            "\n",
            "   valid_precision  valid_recall  test_acc  test_auc   test_f2  \\\n",
            "0          0.47619        0.9375  0.856164  0.910636  0.727273   \n",
            "\n",
            "   test_precision  test_recall  \n",
            "0        0.648649         0.75  \n",
            "\n",
            "[1 rows x 21 columns]\n",
            "\n",
            "Valid - % errores por banda de FEVI\n",
            "3.0         NaN\n",
            "4.0    0.153846\n",
            "5.0    0.413043\n",
            "6.0    0.205882\n",
            "Name: FEVI10, dtype: float64\n",
            "\n",
            "Test - % errores por banda de FEVI\n",
            "3.0    0.105263\n",
            "4.0    0.461538\n",
            "5.0    0.173913\n",
            "6.0    0.073529\n",
            "Name: FEVI10, dtype: float64\n"
          ]
        },
        {
          "output_type": "display_data",
          "data": {
            "text/plain": [
              "<IPython.core.display.HTML object>"
            ],
            "text/html": [
              "\n",
              "<style>\n",
              "    /* Turns off some styling */\n",
              "    progress {\n",
              "        /* gets rid of default border in Firefox and Opera. */\n",
              "        border: none;\n",
              "        /* Needs to be in here for Safari polyfill so background images work as expected. */\n",
              "        background-size: auto;\n",
              "    }\n",
              "    progress:not([value]), progress:not([value])::-webkit-progress-bar {\n",
              "        background: repeating-linear-gradient(45deg, #7e7e7e, #7e7e7e 10px, #5c5c5c 10px, #5c5c5c 20px);\n",
              "    }\n",
              "    .progress-bar-interrupted, .progress-bar-interrupted::-webkit-progress-bar {\n",
              "        background: #F44336;\n",
              "    }\n",
              "</style>\n"
            ]
          },
          "metadata": {}
        },
        {
          "output_type": "display_data",
          "data": {
            "text/plain": [
              "<IPython.core.display.HTML object>"
            ],
            "text/html": []
          },
          "metadata": {}
        },
        {
          "output_type": "display_data",
          "data": {
            "text/plain": [
              "<IPython.core.display.HTML object>"
            ],
            "text/html": [
              "\n",
              "<style>\n",
              "    /* Turns off some styling */\n",
              "    progress {\n",
              "        /* gets rid of default border in Firefox and Opera. */\n",
              "        border: none;\n",
              "        /* Needs to be in here for Safari polyfill so background images work as expected. */\n",
              "        background-size: auto;\n",
              "    }\n",
              "    progress:not([value]), progress:not([value])::-webkit-progress-bar {\n",
              "        background: repeating-linear-gradient(45deg, #7e7e7e, #7e7e7e 10px, #5c5c5c 10px, #5c5c5c 20px);\n",
              "    }\n",
              "    .progress-bar-interrupted, .progress-bar-interrupted::-webkit-progress-bar {\n",
              "        background: #F44336;\n",
              "    }\n",
              "</style>\n"
            ]
          },
          "metadata": {}
        },
        {
          "output_type": "display_data",
          "data": {
            "text/plain": [
              "<IPython.core.display.HTML object>"
            ],
            "text/html": [
              "\n",
              "    <div>\n",
              "      <progress value='0' class='' max='20' style='width:300px; height:20px; vertical-align: middle;'></progress>\n",
              "      \n",
              "    </div>\n",
              "    \n"
            ]
          },
          "metadata": {}
        },
        {
          "output_type": "display_data",
          "data": {
            "text/plain": [
              "<IPython.core.display.HTML object>"
            ],
            "text/html": [
              "\n",
              "<style>\n",
              "    /* Turns off some styling */\n",
              "    progress {\n",
              "        /* gets rid of default border in Firefox and Opera. */\n",
              "        border: none;\n",
              "        /* Needs to be in here for Safari polyfill so background images work as expected. */\n",
              "        background-size: auto;\n",
              "    }\n",
              "    progress:not([value]), progress:not([value])::-webkit-progress-bar {\n",
              "        background: repeating-linear-gradient(45deg, #7e7e7e, #7e7e7e 10px, #5c5c5c 10px, #5c5c5c 20px);\n",
              "    }\n",
              "    .progress-bar-interrupted, .progress-bar-interrupted::-webkit-progress-bar {\n",
              "        background: #F44336;\n",
              "    }\n",
              "</style>\n"
            ]
          },
          "metadata": {}
        },
        {
          "output_type": "display_data",
          "data": {
            "text/plain": [
              "<IPython.core.display.HTML object>"
            ],
            "text/html": []
          },
          "metadata": {}
        },
        {
          "output_type": "stream",
          "name": "stdout",
          "text": [
            "  model_arch  threshold   bcet  batch_aug  dropout  oversmp  epochs        lr  \\\n",
            "0   resnet18        0.3  False      False      0.4        0      20  0.000275   \n",
            "\n",
            "   batch_size  start_frame  ...  valid_acc  valid_auc  valid_f2  \\\n",
            "0           8            0  ...   0.780822   0.912281  0.797872   \n",
            "\n",
            "   valid_precision  valid_recall  test_acc  test_auc   test_f2  \\\n",
            "0              0.5        0.9375  0.856164  0.910636  0.748503   \n",
            "\n",
            "   test_precision  test_recall  \n",
            "0        0.641026      0.78125  \n",
            "\n",
            "[1 rows x 21 columns]\n",
            "\n",
            "Valid - % errores por banda de FEVI\n",
            "3.0         NaN\n",
            "4.0    0.153846\n",
            "5.0    0.391304\n",
            "6.0    0.176471\n",
            "Name: FEVI10, dtype: float64\n",
            "\n",
            "Test - % errores por banda de FEVI\n",
            "3.0    0.105263\n",
            "4.0    0.384615\n",
            "5.0    0.195652\n",
            "6.0    0.073529\n",
            "Name: FEVI10, dtype: float64\n"
          ]
        },
        {
          "output_type": "display_data",
          "data": {
            "text/plain": [
              "<IPython.core.display.HTML object>"
            ],
            "text/html": [
              "\n",
              "<style>\n",
              "    /* Turns off some styling */\n",
              "    progress {\n",
              "        /* gets rid of default border in Firefox and Opera. */\n",
              "        border: none;\n",
              "        /* Needs to be in here for Safari polyfill so background images work as expected. */\n",
              "        background-size: auto;\n",
              "    }\n",
              "    progress:not([value]), progress:not([value])::-webkit-progress-bar {\n",
              "        background: repeating-linear-gradient(45deg, #7e7e7e, #7e7e7e 10px, #5c5c5c 10px, #5c5c5c 20px);\n",
              "    }\n",
              "    .progress-bar-interrupted, .progress-bar-interrupted::-webkit-progress-bar {\n",
              "        background: #F44336;\n",
              "    }\n",
              "</style>\n"
            ]
          },
          "metadata": {}
        },
        {
          "output_type": "display_data",
          "data": {
            "text/plain": [
              "<IPython.core.display.HTML object>"
            ],
            "text/html": []
          },
          "metadata": {}
        },
        {
          "output_type": "display_data",
          "data": {
            "text/plain": [
              "<IPython.core.display.HTML object>"
            ],
            "text/html": [
              "\n",
              "<style>\n",
              "    /* Turns off some styling */\n",
              "    progress {\n",
              "        /* gets rid of default border in Firefox and Opera. */\n",
              "        border: none;\n",
              "        /* Needs to be in here for Safari polyfill so background images work as expected. */\n",
              "        background-size: auto;\n",
              "    }\n",
              "    progress:not([value]), progress:not([value])::-webkit-progress-bar {\n",
              "        background: repeating-linear-gradient(45deg, #7e7e7e, #7e7e7e 10px, #5c5c5c 10px, #5c5c5c 20px);\n",
              "    }\n",
              "    .progress-bar-interrupted, .progress-bar-interrupted::-webkit-progress-bar {\n",
              "        background: #F44336;\n",
              "    }\n",
              "</style>\n"
            ]
          },
          "metadata": {}
        },
        {
          "output_type": "display_data",
          "data": {
            "text/plain": [
              "<IPython.core.display.HTML object>"
            ],
            "text/html": [
              "\n",
              "    <div>\n",
              "      <progress value='0' class='' max='20' style='width:300px; height:20px; vertical-align: middle;'></progress>\n",
              "      \n",
              "    </div>\n",
              "    \n"
            ]
          },
          "metadata": {}
        },
        {
          "output_type": "display_data",
          "data": {
            "text/plain": [
              "<IPython.core.display.HTML object>"
            ],
            "text/html": [
              "\n",
              "<style>\n",
              "    /* Turns off some styling */\n",
              "    progress {\n",
              "        /* gets rid of default border in Firefox and Opera. */\n",
              "        border: none;\n",
              "        /* Needs to be in here for Safari polyfill so background images work as expected. */\n",
              "        background-size: auto;\n",
              "    }\n",
              "    progress:not([value]), progress:not([value])::-webkit-progress-bar {\n",
              "        background: repeating-linear-gradient(45deg, #7e7e7e, #7e7e7e 10px, #5c5c5c 10px, #5c5c5c 20px);\n",
              "    }\n",
              "    .progress-bar-interrupted, .progress-bar-interrupted::-webkit-progress-bar {\n",
              "        background: #F44336;\n",
              "    }\n",
              "</style>\n"
            ]
          },
          "metadata": {}
        },
        {
          "output_type": "display_data",
          "data": {
            "text/plain": [
              "<IPython.core.display.HTML object>"
            ],
            "text/html": []
          },
          "metadata": {}
        },
        {
          "output_type": "stream",
          "name": "stdout",
          "text": [
            "  model_arch  threshold   bcet  batch_aug  dropout  oversmp  epochs        lr  \\\n",
            "0   resnet18       0.35  False      False      0.4        0      20  0.000275   \n",
            "\n",
            "   batch_size  start_frame  ...  valid_acc  valid_auc  valid_f2  \\\n",
            "0           8            0  ...   0.794521   0.912281  0.806452   \n",
            "\n",
            "   valid_precision  valid_recall  test_acc  test_auc   test_f2  \\\n",
            "0         0.517241        0.9375  0.849315  0.910636  0.764706   \n",
            "\n",
            "   test_precision  test_recall  \n",
            "0        0.619048       0.8125  \n",
            "\n",
            "[1 rows x 21 columns]\n",
            "\n",
            "Valid - % errores por banda de FEVI\n",
            "3.0         NaN\n",
            "4.0    0.153846\n",
            "5.0    0.369565\n",
            "6.0    0.161765\n",
            "Name: FEVI10, dtype: float64\n",
            "\n",
            "Test - % errores por banda de FEVI\n",
            "3.0    0.052632\n",
            "4.0    0.384615\n",
            "5.0    0.217391\n",
            "6.0    0.088235\n",
            "Name: FEVI10, dtype: float64\n"
          ]
        },
        {
          "output_type": "display_data",
          "data": {
            "text/plain": [
              "<IPython.core.display.HTML object>"
            ],
            "text/html": [
              "\n",
              "<style>\n",
              "    /* Turns off some styling */\n",
              "    progress {\n",
              "        /* gets rid of default border in Firefox and Opera. */\n",
              "        border: none;\n",
              "        /* Needs to be in here for Safari polyfill so background images work as expected. */\n",
              "        background-size: auto;\n",
              "    }\n",
              "    progress:not([value]), progress:not([value])::-webkit-progress-bar {\n",
              "        background: repeating-linear-gradient(45deg, #7e7e7e, #7e7e7e 10px, #5c5c5c 10px, #5c5c5c 20px);\n",
              "    }\n",
              "    .progress-bar-interrupted, .progress-bar-interrupted::-webkit-progress-bar {\n",
              "        background: #F44336;\n",
              "    }\n",
              "</style>\n"
            ]
          },
          "metadata": {}
        },
        {
          "output_type": "display_data",
          "data": {
            "text/plain": [
              "<IPython.core.display.HTML object>"
            ],
            "text/html": []
          },
          "metadata": {}
        },
        {
          "output_type": "display_data",
          "data": {
            "text/plain": [
              "<IPython.core.display.HTML object>"
            ],
            "text/html": [
              "\n",
              "<style>\n",
              "    /* Turns off some styling */\n",
              "    progress {\n",
              "        /* gets rid of default border in Firefox and Opera. */\n",
              "        border: none;\n",
              "        /* Needs to be in here for Safari polyfill so background images work as expected. */\n",
              "        background-size: auto;\n",
              "    }\n",
              "    progress:not([value]), progress:not([value])::-webkit-progress-bar {\n",
              "        background: repeating-linear-gradient(45deg, #7e7e7e, #7e7e7e 10px, #5c5c5c 10px, #5c5c5c 20px);\n",
              "    }\n",
              "    .progress-bar-interrupted, .progress-bar-interrupted::-webkit-progress-bar {\n",
              "        background: #F44336;\n",
              "    }\n",
              "</style>\n"
            ]
          },
          "metadata": {}
        },
        {
          "output_type": "display_data",
          "data": {
            "text/plain": [
              "<IPython.core.display.HTML object>"
            ],
            "text/html": [
              "\n",
              "    <div>\n",
              "      <progress value='0' class='' max='20' style='width:300px; height:20px; vertical-align: middle;'></progress>\n",
              "      \n",
              "    </div>\n",
              "    \n"
            ]
          },
          "metadata": {}
        },
        {
          "output_type": "display_data",
          "data": {
            "text/plain": [
              "<IPython.core.display.HTML object>"
            ],
            "text/html": [
              "\n",
              "<style>\n",
              "    /* Turns off some styling */\n",
              "    progress {\n",
              "        /* gets rid of default border in Firefox and Opera. */\n",
              "        border: none;\n",
              "        /* Needs to be in here for Safari polyfill so background images work as expected. */\n",
              "        background-size: auto;\n",
              "    }\n",
              "    progress:not([value]), progress:not([value])::-webkit-progress-bar {\n",
              "        background: repeating-linear-gradient(45deg, #7e7e7e, #7e7e7e 10px, #5c5c5c 10px, #5c5c5c 20px);\n",
              "    }\n",
              "    .progress-bar-interrupted, .progress-bar-interrupted::-webkit-progress-bar {\n",
              "        background: #F44336;\n",
              "    }\n",
              "</style>\n"
            ]
          },
          "metadata": {}
        },
        {
          "output_type": "display_data",
          "data": {
            "text/plain": [
              "<IPython.core.display.HTML object>"
            ],
            "text/html": []
          },
          "metadata": {}
        },
        {
          "output_type": "stream",
          "name": "stdout",
          "text": [
            "  model_arch  threshold   bcet  batch_aug  dropout  oversmp  epochs        lr  \\\n",
            "0   resnet18        0.4  False      False      0.4        0      20  0.000275   \n",
            "\n",
            "   batch_size  start_frame  ...  valid_acc  valid_auc  valid_f2  \\\n",
            "0           8            0  ...   0.794521   0.912281  0.806452   \n",
            "\n",
            "   valid_precision  valid_recall  test_acc  test_auc   test_f2  \\\n",
            "0         0.517241        0.9375  0.842466  0.910636  0.760234   \n",
            "\n",
            "   test_precision  test_recall  \n",
            "0        0.604651       0.8125  \n",
            "\n",
            "[1 rows x 21 columns]\n",
            "\n",
            "Valid - % errores por banda de FEVI\n",
            "3.0         NaN\n",
            "4.0    0.153846\n",
            "5.0    0.369565\n",
            "6.0    0.161765\n",
            "Name: FEVI10, dtype: float64\n",
            "\n",
            "Test - % errores por banda de FEVI\n",
            "3.0    0.052632\n",
            "4.0    0.384615\n",
            "5.0    0.217391\n",
            "6.0    0.102941\n",
            "Name: FEVI10, dtype: float64\n"
          ]
        },
        {
          "output_type": "display_data",
          "data": {
            "text/plain": [
              "<IPython.core.display.HTML object>"
            ],
            "text/html": [
              "\n",
              "<style>\n",
              "    /* Turns off some styling */\n",
              "    progress {\n",
              "        /* gets rid of default border in Firefox and Opera. */\n",
              "        border: none;\n",
              "        /* Needs to be in here for Safari polyfill so background images work as expected. */\n",
              "        background-size: auto;\n",
              "    }\n",
              "    progress:not([value]), progress:not([value])::-webkit-progress-bar {\n",
              "        background: repeating-linear-gradient(45deg, #7e7e7e, #7e7e7e 10px, #5c5c5c 10px, #5c5c5c 20px);\n",
              "    }\n",
              "    .progress-bar-interrupted, .progress-bar-interrupted::-webkit-progress-bar {\n",
              "        background: #F44336;\n",
              "    }\n",
              "</style>\n"
            ]
          },
          "metadata": {}
        },
        {
          "output_type": "display_data",
          "data": {
            "text/plain": [
              "<IPython.core.display.HTML object>"
            ],
            "text/html": []
          },
          "metadata": {}
        },
        {
          "output_type": "display_data",
          "data": {
            "text/plain": [
              "<IPython.core.display.HTML object>"
            ],
            "text/html": [
              "\n",
              "<style>\n",
              "    /* Turns off some styling */\n",
              "    progress {\n",
              "        /* gets rid of default border in Firefox and Opera. */\n",
              "        border: none;\n",
              "        /* Needs to be in here for Safari polyfill so background images work as expected. */\n",
              "        background-size: auto;\n",
              "    }\n",
              "    progress:not([value]), progress:not([value])::-webkit-progress-bar {\n",
              "        background: repeating-linear-gradient(45deg, #7e7e7e, #7e7e7e 10px, #5c5c5c 10px, #5c5c5c 20px);\n",
              "    }\n",
              "    .progress-bar-interrupted, .progress-bar-interrupted::-webkit-progress-bar {\n",
              "        background: #F44336;\n",
              "    }\n",
              "</style>\n"
            ]
          },
          "metadata": {}
        },
        {
          "output_type": "display_data",
          "data": {
            "text/plain": [
              "<IPython.core.display.HTML object>"
            ],
            "text/html": [
              "\n",
              "    <div>\n",
              "      <progress value='0' class='' max='20' style='width:300px; height:20px; vertical-align: middle;'></progress>\n",
              "      \n",
              "    </div>\n",
              "    \n"
            ]
          },
          "metadata": {}
        },
        {
          "output_type": "display_data",
          "data": {
            "text/plain": [
              "<IPython.core.display.HTML object>"
            ],
            "text/html": [
              "\n",
              "<style>\n",
              "    /* Turns off some styling */\n",
              "    progress {\n",
              "        /* gets rid of default border in Firefox and Opera. */\n",
              "        border: none;\n",
              "        /* Needs to be in here for Safari polyfill so background images work as expected. */\n",
              "        background-size: auto;\n",
              "    }\n",
              "    progress:not([value]), progress:not([value])::-webkit-progress-bar {\n",
              "        background: repeating-linear-gradient(45deg, #7e7e7e, #7e7e7e 10px, #5c5c5c 10px, #5c5c5c 20px);\n",
              "    }\n",
              "    .progress-bar-interrupted, .progress-bar-interrupted::-webkit-progress-bar {\n",
              "        background: #F44336;\n",
              "    }\n",
              "</style>\n"
            ]
          },
          "metadata": {}
        },
        {
          "output_type": "display_data",
          "data": {
            "text/plain": [
              "<IPython.core.display.HTML object>"
            ],
            "text/html": []
          },
          "metadata": {}
        },
        {
          "output_type": "stream",
          "name": "stdout",
          "text": [
            "  model_arch  threshold   bcet  batch_aug  dropout  oversmp  epochs        lr  \\\n",
            "0   resnet18       0.45  False      False      0.4        0      20  0.000275   \n",
            "\n",
            "   batch_size  start_frame  ...  valid_acc  valid_auc  valid_f2  \\\n",
            "0           8            0  ...   0.808219   0.912281  0.815217   \n",
            "\n",
            "   valid_precision  valid_recall  test_acc  test_auc   test_f2  \\\n",
            "0         0.535714        0.9375  0.849315  0.910636  0.784884   \n",
            "\n",
            "   test_precision  test_recall  \n",
            "0        0.613636      0.84375  \n",
            "\n",
            "[1 rows x 21 columns]\n",
            "\n",
            "Valid - % errores por banda de FEVI\n",
            "3.0         NaN\n",
            "4.0    0.153846\n",
            "5.0    0.369565\n",
            "6.0    0.132353\n",
            "Name: FEVI10, dtype: float64\n",
            "\n",
            "Test - % errores por banda de FEVI\n",
            "3.0    0.052632\n",
            "4.0    0.307692\n",
            "5.0    0.217391\n",
            "6.0    0.102941\n",
            "Name: FEVI10, dtype: float64\n"
          ]
        },
        {
          "output_type": "display_data",
          "data": {
            "text/plain": [
              "<IPython.core.display.HTML object>"
            ],
            "text/html": [
              "\n",
              "<style>\n",
              "    /* Turns off some styling */\n",
              "    progress {\n",
              "        /* gets rid of default border in Firefox and Opera. */\n",
              "        border: none;\n",
              "        /* Needs to be in here for Safari polyfill so background images work as expected. */\n",
              "        background-size: auto;\n",
              "    }\n",
              "    progress:not([value]), progress:not([value])::-webkit-progress-bar {\n",
              "        background: repeating-linear-gradient(45deg, #7e7e7e, #7e7e7e 10px, #5c5c5c 10px, #5c5c5c 20px);\n",
              "    }\n",
              "    .progress-bar-interrupted, .progress-bar-interrupted::-webkit-progress-bar {\n",
              "        background: #F44336;\n",
              "    }\n",
              "</style>\n"
            ]
          },
          "metadata": {}
        },
        {
          "output_type": "display_data",
          "data": {
            "text/plain": [
              "<IPython.core.display.HTML object>"
            ],
            "text/html": []
          },
          "metadata": {}
        },
        {
          "output_type": "display_data",
          "data": {
            "text/plain": [
              "<IPython.core.display.HTML object>"
            ],
            "text/html": [
              "\n",
              "<style>\n",
              "    /* Turns off some styling */\n",
              "    progress {\n",
              "        /* gets rid of default border in Firefox and Opera. */\n",
              "        border: none;\n",
              "        /* Needs to be in here for Safari polyfill so background images work as expected. */\n",
              "        background-size: auto;\n",
              "    }\n",
              "    progress:not([value]), progress:not([value])::-webkit-progress-bar {\n",
              "        background: repeating-linear-gradient(45deg, #7e7e7e, #7e7e7e 10px, #5c5c5c 10px, #5c5c5c 20px);\n",
              "    }\n",
              "    .progress-bar-interrupted, .progress-bar-interrupted::-webkit-progress-bar {\n",
              "        background: #F44336;\n",
              "    }\n",
              "</style>\n"
            ]
          },
          "metadata": {}
        },
        {
          "output_type": "display_data",
          "data": {
            "text/plain": [
              "<IPython.core.display.HTML object>"
            ],
            "text/html": [
              "\n",
              "    <div>\n",
              "      <progress value='0' class='' max='20' style='width:300px; height:20px; vertical-align: middle;'></progress>\n",
              "      \n",
              "    </div>\n",
              "    \n"
            ]
          },
          "metadata": {}
        },
        {
          "output_type": "display_data",
          "data": {
            "text/plain": [
              "<IPython.core.display.HTML object>"
            ],
            "text/html": [
              "\n",
              "<style>\n",
              "    /* Turns off some styling */\n",
              "    progress {\n",
              "        /* gets rid of default border in Firefox and Opera. */\n",
              "        border: none;\n",
              "        /* Needs to be in here for Safari polyfill so background images work as expected. */\n",
              "        background-size: auto;\n",
              "    }\n",
              "    progress:not([value]), progress:not([value])::-webkit-progress-bar {\n",
              "        background: repeating-linear-gradient(45deg, #7e7e7e, #7e7e7e 10px, #5c5c5c 10px, #5c5c5c 20px);\n",
              "    }\n",
              "    .progress-bar-interrupted, .progress-bar-interrupted::-webkit-progress-bar {\n",
              "        background: #F44336;\n",
              "    }\n",
              "</style>\n"
            ]
          },
          "metadata": {}
        },
        {
          "output_type": "display_data",
          "data": {
            "text/plain": [
              "<IPython.core.display.HTML object>"
            ],
            "text/html": []
          },
          "metadata": {}
        },
        {
          "output_type": "stream",
          "name": "stdout",
          "text": [
            "  model_arch  threshold   bcet  batch_aug  dropout  oversmp  epochs        lr  \\\n",
            "0   resnet18        0.5  False      False      0.4        0      20  0.000275   \n",
            "\n",
            "   batch_size  start_frame  ...  valid_acc  valid_auc  valid_f2  \\\n",
            "0           8            0  ...   0.821918   0.912281  0.824176   \n",
            "\n",
            "   valid_precision  valid_recall  test_acc  test_auc   test_f2  \\\n",
            "0         0.555556        0.9375  0.821918  0.910636  0.767045   \n",
            "\n",
            "   test_precision  test_recall  \n",
            "0          0.5625      0.84375  \n",
            "\n",
            "[1 rows x 21 columns]\n",
            "\n",
            "Valid - % errores por banda de FEVI\n",
            "3.0         NaN\n",
            "4.0    0.153846\n",
            "5.0    0.347826\n",
            "6.0    0.117647\n",
            "Name: FEVI10, dtype: float64\n",
            "\n",
            "Test - % errores por banda de FEVI\n",
            "3.0    0.052632\n",
            "4.0    0.307692\n",
            "5.0    0.260870\n",
            "6.0    0.132353\n",
            "Name: FEVI10, dtype: float64\n"
          ]
        },
        {
          "output_type": "display_data",
          "data": {
            "text/plain": [
              "<IPython.core.display.HTML object>"
            ],
            "text/html": [
              "\n",
              "<style>\n",
              "    /* Turns off some styling */\n",
              "    progress {\n",
              "        /* gets rid of default border in Firefox and Opera. */\n",
              "        border: none;\n",
              "        /* Needs to be in here for Safari polyfill so background images work as expected. */\n",
              "        background-size: auto;\n",
              "    }\n",
              "    progress:not([value]), progress:not([value])::-webkit-progress-bar {\n",
              "        background: repeating-linear-gradient(45deg, #7e7e7e, #7e7e7e 10px, #5c5c5c 10px, #5c5c5c 20px);\n",
              "    }\n",
              "    .progress-bar-interrupted, .progress-bar-interrupted::-webkit-progress-bar {\n",
              "        background: #F44336;\n",
              "    }\n",
              "</style>\n"
            ]
          },
          "metadata": {}
        },
        {
          "output_type": "display_data",
          "data": {
            "text/plain": [
              "<IPython.core.display.HTML object>"
            ],
            "text/html": []
          },
          "metadata": {}
        },
        {
          "output_type": "display_data",
          "data": {
            "text/plain": [
              "<IPython.core.display.HTML object>"
            ],
            "text/html": [
              "\n",
              "<style>\n",
              "    /* Turns off some styling */\n",
              "    progress {\n",
              "        /* gets rid of default border in Firefox and Opera. */\n",
              "        border: none;\n",
              "        /* Needs to be in here for Safari polyfill so background images work as expected. */\n",
              "        background-size: auto;\n",
              "    }\n",
              "    progress:not([value]), progress:not([value])::-webkit-progress-bar {\n",
              "        background: repeating-linear-gradient(45deg, #7e7e7e, #7e7e7e 10px, #5c5c5c 10px, #5c5c5c 20px);\n",
              "    }\n",
              "    .progress-bar-interrupted, .progress-bar-interrupted::-webkit-progress-bar {\n",
              "        background: #F44336;\n",
              "    }\n",
              "</style>\n"
            ]
          },
          "metadata": {}
        },
        {
          "output_type": "display_data",
          "data": {
            "text/plain": [
              "<IPython.core.display.HTML object>"
            ],
            "text/html": [
              "\n",
              "    <div>\n",
              "      <progress value='0' class='' max='20' style='width:300px; height:20px; vertical-align: middle;'></progress>\n",
              "      \n",
              "    </div>\n",
              "    \n"
            ]
          },
          "metadata": {}
        },
        {
          "output_type": "display_data",
          "data": {
            "text/plain": [
              "<IPython.core.display.HTML object>"
            ],
            "text/html": [
              "\n",
              "<style>\n",
              "    /* Turns off some styling */\n",
              "    progress {\n",
              "        /* gets rid of default border in Firefox and Opera. */\n",
              "        border: none;\n",
              "        /* Needs to be in here for Safari polyfill so background images work as expected. */\n",
              "        background-size: auto;\n",
              "    }\n",
              "    progress:not([value]), progress:not([value])::-webkit-progress-bar {\n",
              "        background: repeating-linear-gradient(45deg, #7e7e7e, #7e7e7e 10px, #5c5c5c 10px, #5c5c5c 20px);\n",
              "    }\n",
              "    .progress-bar-interrupted, .progress-bar-interrupted::-webkit-progress-bar {\n",
              "        background: #F44336;\n",
              "    }\n",
              "</style>\n"
            ]
          },
          "metadata": {}
        },
        {
          "output_type": "display_data",
          "data": {
            "text/plain": [
              "<IPython.core.display.HTML object>"
            ],
            "text/html": []
          },
          "metadata": {}
        },
        {
          "output_type": "stream",
          "name": "stdout",
          "text": [
            "  model_arch  threshold   bcet  batch_aug  dropout  oversmp  epochs        lr  \\\n",
            "0   resnet18       0.55  False      False      0.4        0      20  0.000275   \n",
            "\n",
            "   batch_size  start_frame  ...  valid_acc  valid_auc  valid_f2  \\\n",
            "0           8            0  ...   0.842466   0.912281  0.837989   \n",
            "\n",
            "   valid_precision  valid_recall  test_acc  test_auc   test_f2  \\\n",
            "0         0.588235        0.9375  0.849315  0.910636  0.784884   \n",
            "\n",
            "   test_precision  test_recall  \n",
            "0        0.613636      0.84375  \n",
            "\n",
            "[1 rows x 21 columns]\n",
            "\n",
            "Valid - % errores por banda de FEVI\n",
            "3.0         NaN\n",
            "4.0    0.153846\n",
            "5.0    0.282609\n",
            "6.0    0.117647\n",
            "Name: FEVI10, dtype: float64\n",
            "\n",
            "Test - % errores por banda de FEVI\n",
            "3.0    0.052632\n",
            "4.0    0.307692\n",
            "5.0    0.217391\n",
            "6.0    0.102941\n",
            "Name: FEVI10, dtype: float64\n"
          ]
        },
        {
          "output_type": "display_data",
          "data": {
            "text/plain": [
              "<IPython.core.display.HTML object>"
            ],
            "text/html": [
              "\n",
              "<style>\n",
              "    /* Turns off some styling */\n",
              "    progress {\n",
              "        /* gets rid of default border in Firefox and Opera. */\n",
              "        border: none;\n",
              "        /* Needs to be in here for Safari polyfill so background images work as expected. */\n",
              "        background-size: auto;\n",
              "    }\n",
              "    progress:not([value]), progress:not([value])::-webkit-progress-bar {\n",
              "        background: repeating-linear-gradient(45deg, #7e7e7e, #7e7e7e 10px, #5c5c5c 10px, #5c5c5c 20px);\n",
              "    }\n",
              "    .progress-bar-interrupted, .progress-bar-interrupted::-webkit-progress-bar {\n",
              "        background: #F44336;\n",
              "    }\n",
              "</style>\n"
            ]
          },
          "metadata": {}
        },
        {
          "output_type": "display_data",
          "data": {
            "text/plain": [
              "<IPython.core.display.HTML object>"
            ],
            "text/html": []
          },
          "metadata": {}
        },
        {
          "output_type": "display_data",
          "data": {
            "text/plain": [
              "<IPython.core.display.HTML object>"
            ],
            "text/html": [
              "\n",
              "<style>\n",
              "    /* Turns off some styling */\n",
              "    progress {\n",
              "        /* gets rid of default border in Firefox and Opera. */\n",
              "        border: none;\n",
              "        /* Needs to be in here for Safari polyfill so background images work as expected. */\n",
              "        background-size: auto;\n",
              "    }\n",
              "    progress:not([value]), progress:not([value])::-webkit-progress-bar {\n",
              "        background: repeating-linear-gradient(45deg, #7e7e7e, #7e7e7e 10px, #5c5c5c 10px, #5c5c5c 20px);\n",
              "    }\n",
              "    .progress-bar-interrupted, .progress-bar-interrupted::-webkit-progress-bar {\n",
              "        background: #F44336;\n",
              "    }\n",
              "</style>\n"
            ]
          },
          "metadata": {}
        },
        {
          "output_type": "display_data",
          "data": {
            "text/plain": [
              "<IPython.core.display.HTML object>"
            ],
            "text/html": [
              "\n",
              "    <div>\n",
              "      <progress value='0' class='' max='20' style='width:300px; height:20px; vertical-align: middle;'></progress>\n",
              "      \n",
              "    </div>\n",
              "    \n"
            ]
          },
          "metadata": {}
        },
        {
          "output_type": "display_data",
          "data": {
            "text/plain": [
              "<IPython.core.display.HTML object>"
            ],
            "text/html": [
              "\n",
              "<style>\n",
              "    /* Turns off some styling */\n",
              "    progress {\n",
              "        /* gets rid of default border in Firefox and Opera. */\n",
              "        border: none;\n",
              "        /* Needs to be in here for Safari polyfill so background images work as expected. */\n",
              "        background-size: auto;\n",
              "    }\n",
              "    progress:not([value]), progress:not([value])::-webkit-progress-bar {\n",
              "        background: repeating-linear-gradient(45deg, #7e7e7e, #7e7e7e 10px, #5c5c5c 10px, #5c5c5c 20px);\n",
              "    }\n",
              "    .progress-bar-interrupted, .progress-bar-interrupted::-webkit-progress-bar {\n",
              "        background: #F44336;\n",
              "    }\n",
              "</style>\n"
            ]
          },
          "metadata": {}
        },
        {
          "output_type": "display_data",
          "data": {
            "text/plain": [
              "<IPython.core.display.HTML object>"
            ],
            "text/html": []
          },
          "metadata": {}
        },
        {
          "output_type": "stream",
          "name": "stdout",
          "text": [
            "  model_arch  threshold   bcet  batch_aug  dropout  oversmp  epochs        lr  \\\n",
            "0   resnet18        0.6  False      False      0.4        0      20  0.000275   \n",
            "\n",
            "   batch_size  start_frame  ...  valid_acc  valid_auc  valid_f2  \\\n",
            "0           8            0  ...   0.869863   0.912281  0.857143   \n",
            "\n",
            "   valid_precision  valid_recall  test_acc  test_auc   test_f2  \\\n",
            "0         0.638298        0.9375  0.842466  0.910636  0.760234   \n",
            "\n",
            "   test_precision  test_recall  \n",
            "0        0.604651       0.8125  \n",
            "\n",
            "[1 rows x 21 columns]\n",
            "\n",
            "Valid - % errores por banda de FEVI\n",
            "3.0         NaN\n",
            "4.0    0.153846\n",
            "5.0    0.239130\n",
            "6.0    0.088235\n",
            "Name: FEVI10, dtype: float64\n",
            "\n",
            "Test - % errores por banda de FEVI\n",
            "3.0    0.052632\n",
            "4.0    0.384615\n",
            "5.0    0.217391\n",
            "6.0    0.102941\n",
            "Name: FEVI10, dtype: float64\n"
          ]
        },
        {
          "output_type": "display_data",
          "data": {
            "text/plain": [
              "<IPython.core.display.HTML object>"
            ],
            "text/html": [
              "\n",
              "<style>\n",
              "    /* Turns off some styling */\n",
              "    progress {\n",
              "        /* gets rid of default border in Firefox and Opera. */\n",
              "        border: none;\n",
              "        /* Needs to be in here for Safari polyfill so background images work as expected. */\n",
              "        background-size: auto;\n",
              "    }\n",
              "    progress:not([value]), progress:not([value])::-webkit-progress-bar {\n",
              "        background: repeating-linear-gradient(45deg, #7e7e7e, #7e7e7e 10px, #5c5c5c 10px, #5c5c5c 20px);\n",
              "    }\n",
              "    .progress-bar-interrupted, .progress-bar-interrupted::-webkit-progress-bar {\n",
              "        background: #F44336;\n",
              "    }\n",
              "</style>\n"
            ]
          },
          "metadata": {}
        },
        {
          "output_type": "display_data",
          "data": {
            "text/plain": [
              "<IPython.core.display.HTML object>"
            ],
            "text/html": []
          },
          "metadata": {}
        },
        {
          "output_type": "display_data",
          "data": {
            "text/plain": [
              "<IPython.core.display.HTML object>"
            ],
            "text/html": [
              "\n",
              "<style>\n",
              "    /* Turns off some styling */\n",
              "    progress {\n",
              "        /* gets rid of default border in Firefox and Opera. */\n",
              "        border: none;\n",
              "        /* Needs to be in here for Safari polyfill so background images work as expected. */\n",
              "        background-size: auto;\n",
              "    }\n",
              "    progress:not([value]), progress:not([value])::-webkit-progress-bar {\n",
              "        background: repeating-linear-gradient(45deg, #7e7e7e, #7e7e7e 10px, #5c5c5c 10px, #5c5c5c 20px);\n",
              "    }\n",
              "    .progress-bar-interrupted, .progress-bar-interrupted::-webkit-progress-bar {\n",
              "        background: #F44336;\n",
              "    }\n",
              "</style>\n"
            ]
          },
          "metadata": {}
        },
        {
          "output_type": "display_data",
          "data": {
            "text/plain": [
              "<IPython.core.display.HTML object>"
            ],
            "text/html": [
              "\n",
              "    <div>\n",
              "      <progress value='0' class='' max='20' style='width:300px; height:20px; vertical-align: middle;'></progress>\n",
              "      \n",
              "    </div>\n",
              "    \n"
            ]
          },
          "metadata": {}
        },
        {
          "output_type": "display_data",
          "data": {
            "text/plain": [
              "<IPython.core.display.HTML object>"
            ],
            "text/html": [
              "\n",
              "<style>\n",
              "    /* Turns off some styling */\n",
              "    progress {\n",
              "        /* gets rid of default border in Firefox and Opera. */\n",
              "        border: none;\n",
              "        /* Needs to be in here for Safari polyfill so background images work as expected. */\n",
              "        background-size: auto;\n",
              "    }\n",
              "    progress:not([value]), progress:not([value])::-webkit-progress-bar {\n",
              "        background: repeating-linear-gradient(45deg, #7e7e7e, #7e7e7e 10px, #5c5c5c 10px, #5c5c5c 20px);\n",
              "    }\n",
              "    .progress-bar-interrupted, .progress-bar-interrupted::-webkit-progress-bar {\n",
              "        background: #F44336;\n",
              "    }\n",
              "</style>\n"
            ]
          },
          "metadata": {}
        },
        {
          "output_type": "display_data",
          "data": {
            "text/plain": [
              "<IPython.core.display.HTML object>"
            ],
            "text/html": []
          },
          "metadata": {}
        },
        {
          "output_type": "stream",
          "name": "stdout",
          "text": [
            "  model_arch  threshold   bcet  batch_aug  dropout  oversmp  epochs        lr  \\\n",
            "0   resnet18       0.65  False      False      0.4        0      20  0.000275   \n",
            "\n",
            "   batch_size  start_frame  ...  valid_acc  valid_auc  valid_f2  \\\n",
            "0           8            0  ...   0.863014   0.912281  0.833333   \n",
            "\n",
            "   valid_precision  valid_recall  test_acc  test_auc   test_f2  \\\n",
            "0         0.630435       0.90625  0.849315  0.910636  0.764706   \n",
            "\n",
            "   test_precision  test_recall  \n",
            "0        0.619048       0.8125  \n",
            "\n",
            "[1 rows x 21 columns]\n",
            "\n",
            "Valid - % errores por banda de FEVI\n",
            "3.0         NaN\n",
            "4.0    0.230769\n",
            "5.0    0.239130\n",
            "6.0    0.088235\n",
            "Name: FEVI10, dtype: float64\n",
            "\n",
            "Test - % errores por banda de FEVI\n",
            "3.0    0.052632\n",
            "4.0    0.384615\n",
            "5.0    0.217391\n",
            "6.0    0.088235\n",
            "Name: FEVI10, dtype: float64\n"
          ]
        },
        {
          "output_type": "display_data",
          "data": {
            "text/plain": [
              "<IPython.core.display.HTML object>"
            ],
            "text/html": [
              "\n",
              "<style>\n",
              "    /* Turns off some styling */\n",
              "    progress {\n",
              "        /* gets rid of default border in Firefox and Opera. */\n",
              "        border: none;\n",
              "        /* Needs to be in here for Safari polyfill so background images work as expected. */\n",
              "        background-size: auto;\n",
              "    }\n",
              "    progress:not([value]), progress:not([value])::-webkit-progress-bar {\n",
              "        background: repeating-linear-gradient(45deg, #7e7e7e, #7e7e7e 10px, #5c5c5c 10px, #5c5c5c 20px);\n",
              "    }\n",
              "    .progress-bar-interrupted, .progress-bar-interrupted::-webkit-progress-bar {\n",
              "        background: #F44336;\n",
              "    }\n",
              "</style>\n"
            ]
          },
          "metadata": {}
        },
        {
          "output_type": "display_data",
          "data": {
            "text/plain": [
              "<IPython.core.display.HTML object>"
            ],
            "text/html": []
          },
          "metadata": {}
        },
        {
          "output_type": "display_data",
          "data": {
            "text/plain": [
              "<IPython.core.display.HTML object>"
            ],
            "text/html": [
              "\n",
              "<style>\n",
              "    /* Turns off some styling */\n",
              "    progress {\n",
              "        /* gets rid of default border in Firefox and Opera. */\n",
              "        border: none;\n",
              "        /* Needs to be in here for Safari polyfill so background images work as expected. */\n",
              "        background-size: auto;\n",
              "    }\n",
              "    progress:not([value]), progress:not([value])::-webkit-progress-bar {\n",
              "        background: repeating-linear-gradient(45deg, #7e7e7e, #7e7e7e 10px, #5c5c5c 10px, #5c5c5c 20px);\n",
              "    }\n",
              "    .progress-bar-interrupted, .progress-bar-interrupted::-webkit-progress-bar {\n",
              "        background: #F44336;\n",
              "    }\n",
              "</style>\n"
            ]
          },
          "metadata": {}
        },
        {
          "output_type": "display_data",
          "data": {
            "text/plain": [
              "<IPython.core.display.HTML object>"
            ],
            "text/html": [
              "\n",
              "    <div>\n",
              "      <progress value='0' class='' max='20' style='width:300px; height:20px; vertical-align: middle;'></progress>\n",
              "      \n",
              "    </div>\n",
              "    \n"
            ]
          },
          "metadata": {}
        },
        {
          "output_type": "display_data",
          "data": {
            "text/plain": [
              "<IPython.core.display.HTML object>"
            ],
            "text/html": [
              "\n",
              "<style>\n",
              "    /* Turns off some styling */\n",
              "    progress {\n",
              "        /* gets rid of default border in Firefox and Opera. */\n",
              "        border: none;\n",
              "        /* Needs to be in here for Safari polyfill so background images work as expected. */\n",
              "        background-size: auto;\n",
              "    }\n",
              "    progress:not([value]), progress:not([value])::-webkit-progress-bar {\n",
              "        background: repeating-linear-gradient(45deg, #7e7e7e, #7e7e7e 10px, #5c5c5c 10px, #5c5c5c 20px);\n",
              "    }\n",
              "    .progress-bar-interrupted, .progress-bar-interrupted::-webkit-progress-bar {\n",
              "        background: #F44336;\n",
              "    }\n",
              "</style>\n"
            ]
          },
          "metadata": {}
        },
        {
          "output_type": "display_data",
          "data": {
            "text/plain": [
              "<IPython.core.display.HTML object>"
            ],
            "text/html": []
          },
          "metadata": {}
        },
        {
          "output_type": "stream",
          "name": "stdout",
          "text": [
            "  model_arch  threshold   bcet  batch_aug  dropout  oversmp  epochs        lr  \\\n",
            "0   resnet18        0.7  False      False      0.4        0      20  0.000275   \n",
            "\n",
            "   batch_size  start_frame  ...  valid_acc  valid_auc  valid_f2  \\\n",
            "0           8            0  ...   0.863014   0.912281  0.833333   \n",
            "\n",
            "   valid_precision  valid_recall  test_acc  test_auc   test_f2  \\\n",
            "0         0.630435       0.90625  0.856164  0.910636  0.748503   \n",
            "\n",
            "   test_precision  test_recall  \n",
            "0        0.641026      0.78125  \n",
            "\n",
            "[1 rows x 21 columns]\n",
            "\n",
            "Valid - % errores por banda de FEVI\n",
            "3.0         NaN\n",
            "4.0    0.230769\n",
            "5.0    0.239130\n",
            "6.0    0.088235\n",
            "Name: FEVI10, dtype: float64\n",
            "\n",
            "Test - % errores por banda de FEVI\n",
            "3.0    0.105263\n",
            "4.0    0.384615\n",
            "5.0    0.195652\n",
            "6.0    0.073529\n",
            "Name: FEVI10, dtype: float64\n"
          ]
        },
        {
          "output_type": "display_data",
          "data": {
            "text/plain": [
              "<IPython.core.display.HTML object>"
            ],
            "text/html": [
              "\n",
              "<style>\n",
              "    /* Turns off some styling */\n",
              "    progress {\n",
              "        /* gets rid of default border in Firefox and Opera. */\n",
              "        border: none;\n",
              "        /* Needs to be in here for Safari polyfill so background images work as expected. */\n",
              "        background-size: auto;\n",
              "    }\n",
              "    progress:not([value]), progress:not([value])::-webkit-progress-bar {\n",
              "        background: repeating-linear-gradient(45deg, #7e7e7e, #7e7e7e 10px, #5c5c5c 10px, #5c5c5c 20px);\n",
              "    }\n",
              "    .progress-bar-interrupted, .progress-bar-interrupted::-webkit-progress-bar {\n",
              "        background: #F44336;\n",
              "    }\n",
              "</style>\n"
            ]
          },
          "metadata": {}
        },
        {
          "output_type": "display_data",
          "data": {
            "text/plain": [
              "<IPython.core.display.HTML object>"
            ],
            "text/html": []
          },
          "metadata": {}
        },
        {
          "output_type": "display_data",
          "data": {
            "text/plain": [
              "<IPython.core.display.HTML object>"
            ],
            "text/html": [
              "\n",
              "<style>\n",
              "    /* Turns off some styling */\n",
              "    progress {\n",
              "        /* gets rid of default border in Firefox and Opera. */\n",
              "        border: none;\n",
              "        /* Needs to be in here for Safari polyfill so background images work as expected. */\n",
              "        background-size: auto;\n",
              "    }\n",
              "    progress:not([value]), progress:not([value])::-webkit-progress-bar {\n",
              "        background: repeating-linear-gradient(45deg, #7e7e7e, #7e7e7e 10px, #5c5c5c 10px, #5c5c5c 20px);\n",
              "    }\n",
              "    .progress-bar-interrupted, .progress-bar-interrupted::-webkit-progress-bar {\n",
              "        background: #F44336;\n",
              "    }\n",
              "</style>\n"
            ]
          },
          "metadata": {}
        },
        {
          "output_type": "display_data",
          "data": {
            "text/plain": [
              "<IPython.core.display.HTML object>"
            ],
            "text/html": [
              "\n",
              "    <div>\n",
              "      <progress value='0' class='' max='20' style='width:300px; height:20px; vertical-align: middle;'></progress>\n",
              "      \n",
              "    </div>\n",
              "    \n"
            ]
          },
          "metadata": {}
        },
        {
          "output_type": "display_data",
          "data": {
            "text/plain": [
              "<IPython.core.display.HTML object>"
            ],
            "text/html": [
              "\n",
              "<style>\n",
              "    /* Turns off some styling */\n",
              "    progress {\n",
              "        /* gets rid of default border in Firefox and Opera. */\n",
              "        border: none;\n",
              "        /* Needs to be in here for Safari polyfill so background images work as expected. */\n",
              "        background-size: auto;\n",
              "    }\n",
              "    progress:not([value]), progress:not([value])::-webkit-progress-bar {\n",
              "        background: repeating-linear-gradient(45deg, #7e7e7e, #7e7e7e 10px, #5c5c5c 10px, #5c5c5c 20px);\n",
              "    }\n",
              "    .progress-bar-interrupted, .progress-bar-interrupted::-webkit-progress-bar {\n",
              "        background: #F44336;\n",
              "    }\n",
              "</style>\n"
            ]
          },
          "metadata": {}
        },
        {
          "output_type": "display_data",
          "data": {
            "text/plain": [
              "<IPython.core.display.HTML object>"
            ],
            "text/html": []
          },
          "metadata": {}
        },
        {
          "output_type": "stream",
          "name": "stdout",
          "text": [
            "  model_arch  threshold   bcet  batch_aug  dropout  oversmp  epochs        lr  \\\n",
            "0   resnet18       0.75  False      False      0.4        0      20  0.000275   \n",
            "\n",
            "   batch_size  start_frame  ...  valid_acc  valid_auc  valid_f2  \\\n",
            "0           8            0  ...   0.863014   0.912281  0.833333   \n",
            "\n",
            "   valid_precision  valid_recall  test_acc  test_auc   test_f2  \\\n",
            "0         0.630435       0.90625  0.856164  0.910636  0.727273   \n",
            "\n",
            "   test_precision  test_recall  \n",
            "0        0.648649         0.75  \n",
            "\n",
            "[1 rows x 21 columns]\n",
            "\n",
            "Valid - % errores por banda de FEVI\n",
            "3.0         NaN\n",
            "4.0    0.230769\n",
            "5.0    0.239130\n",
            "6.0    0.088235\n",
            "Name: FEVI10, dtype: float64\n",
            "\n",
            "Test - % errores por banda de FEVI\n",
            "3.0    0.105263\n",
            "4.0    0.461538\n",
            "5.0    0.173913\n",
            "6.0    0.073529\n",
            "Name: FEVI10, dtype: float64\n"
          ]
        },
        {
          "output_type": "display_data",
          "data": {
            "text/plain": [
              "<IPython.core.display.HTML object>"
            ],
            "text/html": [
              "\n",
              "<style>\n",
              "    /* Turns off some styling */\n",
              "    progress {\n",
              "        /* gets rid of default border in Firefox and Opera. */\n",
              "        border: none;\n",
              "        /* Needs to be in here for Safari polyfill so background images work as expected. */\n",
              "        background-size: auto;\n",
              "    }\n",
              "    progress:not([value]), progress:not([value])::-webkit-progress-bar {\n",
              "        background: repeating-linear-gradient(45deg, #7e7e7e, #7e7e7e 10px, #5c5c5c 10px, #5c5c5c 20px);\n",
              "    }\n",
              "    .progress-bar-interrupted, .progress-bar-interrupted::-webkit-progress-bar {\n",
              "        background: #F44336;\n",
              "    }\n",
              "</style>\n"
            ]
          },
          "metadata": {}
        },
        {
          "output_type": "display_data",
          "data": {
            "text/plain": [
              "<IPython.core.display.HTML object>"
            ],
            "text/html": []
          },
          "metadata": {}
        },
        {
          "output_type": "display_data",
          "data": {
            "text/plain": [
              "<IPython.core.display.HTML object>"
            ],
            "text/html": [
              "\n",
              "<style>\n",
              "    /* Turns off some styling */\n",
              "    progress {\n",
              "        /* gets rid of default border in Firefox and Opera. */\n",
              "        border: none;\n",
              "        /* Needs to be in here for Safari polyfill so background images work as expected. */\n",
              "        background-size: auto;\n",
              "    }\n",
              "    progress:not([value]), progress:not([value])::-webkit-progress-bar {\n",
              "        background: repeating-linear-gradient(45deg, #7e7e7e, #7e7e7e 10px, #5c5c5c 10px, #5c5c5c 20px);\n",
              "    }\n",
              "    .progress-bar-interrupted, .progress-bar-interrupted::-webkit-progress-bar {\n",
              "        background: #F44336;\n",
              "    }\n",
              "</style>\n"
            ]
          },
          "metadata": {}
        },
        {
          "output_type": "display_data",
          "data": {
            "text/plain": [
              "<IPython.core.display.HTML object>"
            ],
            "text/html": [
              "\n",
              "    <div>\n",
              "      <progress value='0' class='' max='20' style='width:300px; height:20px; vertical-align: middle;'></progress>\n",
              "      \n",
              "    </div>\n",
              "    \n"
            ]
          },
          "metadata": {}
        },
        {
          "output_type": "display_data",
          "data": {
            "text/plain": [
              "<IPython.core.display.HTML object>"
            ],
            "text/html": [
              "\n",
              "<style>\n",
              "    /* Turns off some styling */\n",
              "    progress {\n",
              "        /* gets rid of default border in Firefox and Opera. */\n",
              "        border: none;\n",
              "        /* Needs to be in here for Safari polyfill so background images work as expected. */\n",
              "        background-size: auto;\n",
              "    }\n",
              "    progress:not([value]), progress:not([value])::-webkit-progress-bar {\n",
              "        background: repeating-linear-gradient(45deg, #7e7e7e, #7e7e7e 10px, #5c5c5c 10px, #5c5c5c 20px);\n",
              "    }\n",
              "    .progress-bar-interrupted, .progress-bar-interrupted::-webkit-progress-bar {\n",
              "        background: #F44336;\n",
              "    }\n",
              "</style>\n"
            ]
          },
          "metadata": {}
        },
        {
          "output_type": "display_data",
          "data": {
            "text/plain": [
              "<IPython.core.display.HTML object>"
            ],
            "text/html": []
          },
          "metadata": {}
        },
        {
          "output_type": "stream",
          "name": "stdout",
          "text": [
            "  model_arch  threshold   bcet  batch_aug  dropout  oversmp  epochs        lr  \\\n",
            "0   resnet18        0.8  False      False      0.4        0      20  0.000275   \n",
            "\n",
            "   batch_size  start_frame  ...  valid_acc  valid_auc  valid_f2  \\\n",
            "0           8            0  ...   0.863014   0.912281   0.77381   \n",
            "\n",
            "   valid_precision  valid_recall  test_acc  test_auc   test_f2  \\\n",
            "0             0.65        0.8125  0.869863  0.910636  0.736196   \n",
            "\n",
            "   test_precision  test_recall  \n",
            "0        0.685714         0.75  \n",
            "\n",
            "[1 rows x 21 columns]\n",
            "\n",
            "Valid - % errores por banda de FEVI\n",
            "3.0         NaN\n",
            "4.0    0.461538\n",
            "5.0    0.195652\n",
            "6.0    0.073529\n",
            "Name: FEVI10, dtype: float64\n",
            "\n",
            "Test - % errores por banda de FEVI\n",
            "3.0    0.105263\n",
            "4.0    0.461538\n",
            "5.0    0.173913\n",
            "6.0    0.044118\n",
            "Name: FEVI10, dtype: float64\n"
          ]
        },
        {
          "output_type": "display_data",
          "data": {
            "text/plain": [
              "<IPython.core.display.HTML object>"
            ],
            "text/html": [
              "\n",
              "<style>\n",
              "    /* Turns off some styling */\n",
              "    progress {\n",
              "        /* gets rid of default border in Firefox and Opera. */\n",
              "        border: none;\n",
              "        /* Needs to be in here for Safari polyfill so background images work as expected. */\n",
              "        background-size: auto;\n",
              "    }\n",
              "    progress:not([value]), progress:not([value])::-webkit-progress-bar {\n",
              "        background: repeating-linear-gradient(45deg, #7e7e7e, #7e7e7e 10px, #5c5c5c 10px, #5c5c5c 20px);\n",
              "    }\n",
              "    .progress-bar-interrupted, .progress-bar-interrupted::-webkit-progress-bar {\n",
              "        background: #F44336;\n",
              "    }\n",
              "</style>\n"
            ]
          },
          "metadata": {}
        },
        {
          "output_type": "display_data",
          "data": {
            "text/plain": [
              "<IPython.core.display.HTML object>"
            ],
            "text/html": []
          },
          "metadata": {}
        },
        {
          "output_type": "display_data",
          "data": {
            "text/plain": [
              "<IPython.core.display.HTML object>"
            ],
            "text/html": [
              "\n",
              "<style>\n",
              "    /* Turns off some styling */\n",
              "    progress {\n",
              "        /* gets rid of default border in Firefox and Opera. */\n",
              "        border: none;\n",
              "        /* Needs to be in here for Safari polyfill so background images work as expected. */\n",
              "        background-size: auto;\n",
              "    }\n",
              "    progress:not([value]), progress:not([value])::-webkit-progress-bar {\n",
              "        background: repeating-linear-gradient(45deg, #7e7e7e, #7e7e7e 10px, #5c5c5c 10px, #5c5c5c 20px);\n",
              "    }\n",
              "    .progress-bar-interrupted, .progress-bar-interrupted::-webkit-progress-bar {\n",
              "        background: #F44336;\n",
              "    }\n",
              "</style>\n"
            ]
          },
          "metadata": {}
        },
        {
          "output_type": "display_data",
          "data": {
            "text/plain": [
              "<IPython.core.display.HTML object>"
            ],
            "text/html": [
              "\n",
              "    <div>\n",
              "      <progress value='0' class='' max='20' style='width:300px; height:20px; vertical-align: middle;'></progress>\n",
              "      \n",
              "    </div>\n",
              "    \n"
            ]
          },
          "metadata": {}
        },
        {
          "output_type": "display_data",
          "data": {
            "text/plain": [
              "<IPython.core.display.HTML object>"
            ],
            "text/html": [
              "\n",
              "<style>\n",
              "    /* Turns off some styling */\n",
              "    progress {\n",
              "        /* gets rid of default border in Firefox and Opera. */\n",
              "        border: none;\n",
              "        /* Needs to be in here for Safari polyfill so background images work as expected. */\n",
              "        background-size: auto;\n",
              "    }\n",
              "    progress:not([value]), progress:not([value])::-webkit-progress-bar {\n",
              "        background: repeating-linear-gradient(45deg, #7e7e7e, #7e7e7e 10px, #5c5c5c 10px, #5c5c5c 20px);\n",
              "    }\n",
              "    .progress-bar-interrupted, .progress-bar-interrupted::-webkit-progress-bar {\n",
              "        background: #F44336;\n",
              "    }\n",
              "</style>\n"
            ]
          },
          "metadata": {}
        },
        {
          "output_type": "display_data",
          "data": {
            "text/plain": [
              "<IPython.core.display.HTML object>"
            ],
            "text/html": []
          },
          "metadata": {}
        },
        {
          "output_type": "stream",
          "name": "stdout",
          "text": [
            "  model_arch  threshold   bcet  batch_aug  dropout  oversmp  epochs        lr  \\\n",
            "0   resnet18       0.85  False      False      0.4        0      20  0.000275   \n",
            "\n",
            "   batch_size  start_frame  ...  valid_acc  valid_auc  valid_f2  \\\n",
            "0           8            0  ...   0.856164   0.912281  0.748503   \n",
            "\n",
            "   valid_precision  valid_recall  test_acc  test_auc  test_f2  test_precision  \\\n",
            "0         0.641026       0.78125  0.890411  0.910636     0.75            0.75   \n",
            "\n",
            "   test_recall  \n",
            "0         0.75  \n",
            "\n",
            "[1 rows x 21 columns]\n",
            "\n",
            "Valid - % errores por banda de FEVI\n",
            "3.0         NaN\n",
            "4.0    0.538462\n",
            "5.0    0.195652\n",
            "6.0    0.073529\n",
            "Name: FEVI10, dtype: float64\n",
            "\n",
            "Test - % errores por banda de FEVI\n",
            "3.0    0.105263\n",
            "4.0    0.461538\n",
            "5.0    0.152174\n",
            "6.0    0.014706\n",
            "Name: FEVI10, dtype: float64\n"
          ]
        },
        {
          "output_type": "display_data",
          "data": {
            "text/plain": [
              "<IPython.core.display.HTML object>"
            ],
            "text/html": [
              "\n",
              "<style>\n",
              "    /* Turns off some styling */\n",
              "    progress {\n",
              "        /* gets rid of default border in Firefox and Opera. */\n",
              "        border: none;\n",
              "        /* Needs to be in here for Safari polyfill so background images work as expected. */\n",
              "        background-size: auto;\n",
              "    }\n",
              "    progress:not([value]), progress:not([value])::-webkit-progress-bar {\n",
              "        background: repeating-linear-gradient(45deg, #7e7e7e, #7e7e7e 10px, #5c5c5c 10px, #5c5c5c 20px);\n",
              "    }\n",
              "    .progress-bar-interrupted, .progress-bar-interrupted::-webkit-progress-bar {\n",
              "        background: #F44336;\n",
              "    }\n",
              "</style>\n"
            ]
          },
          "metadata": {}
        },
        {
          "output_type": "display_data",
          "data": {
            "text/plain": [
              "<IPython.core.display.HTML object>"
            ],
            "text/html": []
          },
          "metadata": {}
        },
        {
          "output_type": "display_data",
          "data": {
            "text/plain": [
              "<IPython.core.display.HTML object>"
            ],
            "text/html": [
              "\n",
              "<style>\n",
              "    /* Turns off some styling */\n",
              "    progress {\n",
              "        /* gets rid of default border in Firefox and Opera. */\n",
              "        border: none;\n",
              "        /* Needs to be in here for Safari polyfill so background images work as expected. */\n",
              "        background-size: auto;\n",
              "    }\n",
              "    progress:not([value]), progress:not([value])::-webkit-progress-bar {\n",
              "        background: repeating-linear-gradient(45deg, #7e7e7e, #7e7e7e 10px, #5c5c5c 10px, #5c5c5c 20px);\n",
              "    }\n",
              "    .progress-bar-interrupted, .progress-bar-interrupted::-webkit-progress-bar {\n",
              "        background: #F44336;\n",
              "    }\n",
              "</style>\n"
            ]
          },
          "metadata": {}
        },
        {
          "output_type": "display_data",
          "data": {
            "text/plain": [
              "<IPython.core.display.HTML object>"
            ],
            "text/html": [
              "\n",
              "    <div>\n",
              "      <progress value='0' class='' max='20' style='width:300px; height:20px; vertical-align: middle;'></progress>\n",
              "      \n",
              "    </div>\n",
              "    \n"
            ]
          },
          "metadata": {}
        },
        {
          "output_type": "display_data",
          "data": {
            "text/plain": [
              "<IPython.core.display.HTML object>"
            ],
            "text/html": [
              "\n",
              "<style>\n",
              "    /* Turns off some styling */\n",
              "    progress {\n",
              "        /* gets rid of default border in Firefox and Opera. */\n",
              "        border: none;\n",
              "        /* Needs to be in here for Safari polyfill so background images work as expected. */\n",
              "        background-size: auto;\n",
              "    }\n",
              "    progress:not([value]), progress:not([value])::-webkit-progress-bar {\n",
              "        background: repeating-linear-gradient(45deg, #7e7e7e, #7e7e7e 10px, #5c5c5c 10px, #5c5c5c 20px);\n",
              "    }\n",
              "    .progress-bar-interrupted, .progress-bar-interrupted::-webkit-progress-bar {\n",
              "        background: #F44336;\n",
              "    }\n",
              "</style>\n"
            ]
          },
          "metadata": {}
        },
        {
          "output_type": "display_data",
          "data": {
            "text/plain": [
              "<IPython.core.display.HTML object>"
            ],
            "text/html": []
          },
          "metadata": {}
        },
        {
          "output_type": "stream",
          "name": "stdout",
          "text": [
            "  model_arch  threshold   bcet  batch_aug  dropout  oversmp  epochs        lr  \\\n",
            "0   resnet18        0.9  False      False      0.4        0      20  0.000275   \n",
            "\n",
            "   batch_size  start_frame  ...  valid_acc  valid_auc  valid_f2  \\\n",
            "0           8            0  ...   0.869863   0.912281  0.714286   \n",
            "\n",
            "   valid_precision  valid_recall  test_acc  test_auc   test_f2  \\\n",
            "0          0.69697       0.71875   0.89726  0.910636  0.709677   \n",
            "\n",
            "   test_precision  test_recall  \n",
            "0        0.814815       0.6875  \n",
            "\n",
            "[1 rows x 21 columns]\n",
            "\n",
            "Valid - % errores por banda de FEVI\n",
            "3.0    0.105263\n",
            "4.0    0.538462\n",
            "5.0    0.173913\n",
            "6.0    0.029412\n",
            "Name: FEVI10, dtype: float64\n",
            "\n",
            "Test - % errores por banda de FEVI\n",
            "3.0    0.157895\n",
            "4.0    0.538462\n",
            "5.0    0.086957\n",
            "6.0    0.014706\n",
            "Name: FEVI10, dtype: float64\n"
          ]
        },
        {
          "output_type": "display_data",
          "data": {
            "text/plain": [
              "<IPython.core.display.HTML object>"
            ],
            "text/html": [
              "\n",
              "<style>\n",
              "    /* Turns off some styling */\n",
              "    progress {\n",
              "        /* gets rid of default border in Firefox and Opera. */\n",
              "        border: none;\n",
              "        /* Needs to be in here for Safari polyfill so background images work as expected. */\n",
              "        background-size: auto;\n",
              "    }\n",
              "    progress:not([value]), progress:not([value])::-webkit-progress-bar {\n",
              "        background: repeating-linear-gradient(45deg, #7e7e7e, #7e7e7e 10px, #5c5c5c 10px, #5c5c5c 20px);\n",
              "    }\n",
              "    .progress-bar-interrupted, .progress-bar-interrupted::-webkit-progress-bar {\n",
              "        background: #F44336;\n",
              "    }\n",
              "</style>\n"
            ]
          },
          "metadata": {}
        },
        {
          "output_type": "display_data",
          "data": {
            "text/plain": [
              "<IPython.core.display.HTML object>"
            ],
            "text/html": []
          },
          "metadata": {}
        },
        {
          "output_type": "display_data",
          "data": {
            "text/plain": [
              "<IPython.core.display.HTML object>"
            ],
            "text/html": [
              "\n",
              "<style>\n",
              "    /* Turns off some styling */\n",
              "    progress {\n",
              "        /* gets rid of default border in Firefox and Opera. */\n",
              "        border: none;\n",
              "        /* Needs to be in here for Safari polyfill so background images work as expected. */\n",
              "        background-size: auto;\n",
              "    }\n",
              "    progress:not([value]), progress:not([value])::-webkit-progress-bar {\n",
              "        background: repeating-linear-gradient(45deg, #7e7e7e, #7e7e7e 10px, #5c5c5c 10px, #5c5c5c 20px);\n",
              "    }\n",
              "    .progress-bar-interrupted, .progress-bar-interrupted::-webkit-progress-bar {\n",
              "        background: #F44336;\n",
              "    }\n",
              "</style>\n"
            ]
          },
          "metadata": {}
        },
        {
          "output_type": "display_data",
          "data": {
            "text/plain": [
              "<IPython.core.display.HTML object>"
            ],
            "text/html": [
              "\n",
              "    <div>\n",
              "      <progress value='0' class='' max='20' style='width:300px; height:20px; vertical-align: middle;'></progress>\n",
              "      \n",
              "    </div>\n",
              "    \n"
            ]
          },
          "metadata": {}
        },
        {
          "output_type": "display_data",
          "data": {
            "text/plain": [
              "<IPython.core.display.HTML object>"
            ],
            "text/html": [
              "\n",
              "<style>\n",
              "    /* Turns off some styling */\n",
              "    progress {\n",
              "        /* gets rid of default border in Firefox and Opera. */\n",
              "        border: none;\n",
              "        /* Needs to be in here for Safari polyfill so background images work as expected. */\n",
              "        background-size: auto;\n",
              "    }\n",
              "    progress:not([value]), progress:not([value])::-webkit-progress-bar {\n",
              "        background: repeating-linear-gradient(45deg, #7e7e7e, #7e7e7e 10px, #5c5c5c 10px, #5c5c5c 20px);\n",
              "    }\n",
              "    .progress-bar-interrupted, .progress-bar-interrupted::-webkit-progress-bar {\n",
              "        background: #F44336;\n",
              "    }\n",
              "</style>\n"
            ]
          },
          "metadata": {}
        },
        {
          "output_type": "display_data",
          "data": {
            "text/plain": [
              "<IPython.core.display.HTML object>"
            ],
            "text/html": []
          },
          "metadata": {}
        },
        {
          "output_type": "stream",
          "name": "stdout",
          "text": [
            "  model_arch  threshold   bcet  batch_aug  dropout  oversmp  epochs        lr  \\\n",
            "0   resnet18       0.95  False      False      0.4        0      20  0.000275   \n",
            "\n",
            "   batch_size  start_frame  ...  valid_acc  valid_auc  valid_f2  \\\n",
            "0           8            0  ...   0.910959   0.912281  0.718954   \n",
            "\n",
            "   valid_precision  valid_recall  test_acc  test_auc   test_f2  \\\n",
            "0             0.88        0.6875  0.883562  0.910636  0.629139   \n",
            "\n",
            "   test_precision  test_recall  \n",
            "0        0.826087      0.59375  \n",
            "\n",
            "[1 rows x 21 columns]\n",
            "\n",
            "Valid - % errores por banda de FEVI\n",
            "3.0    0.157895\n",
            "4.0    0.538462\n",
            "5.0    0.065217\n",
            "6.0         NaN\n",
            "Name: FEVI10, dtype: float64\n",
            "\n",
            "Test - % errores por banda de FEVI\n",
            "3.0    0.157895\n",
            "4.0    0.769231\n",
            "5.0    0.086957\n",
            "6.0         NaN\n",
            "Name: FEVI10, dtype: float64\n"
          ]
        }
      ]
    },
    {
      "cell_type": "code",
      "source": [
        "# ordenamos resultados para ver que parametros nos da mejores resultados\n",
        "results.sort_values('valid_f2', ascending=True).head(30)"
      ],
      "metadata": {
        "id": "3ebf9WJ4hGd6",
        "colab": {
          "base_uri": "https://localhost:8080/",
          "height": 737
        },
        "outputId": "f7e21172-53ce-4c28-8ffd-7b1f0ef86974"
      },
      "execution_count": null,
      "outputs": [
        {
          "output_type": "execute_result",
          "data": {
            "text/plain": [
              "  model_arch   bcet  batch_aug  dropout  oversmp  epochs        lr  \\\n",
              "0   resnet18  False      False      0.4        0      20  0.000275   \n",
              "0   resnet18  False      False      0.4        0      20  0.000275   \n",
              "0   resnet18  False      False      0.4        0      20  0.000275   \n",
              "0   resnet18  False      False      0.4        0      20  0.000275   \n",
              "0   resnet18  False      False      0.4        0      20  0.000275   \n",
              "0   resnet18  False      False      0.4        0      20  0.000275   \n",
              "0   resnet18  False      False      0.4        0      20  0.000275   \n",
              "0   resnet18  False      False      0.4        0      20  0.000275   \n",
              "0   resnet18  False      False      0.4        0      20  0.000275   \n",
              "0   resnet18  False      False      0.4        0      20  0.000275   \n",
              "0   resnet18  False      False      0.4        0      20  0.000275   \n",
              "0   resnet18  False      False      0.4        0      20  0.000275   \n",
              "0   resnet18  False      False      0.4        0      20  0.000275   \n",
              "0   resnet18  False      False      0.4        0      20  0.000275   \n",
              "0   resnet18  False      False      0.4        0      20  0.000275   \n",
              "0   resnet18  False      False      0.4        0      20  0.000275   \n",
              "0   resnet18  False      False      0.4        0      20  0.000275   \n",
              "0   resnet18  False      False      0.4        0      20  0.000275   \n",
              "0   resnet18  False      False      0.4        0      20  0.000275   \n",
              "0   resnet18  False      False      0.4        0      20  0.000275   \n",
              "0   resnet18  False      False      0.4        0      20  0.000275   \n",
              "\n",
              "   batch_size  start_frame  seq_len  ...  valid_auc  valid_f2  \\\n",
              "0           8            0       40  ...   0.912281  0.583942   \n",
              "0           8            0       40  ...   0.912281  0.710900   \n",
              "0           8            0       40  ...   0.912281  0.714286   \n",
              "0           8            0       40  ...   0.912281  0.718954   \n",
              "0           8            0       40  ...   0.912281  0.746269   \n",
              "0           8            0       40  ...   0.912281  0.748503   \n",
              "0           8            0       40  ...   0.912281  0.757576   \n",
              "0           8            0       40  ...   0.912281  0.769231   \n",
              "0           8            0       40  ...   0.912281  0.773810   \n",
              "0           8            0       40  ...   0.912281  0.785340   \n",
              "0           8            0       40  ...   0.912281  0.797872   \n",
              "0           8            0       40  ...   0.912281  0.806452   \n",
              "0           8            0       40  ...   0.912281  0.806452   \n",
              "0           8            0       40  ...   0.912281  0.815217   \n",
              "0           8            0       40  ...   0.912281  0.824176   \n",
              "0           8            0       40  ...   0.912281  0.824176   \n",
              "0           8            0       40  ...   0.912281  0.833333   \n",
              "0           8            0       40  ...   0.912281  0.833333   \n",
              "0           8            0       40  ...   0.912281  0.833333   \n",
              "0           8            0       40  ...   0.912281  0.837989   \n",
              "0           8            0       40  ...   0.912281  0.857143   \n",
              "\n",
              "   valid_precision  valid_recall  test_acc  test_auc   test_f2  \\\n",
              "0         0.219178       1.00000  0.780822  0.910636  0.000000   \n",
              "0         0.361446       0.93750  0.883562  0.910636  0.629139   \n",
              "0         0.696970       0.71875  0.897260  0.910636  0.709677   \n",
              "0         0.880000       0.68750  0.883562  0.910636  0.629139   \n",
              "0         0.410959       0.93750  0.897260  0.910636  0.709677   \n",
              "0         0.641026       0.78125  0.890411  0.910636  0.750000   \n",
              "0         0.428571       0.93750  0.890411  0.910636  0.750000   \n",
              "0         0.447761       0.93750  0.869863  0.910636  0.736196   \n",
              "0         0.650000       0.81250  0.869863  0.910636  0.736196   \n",
              "0         0.476190       0.93750  0.856164  0.910636  0.727273   \n",
              "0         0.500000       0.93750  0.856164  0.910636  0.748503   \n",
              "0         0.517241       0.93750  0.849315  0.910636  0.764706   \n",
              "0         0.517241       0.93750  0.842466  0.910636  0.760234   \n",
              "0         0.535714       0.93750  0.849315  0.910636  0.784884   \n",
              "0         0.555556       0.93750  0.821918  0.910636  0.767045   \n",
              "0         0.555556       0.93750  0.821918  0.910636  0.767045   \n",
              "0         0.630435       0.90625  0.849315  0.910636  0.764706   \n",
              "0         0.630435       0.90625  0.856164  0.910636  0.748503   \n",
              "0         0.630435       0.90625  0.856164  0.910636  0.727273   \n",
              "0         0.588235       0.93750  0.849315  0.910636  0.784884   \n",
              "0         0.638298       0.93750  0.842466  0.910636  0.760234   \n",
              "\n",
              "   test_precision  test_recall  threshold  \n",
              "0        0.000000      0.00000       0.00  \n",
              "0        0.826087      0.59375       0.05  \n",
              "0        0.814815      0.68750       0.90  \n",
              "0        0.826087      0.59375       0.95  \n",
              "0        0.814815      0.68750       0.10  \n",
              "0        0.750000      0.75000       0.85  \n",
              "0        0.750000      0.75000       0.15  \n",
              "0        0.685714      0.75000       0.20  \n",
              "0        0.685714      0.75000       0.80  \n",
              "0        0.648649      0.75000       0.25  \n",
              "0        0.641026      0.78125       0.30  \n",
              "0        0.619048      0.81250       0.35  \n",
              "0        0.604651      0.81250       0.40  \n",
              "0        0.613636      0.84375       0.45  \n",
              "0        0.562500      0.84375       0.50  \n",
              "0        0.562500      0.84375        NaN  \n",
              "0        0.619048      0.81250       0.65  \n",
              "0        0.641026      0.78125       0.70  \n",
              "0        0.648649      0.75000       0.75  \n",
              "0        0.613636      0.84375       0.55  \n",
              "0        0.604651      0.81250       0.60  \n",
              "\n",
              "[21 rows x 21 columns]"
            ],
            "text/html": [
              "\n",
              "  <div id=\"df-1021f425-1178-49d9-81c1-a38a797787b1\" class=\"colab-df-container\">\n",
              "    <div>\n",
              "<style scoped>\n",
              "    .dataframe tbody tr th:only-of-type {\n",
              "        vertical-align: middle;\n",
              "    }\n",
              "\n",
              "    .dataframe tbody tr th {\n",
              "        vertical-align: top;\n",
              "    }\n",
              "\n",
              "    .dataframe thead th {\n",
              "        text-align: right;\n",
              "    }\n",
              "</style>\n",
              "<table border=\"1\" class=\"dataframe\">\n",
              "  <thead>\n",
              "    <tr style=\"text-align: right;\">\n",
              "      <th></th>\n",
              "      <th>model_arch</th>\n",
              "      <th>bcet</th>\n",
              "      <th>batch_aug</th>\n",
              "      <th>dropout</th>\n",
              "      <th>oversmp</th>\n",
              "      <th>epochs</th>\n",
              "      <th>lr</th>\n",
              "      <th>batch_size</th>\n",
              "      <th>start_frame</th>\n",
              "      <th>seq_len</th>\n",
              "      <th>...</th>\n",
              "      <th>valid_auc</th>\n",
              "      <th>valid_f2</th>\n",
              "      <th>valid_precision</th>\n",
              "      <th>valid_recall</th>\n",
              "      <th>test_acc</th>\n",
              "      <th>test_auc</th>\n",
              "      <th>test_f2</th>\n",
              "      <th>test_precision</th>\n",
              "      <th>test_recall</th>\n",
              "      <th>threshold</th>\n",
              "    </tr>\n",
              "  </thead>\n",
              "  <tbody>\n",
              "    <tr>\n",
              "      <th>0</th>\n",
              "      <td>resnet18</td>\n",
              "      <td>False</td>\n",
              "      <td>False</td>\n",
              "      <td>0.4</td>\n",
              "      <td>0</td>\n",
              "      <td>20</td>\n",
              "      <td>0.000275</td>\n",
              "      <td>8</td>\n",
              "      <td>0</td>\n",
              "      <td>40</td>\n",
              "      <td>...</td>\n",
              "      <td>0.912281</td>\n",
              "      <td>0.583942</td>\n",
              "      <td>0.219178</td>\n",
              "      <td>1.00000</td>\n",
              "      <td>0.780822</td>\n",
              "      <td>0.910636</td>\n",
              "      <td>0.000000</td>\n",
              "      <td>0.000000</td>\n",
              "      <td>0.00000</td>\n",
              "      <td>0.00</td>\n",
              "    </tr>\n",
              "    <tr>\n",
              "      <th>0</th>\n",
              "      <td>resnet18</td>\n",
              "      <td>False</td>\n",
              "      <td>False</td>\n",
              "      <td>0.4</td>\n",
              "      <td>0</td>\n",
              "      <td>20</td>\n",
              "      <td>0.000275</td>\n",
              "      <td>8</td>\n",
              "      <td>0</td>\n",
              "      <td>40</td>\n",
              "      <td>...</td>\n",
              "      <td>0.912281</td>\n",
              "      <td>0.710900</td>\n",
              "      <td>0.361446</td>\n",
              "      <td>0.93750</td>\n",
              "      <td>0.883562</td>\n",
              "      <td>0.910636</td>\n",
              "      <td>0.629139</td>\n",
              "      <td>0.826087</td>\n",
              "      <td>0.59375</td>\n",
              "      <td>0.05</td>\n",
              "    </tr>\n",
              "    <tr>\n",
              "      <th>0</th>\n",
              "      <td>resnet18</td>\n",
              "      <td>False</td>\n",
              "      <td>False</td>\n",
              "      <td>0.4</td>\n",
              "      <td>0</td>\n",
              "      <td>20</td>\n",
              "      <td>0.000275</td>\n",
              "      <td>8</td>\n",
              "      <td>0</td>\n",
              "      <td>40</td>\n",
              "      <td>...</td>\n",
              "      <td>0.912281</td>\n",
              "      <td>0.714286</td>\n",
              "      <td>0.696970</td>\n",
              "      <td>0.71875</td>\n",
              "      <td>0.897260</td>\n",
              "      <td>0.910636</td>\n",
              "      <td>0.709677</td>\n",
              "      <td>0.814815</td>\n",
              "      <td>0.68750</td>\n",
              "      <td>0.90</td>\n",
              "    </tr>\n",
              "    <tr>\n",
              "      <th>0</th>\n",
              "      <td>resnet18</td>\n",
              "      <td>False</td>\n",
              "      <td>False</td>\n",
              "      <td>0.4</td>\n",
              "      <td>0</td>\n",
              "      <td>20</td>\n",
              "      <td>0.000275</td>\n",
              "      <td>8</td>\n",
              "      <td>0</td>\n",
              "      <td>40</td>\n",
              "      <td>...</td>\n",
              "      <td>0.912281</td>\n",
              "      <td>0.718954</td>\n",
              "      <td>0.880000</td>\n",
              "      <td>0.68750</td>\n",
              "      <td>0.883562</td>\n",
              "      <td>0.910636</td>\n",
              "      <td>0.629139</td>\n",
              "      <td>0.826087</td>\n",
              "      <td>0.59375</td>\n",
              "      <td>0.95</td>\n",
              "    </tr>\n",
              "    <tr>\n",
              "      <th>0</th>\n",
              "      <td>resnet18</td>\n",
              "      <td>False</td>\n",
              "      <td>False</td>\n",
              "      <td>0.4</td>\n",
              "      <td>0</td>\n",
              "      <td>20</td>\n",
              "      <td>0.000275</td>\n",
              "      <td>8</td>\n",
              "      <td>0</td>\n",
              "      <td>40</td>\n",
              "      <td>...</td>\n",
              "      <td>0.912281</td>\n",
              "      <td>0.746269</td>\n",
              "      <td>0.410959</td>\n",
              "      <td>0.93750</td>\n",
              "      <td>0.897260</td>\n",
              "      <td>0.910636</td>\n",
              "      <td>0.709677</td>\n",
              "      <td>0.814815</td>\n",
              "      <td>0.68750</td>\n",
              "      <td>0.10</td>\n",
              "    </tr>\n",
              "    <tr>\n",
              "      <th>0</th>\n",
              "      <td>resnet18</td>\n",
              "      <td>False</td>\n",
              "      <td>False</td>\n",
              "      <td>0.4</td>\n",
              "      <td>0</td>\n",
              "      <td>20</td>\n",
              "      <td>0.000275</td>\n",
              "      <td>8</td>\n",
              "      <td>0</td>\n",
              "      <td>40</td>\n",
              "      <td>...</td>\n",
              "      <td>0.912281</td>\n",
              "      <td>0.748503</td>\n",
              "      <td>0.641026</td>\n",
              "      <td>0.78125</td>\n",
              "      <td>0.890411</td>\n",
              "      <td>0.910636</td>\n",
              "      <td>0.750000</td>\n",
              "      <td>0.750000</td>\n",
              "      <td>0.75000</td>\n",
              "      <td>0.85</td>\n",
              "    </tr>\n",
              "    <tr>\n",
              "      <th>0</th>\n",
              "      <td>resnet18</td>\n",
              "      <td>False</td>\n",
              "      <td>False</td>\n",
              "      <td>0.4</td>\n",
              "      <td>0</td>\n",
              "      <td>20</td>\n",
              "      <td>0.000275</td>\n",
              "      <td>8</td>\n",
              "      <td>0</td>\n",
              "      <td>40</td>\n",
              "      <td>...</td>\n",
              "      <td>0.912281</td>\n",
              "      <td>0.757576</td>\n",
              "      <td>0.428571</td>\n",
              "      <td>0.93750</td>\n",
              "      <td>0.890411</td>\n",
              "      <td>0.910636</td>\n",
              "      <td>0.750000</td>\n",
              "      <td>0.750000</td>\n",
              "      <td>0.75000</td>\n",
              "      <td>0.15</td>\n",
              "    </tr>\n",
              "    <tr>\n",
              "      <th>0</th>\n",
              "      <td>resnet18</td>\n",
              "      <td>False</td>\n",
              "      <td>False</td>\n",
              "      <td>0.4</td>\n",
              "      <td>0</td>\n",
              "      <td>20</td>\n",
              "      <td>0.000275</td>\n",
              "      <td>8</td>\n",
              "      <td>0</td>\n",
              "      <td>40</td>\n",
              "      <td>...</td>\n",
              "      <td>0.912281</td>\n",
              "      <td>0.769231</td>\n",
              "      <td>0.447761</td>\n",
              "      <td>0.93750</td>\n",
              "      <td>0.869863</td>\n",
              "      <td>0.910636</td>\n",
              "      <td>0.736196</td>\n",
              "      <td>0.685714</td>\n",
              "      <td>0.75000</td>\n",
              "      <td>0.20</td>\n",
              "    </tr>\n",
              "    <tr>\n",
              "      <th>0</th>\n",
              "      <td>resnet18</td>\n",
              "      <td>False</td>\n",
              "      <td>False</td>\n",
              "      <td>0.4</td>\n",
              "      <td>0</td>\n",
              "      <td>20</td>\n",
              "      <td>0.000275</td>\n",
              "      <td>8</td>\n",
              "      <td>0</td>\n",
              "      <td>40</td>\n",
              "      <td>...</td>\n",
              "      <td>0.912281</td>\n",
              "      <td>0.773810</td>\n",
              "      <td>0.650000</td>\n",
              "      <td>0.81250</td>\n",
              "      <td>0.869863</td>\n",
              "      <td>0.910636</td>\n",
              "      <td>0.736196</td>\n",
              "      <td>0.685714</td>\n",
              "      <td>0.75000</td>\n",
              "      <td>0.80</td>\n",
              "    </tr>\n",
              "    <tr>\n",
              "      <th>0</th>\n",
              "      <td>resnet18</td>\n",
              "      <td>False</td>\n",
              "      <td>False</td>\n",
              "      <td>0.4</td>\n",
              "      <td>0</td>\n",
              "      <td>20</td>\n",
              "      <td>0.000275</td>\n",
              "      <td>8</td>\n",
              "      <td>0</td>\n",
              "      <td>40</td>\n",
              "      <td>...</td>\n",
              "      <td>0.912281</td>\n",
              "      <td>0.785340</td>\n",
              "      <td>0.476190</td>\n",
              "      <td>0.93750</td>\n",
              "      <td>0.856164</td>\n",
              "      <td>0.910636</td>\n",
              "      <td>0.727273</td>\n",
              "      <td>0.648649</td>\n",
              "      <td>0.75000</td>\n",
              "      <td>0.25</td>\n",
              "    </tr>\n",
              "    <tr>\n",
              "      <th>0</th>\n",
              "      <td>resnet18</td>\n",
              "      <td>False</td>\n",
              "      <td>False</td>\n",
              "      <td>0.4</td>\n",
              "      <td>0</td>\n",
              "      <td>20</td>\n",
              "      <td>0.000275</td>\n",
              "      <td>8</td>\n",
              "      <td>0</td>\n",
              "      <td>40</td>\n",
              "      <td>...</td>\n",
              "      <td>0.912281</td>\n",
              "      <td>0.797872</td>\n",
              "      <td>0.500000</td>\n",
              "      <td>0.93750</td>\n",
              "      <td>0.856164</td>\n",
              "      <td>0.910636</td>\n",
              "      <td>0.748503</td>\n",
              "      <td>0.641026</td>\n",
              "      <td>0.78125</td>\n",
              "      <td>0.30</td>\n",
              "    </tr>\n",
              "    <tr>\n",
              "      <th>0</th>\n",
              "      <td>resnet18</td>\n",
              "      <td>False</td>\n",
              "      <td>False</td>\n",
              "      <td>0.4</td>\n",
              "      <td>0</td>\n",
              "      <td>20</td>\n",
              "      <td>0.000275</td>\n",
              "      <td>8</td>\n",
              "      <td>0</td>\n",
              "      <td>40</td>\n",
              "      <td>...</td>\n",
              "      <td>0.912281</td>\n",
              "      <td>0.806452</td>\n",
              "      <td>0.517241</td>\n",
              "      <td>0.93750</td>\n",
              "      <td>0.849315</td>\n",
              "      <td>0.910636</td>\n",
              "      <td>0.764706</td>\n",
              "      <td>0.619048</td>\n",
              "      <td>0.81250</td>\n",
              "      <td>0.35</td>\n",
              "    </tr>\n",
              "    <tr>\n",
              "      <th>0</th>\n",
              "      <td>resnet18</td>\n",
              "      <td>False</td>\n",
              "      <td>False</td>\n",
              "      <td>0.4</td>\n",
              "      <td>0</td>\n",
              "      <td>20</td>\n",
              "      <td>0.000275</td>\n",
              "      <td>8</td>\n",
              "      <td>0</td>\n",
              "      <td>40</td>\n",
              "      <td>...</td>\n",
              "      <td>0.912281</td>\n",
              "      <td>0.806452</td>\n",
              "      <td>0.517241</td>\n",
              "      <td>0.93750</td>\n",
              "      <td>0.842466</td>\n",
              "      <td>0.910636</td>\n",
              "      <td>0.760234</td>\n",
              "      <td>0.604651</td>\n",
              "      <td>0.81250</td>\n",
              "      <td>0.40</td>\n",
              "    </tr>\n",
              "    <tr>\n",
              "      <th>0</th>\n",
              "      <td>resnet18</td>\n",
              "      <td>False</td>\n",
              "      <td>False</td>\n",
              "      <td>0.4</td>\n",
              "      <td>0</td>\n",
              "      <td>20</td>\n",
              "      <td>0.000275</td>\n",
              "      <td>8</td>\n",
              "      <td>0</td>\n",
              "      <td>40</td>\n",
              "      <td>...</td>\n",
              "      <td>0.912281</td>\n",
              "      <td>0.815217</td>\n",
              "      <td>0.535714</td>\n",
              "      <td>0.93750</td>\n",
              "      <td>0.849315</td>\n",
              "      <td>0.910636</td>\n",
              "      <td>0.784884</td>\n",
              "      <td>0.613636</td>\n",
              "      <td>0.84375</td>\n",
              "      <td>0.45</td>\n",
              "    </tr>\n",
              "    <tr>\n",
              "      <th>0</th>\n",
              "      <td>resnet18</td>\n",
              "      <td>False</td>\n",
              "      <td>False</td>\n",
              "      <td>0.4</td>\n",
              "      <td>0</td>\n",
              "      <td>20</td>\n",
              "      <td>0.000275</td>\n",
              "      <td>8</td>\n",
              "      <td>0</td>\n",
              "      <td>40</td>\n",
              "      <td>...</td>\n",
              "      <td>0.912281</td>\n",
              "      <td>0.824176</td>\n",
              "      <td>0.555556</td>\n",
              "      <td>0.93750</td>\n",
              "      <td>0.821918</td>\n",
              "      <td>0.910636</td>\n",
              "      <td>0.767045</td>\n",
              "      <td>0.562500</td>\n",
              "      <td>0.84375</td>\n",
              "      <td>0.50</td>\n",
              "    </tr>\n",
              "    <tr>\n",
              "      <th>0</th>\n",
              "      <td>resnet18</td>\n",
              "      <td>False</td>\n",
              "      <td>False</td>\n",
              "      <td>0.4</td>\n",
              "      <td>0</td>\n",
              "      <td>20</td>\n",
              "      <td>0.000275</td>\n",
              "      <td>8</td>\n",
              "      <td>0</td>\n",
              "      <td>40</td>\n",
              "      <td>...</td>\n",
              "      <td>0.912281</td>\n",
              "      <td>0.824176</td>\n",
              "      <td>0.555556</td>\n",
              "      <td>0.93750</td>\n",
              "      <td>0.821918</td>\n",
              "      <td>0.910636</td>\n",
              "      <td>0.767045</td>\n",
              "      <td>0.562500</td>\n",
              "      <td>0.84375</td>\n",
              "      <td>NaN</td>\n",
              "    </tr>\n",
              "    <tr>\n",
              "      <th>0</th>\n",
              "      <td>resnet18</td>\n",
              "      <td>False</td>\n",
              "      <td>False</td>\n",
              "      <td>0.4</td>\n",
              "      <td>0</td>\n",
              "      <td>20</td>\n",
              "      <td>0.000275</td>\n",
              "      <td>8</td>\n",
              "      <td>0</td>\n",
              "      <td>40</td>\n",
              "      <td>...</td>\n",
              "      <td>0.912281</td>\n",
              "      <td>0.833333</td>\n",
              "      <td>0.630435</td>\n",
              "      <td>0.90625</td>\n",
              "      <td>0.849315</td>\n",
              "      <td>0.910636</td>\n",
              "      <td>0.764706</td>\n",
              "      <td>0.619048</td>\n",
              "      <td>0.81250</td>\n",
              "      <td>0.65</td>\n",
              "    </tr>\n",
              "    <tr>\n",
              "      <th>0</th>\n",
              "      <td>resnet18</td>\n",
              "      <td>False</td>\n",
              "      <td>False</td>\n",
              "      <td>0.4</td>\n",
              "      <td>0</td>\n",
              "      <td>20</td>\n",
              "      <td>0.000275</td>\n",
              "      <td>8</td>\n",
              "      <td>0</td>\n",
              "      <td>40</td>\n",
              "      <td>...</td>\n",
              "      <td>0.912281</td>\n",
              "      <td>0.833333</td>\n",
              "      <td>0.630435</td>\n",
              "      <td>0.90625</td>\n",
              "      <td>0.856164</td>\n",
              "      <td>0.910636</td>\n",
              "      <td>0.748503</td>\n",
              "      <td>0.641026</td>\n",
              "      <td>0.78125</td>\n",
              "      <td>0.70</td>\n",
              "    </tr>\n",
              "    <tr>\n",
              "      <th>0</th>\n",
              "      <td>resnet18</td>\n",
              "      <td>False</td>\n",
              "      <td>False</td>\n",
              "      <td>0.4</td>\n",
              "      <td>0</td>\n",
              "      <td>20</td>\n",
              "      <td>0.000275</td>\n",
              "      <td>8</td>\n",
              "      <td>0</td>\n",
              "      <td>40</td>\n",
              "      <td>...</td>\n",
              "      <td>0.912281</td>\n",
              "      <td>0.833333</td>\n",
              "      <td>0.630435</td>\n",
              "      <td>0.90625</td>\n",
              "      <td>0.856164</td>\n",
              "      <td>0.910636</td>\n",
              "      <td>0.727273</td>\n",
              "      <td>0.648649</td>\n",
              "      <td>0.75000</td>\n",
              "      <td>0.75</td>\n",
              "    </tr>\n",
              "    <tr>\n",
              "      <th>0</th>\n",
              "      <td>resnet18</td>\n",
              "      <td>False</td>\n",
              "      <td>False</td>\n",
              "      <td>0.4</td>\n",
              "      <td>0</td>\n",
              "      <td>20</td>\n",
              "      <td>0.000275</td>\n",
              "      <td>8</td>\n",
              "      <td>0</td>\n",
              "      <td>40</td>\n",
              "      <td>...</td>\n",
              "      <td>0.912281</td>\n",
              "      <td>0.837989</td>\n",
              "      <td>0.588235</td>\n",
              "      <td>0.93750</td>\n",
              "      <td>0.849315</td>\n",
              "      <td>0.910636</td>\n",
              "      <td>0.784884</td>\n",
              "      <td>0.613636</td>\n",
              "      <td>0.84375</td>\n",
              "      <td>0.55</td>\n",
              "    </tr>\n",
              "    <tr>\n",
              "      <th>0</th>\n",
              "      <td>resnet18</td>\n",
              "      <td>False</td>\n",
              "      <td>False</td>\n",
              "      <td>0.4</td>\n",
              "      <td>0</td>\n",
              "      <td>20</td>\n",
              "      <td>0.000275</td>\n",
              "      <td>8</td>\n",
              "      <td>0</td>\n",
              "      <td>40</td>\n",
              "      <td>...</td>\n",
              "      <td>0.912281</td>\n",
              "      <td>0.857143</td>\n",
              "      <td>0.638298</td>\n",
              "      <td>0.93750</td>\n",
              "      <td>0.842466</td>\n",
              "      <td>0.910636</td>\n",
              "      <td>0.760234</td>\n",
              "      <td>0.604651</td>\n",
              "      <td>0.81250</td>\n",
              "      <td>0.60</td>\n",
              "    </tr>\n",
              "  </tbody>\n",
              "</table>\n",
              "<p>21 rows × 21 columns</p>\n",
              "</div>\n",
              "    <div class=\"colab-df-buttons\">\n",
              "\n",
              "  <div class=\"colab-df-container\">\n",
              "    <button class=\"colab-df-convert\" onclick=\"convertToInteractive('df-1021f425-1178-49d9-81c1-a38a797787b1')\"\n",
              "            title=\"Convert this dataframe to an interactive table.\"\n",
              "            style=\"display:none;\">\n",
              "\n",
              "  <svg xmlns=\"http://www.w3.org/2000/svg\" height=\"24px\" viewBox=\"0 -960 960 960\">\n",
              "    <path d=\"M120-120v-720h720v720H120Zm60-500h600v-160H180v160Zm220 220h160v-160H400v160Zm0 220h160v-160H400v160ZM180-400h160v-160H180v160Zm440 0h160v-160H620v160ZM180-180h160v-160H180v160Zm440 0h160v-160H620v160Z\"/>\n",
              "  </svg>\n",
              "    </button>\n",
              "\n",
              "  <style>\n",
              "    .colab-df-container {\n",
              "      display:flex;\n",
              "      gap: 12px;\n",
              "    }\n",
              "\n",
              "    .colab-df-convert {\n",
              "      background-color: #E8F0FE;\n",
              "      border: none;\n",
              "      border-radius: 50%;\n",
              "      cursor: pointer;\n",
              "      display: none;\n",
              "      fill: #1967D2;\n",
              "      height: 32px;\n",
              "      padding: 0 0 0 0;\n",
              "      width: 32px;\n",
              "    }\n",
              "\n",
              "    .colab-df-convert:hover {\n",
              "      background-color: #E2EBFA;\n",
              "      box-shadow: 0px 1px 2px rgba(60, 64, 67, 0.3), 0px 1px 3px 1px rgba(60, 64, 67, 0.15);\n",
              "      fill: #174EA6;\n",
              "    }\n",
              "\n",
              "    .colab-df-buttons div {\n",
              "      margin-bottom: 4px;\n",
              "    }\n",
              "\n",
              "    [theme=dark] .colab-df-convert {\n",
              "      background-color: #3B4455;\n",
              "      fill: #D2E3FC;\n",
              "    }\n",
              "\n",
              "    [theme=dark] .colab-df-convert:hover {\n",
              "      background-color: #434B5C;\n",
              "      box-shadow: 0px 1px 3px 1px rgba(0, 0, 0, 0.15);\n",
              "      filter: drop-shadow(0px 1px 2px rgba(0, 0, 0, 0.3));\n",
              "      fill: #FFFFFF;\n",
              "    }\n",
              "  </style>\n",
              "\n",
              "    <script>\n",
              "      const buttonEl =\n",
              "        document.querySelector('#df-1021f425-1178-49d9-81c1-a38a797787b1 button.colab-df-convert');\n",
              "      buttonEl.style.display =\n",
              "        google.colab.kernel.accessAllowed ? 'block' : 'none';\n",
              "\n",
              "      async function convertToInteractive(key) {\n",
              "        const element = document.querySelector('#df-1021f425-1178-49d9-81c1-a38a797787b1');\n",
              "        const dataTable =\n",
              "          await google.colab.kernel.invokeFunction('convertToInteractive',\n",
              "                                                    [key], {});\n",
              "        if (!dataTable) return;\n",
              "\n",
              "        const docLinkHtml = 'Like what you see? Visit the ' +\n",
              "          '<a target=\"_blank\" href=https://colab.research.google.com/notebooks/data_table.ipynb>data table notebook</a>'\n",
              "          + ' to learn more about interactive tables.';\n",
              "        element.innerHTML = '';\n",
              "        dataTable['output_type'] = 'display_data';\n",
              "        await google.colab.output.renderOutput(dataTable, element);\n",
              "        const docLink = document.createElement('div');\n",
              "        docLink.innerHTML = docLinkHtml;\n",
              "        element.appendChild(docLink);\n",
              "      }\n",
              "    </script>\n",
              "  </div>\n",
              "\n",
              "\n",
              "<div id=\"df-44f1a9b4-1856-4881-bd0c-0dd25dc9b835\">\n",
              "  <button class=\"colab-df-quickchart\" onclick=\"quickchart('df-44f1a9b4-1856-4881-bd0c-0dd25dc9b835')\"\n",
              "            title=\"Suggest charts.\"\n",
              "            style=\"display:none;\">\n",
              "\n",
              "<svg xmlns=\"http://www.w3.org/2000/svg\" height=\"24px\"viewBox=\"0 0 24 24\"\n",
              "     width=\"24px\">\n",
              "    <g>\n",
              "        <path d=\"M19 3H5c-1.1 0-2 .9-2 2v14c0 1.1.9 2 2 2h14c1.1 0 2-.9 2-2V5c0-1.1-.9-2-2-2zM9 17H7v-7h2v7zm4 0h-2V7h2v10zm4 0h-2v-4h2v4z\"/>\n",
              "    </g>\n",
              "</svg>\n",
              "  </button>\n",
              "\n",
              "<style>\n",
              "  .colab-df-quickchart {\n",
              "      --bg-color: #E8F0FE;\n",
              "      --fill-color: #1967D2;\n",
              "      --hover-bg-color: #E2EBFA;\n",
              "      --hover-fill-color: #174EA6;\n",
              "      --disabled-fill-color: #AAA;\n",
              "      --disabled-bg-color: #DDD;\n",
              "  }\n",
              "\n",
              "  [theme=dark] .colab-df-quickchart {\n",
              "      --bg-color: #3B4455;\n",
              "      --fill-color: #D2E3FC;\n",
              "      --hover-bg-color: #434B5C;\n",
              "      --hover-fill-color: #FFFFFF;\n",
              "      --disabled-bg-color: #3B4455;\n",
              "      --disabled-fill-color: #666;\n",
              "  }\n",
              "\n",
              "  .colab-df-quickchart {\n",
              "    background-color: var(--bg-color);\n",
              "    border: none;\n",
              "    border-radius: 50%;\n",
              "    cursor: pointer;\n",
              "    display: none;\n",
              "    fill: var(--fill-color);\n",
              "    height: 32px;\n",
              "    padding: 0;\n",
              "    width: 32px;\n",
              "  }\n",
              "\n",
              "  .colab-df-quickchart:hover {\n",
              "    background-color: var(--hover-bg-color);\n",
              "    box-shadow: 0 1px 2px rgba(60, 64, 67, 0.3), 0 1px 3px 1px rgba(60, 64, 67, 0.15);\n",
              "    fill: var(--button-hover-fill-color);\n",
              "  }\n",
              "\n",
              "  .colab-df-quickchart-complete:disabled,\n",
              "  .colab-df-quickchart-complete:disabled:hover {\n",
              "    background-color: var(--disabled-bg-color);\n",
              "    fill: var(--disabled-fill-color);\n",
              "    box-shadow: none;\n",
              "  }\n",
              "\n",
              "  .colab-df-spinner {\n",
              "    border: 2px solid var(--fill-color);\n",
              "    border-color: transparent;\n",
              "    border-bottom-color: var(--fill-color);\n",
              "    animation:\n",
              "      spin 1s steps(1) infinite;\n",
              "  }\n",
              "\n",
              "  @keyframes spin {\n",
              "    0% {\n",
              "      border-color: transparent;\n",
              "      border-bottom-color: var(--fill-color);\n",
              "      border-left-color: var(--fill-color);\n",
              "    }\n",
              "    20% {\n",
              "      border-color: transparent;\n",
              "      border-left-color: var(--fill-color);\n",
              "      border-top-color: var(--fill-color);\n",
              "    }\n",
              "    30% {\n",
              "      border-color: transparent;\n",
              "      border-left-color: var(--fill-color);\n",
              "      border-top-color: var(--fill-color);\n",
              "      border-right-color: var(--fill-color);\n",
              "    }\n",
              "    40% {\n",
              "      border-color: transparent;\n",
              "      border-right-color: var(--fill-color);\n",
              "      border-top-color: var(--fill-color);\n",
              "    }\n",
              "    60% {\n",
              "      border-color: transparent;\n",
              "      border-right-color: var(--fill-color);\n",
              "    }\n",
              "    80% {\n",
              "      border-color: transparent;\n",
              "      border-right-color: var(--fill-color);\n",
              "      border-bottom-color: var(--fill-color);\n",
              "    }\n",
              "    90% {\n",
              "      border-color: transparent;\n",
              "      border-bottom-color: var(--fill-color);\n",
              "    }\n",
              "  }\n",
              "</style>\n",
              "\n",
              "  <script>\n",
              "    async function quickchart(key) {\n",
              "      const quickchartButtonEl =\n",
              "        document.querySelector('#' + key + ' button');\n",
              "      quickchartButtonEl.disabled = true;  // To prevent multiple clicks.\n",
              "      quickchartButtonEl.classList.add('colab-df-spinner');\n",
              "      try {\n",
              "        const charts = await google.colab.kernel.invokeFunction(\n",
              "            'suggestCharts', [key], {});\n",
              "      } catch (error) {\n",
              "        console.error('Error during call to suggestCharts:', error);\n",
              "      }\n",
              "      quickchartButtonEl.classList.remove('colab-df-spinner');\n",
              "      quickchartButtonEl.classList.add('colab-df-quickchart-complete');\n",
              "    }\n",
              "    (() => {\n",
              "      let quickchartButtonEl =\n",
              "        document.querySelector('#df-44f1a9b4-1856-4881-bd0c-0dd25dc9b835 button');\n",
              "      quickchartButtonEl.style.display =\n",
              "        google.colab.kernel.accessAllowed ? 'block' : 'none';\n",
              "    })();\n",
              "  </script>\n",
              "</div>\n",
              "    </div>\n",
              "  </div>\n"
            ]
          },
          "metadata": {},
          "execution_count": 53
        }
      ]
    },
    {
      "cell_type": "code",
      "source": [
        "# guardamos en un archivo csv los resultados\n",
        "results.to_csv(\"classification_grid-search_best2_v2.csv\")"
      ],
      "metadata": {
        "id": "_Hx3ZjXGwkgq"
      },
      "execution_count": null,
      "outputs": []
    },
    {
      "cell_type": "code",
      "source": [
        "results.to_excel(\"classification_best2_v2.xlsx\")"
      ],
      "metadata": {
        "id": "IngctilUwizq"
      },
      "execution_count": null,
      "outputs": []
    },
    {
      "cell_type": "markdown",
      "source": [
        "## Curva ROC"
      ],
      "metadata": {
        "id": "SY7dI_A4dyuq"
      }
    },
    {
      "cell_type": "code",
      "source": [
        "# calcular las tasas de verdaderos y falsos positivos\n",
        "fpr, tpr, _ = roc_curve(targets, preds.cpu()[:, 1])\n",
        "\n",
        "# calcular el AUC\n",
        "roc_auc = auc(fpr, tpr)\n",
        "\n",
        "# crear la figura para el gráfico\n",
        "plt.figure()\n",
        "\n",
        "# dibujar la curva ROC\n",
        "plt.plot(fpr, tpr, color='darkorange', lw=2, label='Curva ROC (area = %0.2f)' % roc_auc)\n",
        "\n",
        "# dibujar la línea diagonal que representa un clasificador aleatorio\n",
        "plt.plot([0, 1], [0, 1], color='navy', lw=2, linestyle='--')\n",
        "\n",
        "# especificar los límites de los ejes x e y\n",
        "plt.xlim([0.0, 1.0])\n",
        "plt.ylim([0.0, 1.05])\n",
        "\n",
        "# añadir etiquetas y un título\n",
        "plt.xlabel('Tasa de Falsos Positivos')\n",
        "plt.ylabel('Tasa de Verdaderos Positivos')\n",
        "plt.title('Curva ROC')\n",
        "plt.legend(loc=\"lower right\")\n",
        "plt.show()"
      ],
      "metadata": {
        "id": "on-RgINswZ0F",
        "colab": {
          "base_uri": "https://localhost:8080/",
          "height": 472
        },
        "outputId": "c174b171-f14f-4793-b967-ba7c5bcd8335"
      },
      "execution_count": null,
      "outputs": [
        {
          "output_type": "display_data",
          "data": {
            "text/plain": [
              "<Figure size 640x480 with 1 Axes>"
            ],
            "image/png": "[encoded data removed]"
          },
          "metadata": {}
        }
      ]
    },
    {
      "cell_type": "code",
      "source": [
        "# obtenemos las predicciones y etiquetas del conjunto de validacion\n",
        "preds, targets = learn.get_preds(ds_idx=1)\n",
        "predicted_probs = preds[:, 1]\n",
        "\n",
        "# calculamos la curva ROC para el conjunto de validacion\n",
        "fpr, tpr, _ = roc_curve(targets.cpu(), predicted_probs.cpu())\n",
        "test_auc = auc(fpr, tpr)\n",
        "\n",
        "# dibujamos la curva ROC en el conjunto de validacion\n",
        "plt.figure(figsize=(8, 6))\n",
        "plt.plot(fpr, tpr, color='darkorange', lw=2, label=f'Curva ROC (AUC = {test_auc:.2f})')\n",
        "plt.plot([0, 1], [0, 1], color='navy', lw=2, linestyle='--')\n",
        "plt.xlim([0.0, 1.0])\n",
        "plt.ylim([0.0, 1.05])\n",
        "plt.xlabel('Tasa de Falsos Positivos')\n",
        "plt.ylabel('Tasa de Verdaderos Positivos')\n",
        "plt.title('Curva ROC Validación')\n",
        "plt.legend(loc='lower right')\n",
        "plt.show()"
      ],
      "metadata": {
        "id": "ahEf5m5HmZSR",
        "colab": {
          "base_uri": "https://localhost:8080/",
          "height": 564
        },
        "outputId": "355c0c28-25ed-4a44-f021-2db94964fc1f"
      },
      "execution_count": null,
      "outputs": [
        {
          "output_type": "display_data",
          "data": {
            "text/plain": [
              "<IPython.core.display.HTML object>"
            ],
            "text/html": [
              "\n",
              "<style>\n",
              "    /* Turns off some styling */\n",
              "    progress {\n",
              "        /* gets rid of default border in Firefox and Opera. */\n",
              "        border: none;\n",
              "        /* Needs to be in here for Safari polyfill so background images work as expected. */\n",
              "        background-size: auto;\n",
              "    }\n",
              "    progress:not([value]), progress:not([value])::-webkit-progress-bar {\n",
              "        background: repeating-linear-gradient(45deg, #7e7e7e, #7e7e7e 10px, #5c5c5c 10px, #5c5c5c 20px);\n",
              "    }\n",
              "    .progress-bar-interrupted, .progress-bar-interrupted::-webkit-progress-bar {\n",
              "        background: #F44336;\n",
              "    }\n",
              "</style>\n"
            ]
          },
          "metadata": {}
        },
        {
          "output_type": "display_data",
          "data": {
            "text/plain": [
              "<IPython.core.display.HTML object>"
            ],
            "text/html": []
          },
          "metadata": {}
        },
        {
          "output_type": "display_data",
          "data": {
            "text/plain": [
              "<Figure size 800x600 with 1 Axes>"
            ],
            "image/png": "[encoded data removed]"
          },
          "metadata": {}
        }
      ]
    },
    {
      "cell_type": "markdown",
      "source": [
        "## Curva de calibracion"
      ],
      "metadata": {
        "id": "qeL6lDuZftBW"
      }
    },
    {
      "cell_type": "code",
      "source": [
        "# calculamos la curva de calibración para todas las probabilidades predichas y etiquetas verdaderas\n",
        "y_pred_prob = preds[:, 1].cpu().numpy()\n",
        "prob_true, prob_pred = calibration_curve(targets.cpu(), y_pred_prob, n_bins=9)\n",
        "\n",
        "# calculamos el Error de Calibración\n",
        "calibration_error = np.abs(prob_true - prob_pred).mean()\n",
        "\n",
        "# dibujamos la curva de calibración junto con el Error de Calibración\n",
        "plt.figure(figsize=(8, 6))\n",
        "plt.plot(prob_pred, prob_true, marker='o', linestyle='--', color='blue', label='Curva de Calibración')\n",
        "plt.plot([0, 1], [0, 1], linestyle='--', color='gray', label='Calibración Perfecta')\n",
        "plt.xlabel('Probabilidad Predicha')\n",
        "plt.ylabel('Fracción Positiva Real')\n",
        "plt.title(f'Curva de Calibración (Error de Calibración: {calibration_error:.2f})')\n",
        "plt.legend(loc='best')\n",
        "plt.grid(True)\n",
        "plt.show()"
      ],
      "metadata": {
        "id": "gnELuCmJVWEG",
        "colab": {
          "base_uri": "https://localhost:8080/",
          "height": 564
        },
        "outputId": "e6c792dd-688b-4b61-a651-03c95bc467c1"
      },
      "execution_count": null,
      "outputs": [
        {
          "output_type": "display_data",
          "data": {
            "text/plain": [
              "<Figure size 800x600 with 1 Axes>"
            ],
            "image/png": "[encoded data removed]"
          },
          "metadata": {}
        }
      ]
    },
    {
      "cell_type": "markdown",
      "source": [
        "## Curva de calibracion mejorada"
      ],
      "metadata": {
        "id": "wgHDXfgxf5ZY"
      }
    },
    {
      "cell_type": "code",
      "source": [
        "# calculamos la curva de calibración con estrategia \"quantile\"\n",
        "y_pred_prob = preds[:, 1].cpu().numpy()\n",
        "prob_true, prob_pred = calibration_curve(targets.cpu(), y_pred_prob, n_bins=9, strategy='quantile')\n",
        "#prob_true, prob_pred = calibration_curve(targets.cpu(), y_pred_prob, n_bins=10, strategy='uniform')\n",
        "\n",
        "# Calculamos el Error de Calibración\n",
        "calibration_error = np.abs(prob_true - prob_pred).mean()\n",
        "\n",
        "# dibujamos la curva de calibración\n",
        "plt.figure(figsize=(8, 6))\n",
        "plt.plot(prob_pred, prob_true, marker='o', linestyle='--', color='blue', label='Curva de Calibración')\n",
        "plt.plot([0, 1], [0, 1], linestyle='--', color='gray', label='Calibración Perfecta')\n",
        "plt.xlabel('Probabilidad Predicha')\n",
        "plt.ylabel('Fracción Positiva Real')\n",
        "plt.title(f'Curva de Calibración Mejorada (Error de Calibración: {calibration_error:.2f})')\n",
        "plt.legend(loc='best')\n",
        "plt.grid(True)\n",
        "plt.show()"
      ],
      "metadata": {
        "id": "6PVvHuvYwZ7J",
        "colab": {
          "base_uri": "https://localhost:8080/",
          "height": 565
        },
        "outputId": "5a33d9f6-72e0-4645-e8a1-24315941bcca"
      },
      "execution_count": null,
      "outputs": [
        {
          "output_type": "display_data",
          "data": {
            "text/plain": [
              "<Figure size 800x600 with 1 Axes>"
            ],
            "image/png": "[encoded data removed]"
          },
          "metadata": {}
        }
      ]
    },
    {
      "cell_type": "code",
      "source": [
        "# Inicializa variables para guardar el mejor bin y el menor error de calibración\n",
        "best_bin = 0\n",
        "#min_calibration_error = float('inf')\n",
        "min_calibration_error = 0\n",
        "\n",
        "# Crear un DataFrame para almacenar los resultados\n",
        "results_bins = pd.DataFrame(columns=['Bin', 'Calibration Error'])\n",
        "\n",
        "# Bucle para probar diferentes bins\n",
        "for n_bins in range(21):\n",
        "    # Calcula la curva de calibración para el número actual de bins\n",
        "    y_pred_prob = preds[:, 1].cpu().numpy()\n",
        "    prob_true, prob_pred = calibration_curve(targets.cpu(), y_pred_prob, n_bins=n_bins)\n",
        "\n",
        "    # Calcula el Error de Calibración\n",
        "    calibration_error = np.abs(prob_true - prob_pred).mean()\n",
        "\n",
        "    # Agrega los resultados a la tabla\n",
        "    results_bins = results_bins.append({'Bin': n_bins, 'Calibration Error': calibration_error}, ignore_index=True)\n",
        "\n",
        "    # Actualiza el bin y el error mínimo si es menor que el mínimo anterior\n",
        "    if calibration_error < min_calibration_error:\n",
        "        min_calibration_error = calibration_error\n",
        "        best_bin = n_bins\n",
        "\n",
        "# Vuelve a calcular la curva de calibración con el mejor bin\n",
        "y_pred_prob = preds[:, 1].cpu().numpy()\n",
        "prob_true, prob_pred = calibration_curve(targets.cpu(), y_pred_prob, n_bins=n_bins)\n",
        "\n",
        "# Dibuja la curva de calibración con el mejor bin y el Error de Calibración mínimo\n",
        "plt.figure(figsize=(8, 6))\n",
        "plt.plot(prob_pred, prob_true, marker='o', linestyle='--', color='blue', label='Curva de Calibración')\n",
        "plt.plot([0, 1], [0, 1], linestyle='--', color='gray', label='Calibración Perfecta')\n",
        "plt.xlabel('Probabilidad Predicha')\n",
        "plt.ylabel('Fracción Positiva Real')\n",
        "plt.title(f'Curva de Calibración (Error de Calibración: {min_calibration_error:.2f}, Mejor Bin: {best_bin})')\n",
        "plt.legend(loc='best')\n",
        "plt.grid(True)\n",
        "plt.show()\n",
        "\n",
        "# Imprime la tabla con los errores de calibración\n",
        "print(results_bins)"
      ],
      "metadata": {
        "id": "NLZS9Q_AtCjW",
        "colab": {
          "base_uri": "https://localhost:8080/",
          "height": 971
        },
        "outputId": "43dcaa65-12b4-42c8-abc8-7a8574ad0100"
      },
      "execution_count": null,
      "outputs": [
        {
          "output_type": "display_data",
          "data": {
            "text/plain": [
              "<Figure size 800x600 with 1 Axes>"
            ],
            "image/png": "[encoded data removed]"
          },
          "metadata": {}
        },
        {
          "output_type": "stream",
          "name": "stdout",
          "text": [
            "     Bin  Calibration Error\n",
            "0    0.0           0.148602\n",
            "1    1.0           0.148602\n",
            "2    2.0           0.183268\n",
            "3    3.0           0.248873\n",
            "4    4.0           0.278865\n",
            "5    5.0           0.253430\n",
            "6    6.0           0.274786\n",
            "7    7.0           0.283577\n",
            "8    8.0           0.276435\n",
            "9    9.0           0.263505\n",
            "10  10.0           0.311237\n",
            "11  11.0           0.300970\n",
            "12  12.0           0.297575\n",
            "13  13.0           0.310892\n",
            "14  14.0           0.302247\n",
            "15  15.0           0.313266\n",
            "16  16.0           0.298280\n",
            "17  17.0           0.310717\n",
            "18  18.0           0.333322\n",
            "19  19.0           0.329460\n",
            "20  20.0           0.323206\n"
          ]
        }
      ]
    }
  ]
}